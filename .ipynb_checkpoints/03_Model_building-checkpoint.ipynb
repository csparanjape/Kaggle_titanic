{
 "cells": [
  {
   "cell_type": "markdown",
   "id": "f2b992e4",
   "metadata": {},
   "source": [
    "# Model Building\n",
    "\n",
    "This notebook trains and examins different ML classifiers on training data dataset. \n",
    "\n",
    "* K Nearest neighbours\n",
    "* SVM\n",
    "* Random forest\n",
    "* Logistic regression\n",
    "* ANN"
   ]
  },
  {
   "cell_type": "code",
   "execution_count": 72,
   "id": "c3c3d025",
   "metadata": {},
   "outputs": [],
   "source": [
    "import pandas as pd\n",
    "import numpy as np\n",
    "\n",
    "from sklearn.model_selection import train_test_split, KFold, StratifiedKFold, GridSearchCV\n",
    "\n",
    "from sklearn.linear_model import LogisticRegression\n",
    "from sklearn.ensemble import RandomForestClassifier, AdaBoostClassifier, BaggingClassifier, GradientBoostingClassifier\n",
    "from sklearn.svm import SVC\n",
    "from sklearn.tree import DecisionTreeClassifier\n",
    "from sklearn.neighbors import KNeighborsClassifier\n",
    "import xgboost as xgb\n",
    "\n",
    "import pickle\n",
    "\n",
    "from sklearn.metrics import classification_report, accuracy_score, roc_auc_score, precision_recall_fscore_support\n",
    "from sklearn.utils.class_weight import compute_class_weight"
   ]
  },
  {
   "cell_type": "code",
   "execution_count": 2,
   "id": "9cf0a3e2",
   "metadata": {},
   "outputs": [],
   "source": [
    "df_tr = pd.read_csv('./data/train_features_processed.csv')\n",
    "y_tr = pd.read_csv('./data/train_labels_processed.csv')\n",
    "y_tr = y_tr.squeeze()"
   ]
  },
  {
   "cell_type": "code",
   "execution_count": 3,
   "id": "e47ac51d",
   "metadata": {},
   "outputs": [
    {
     "name": "stdout",
     "output_type": "stream",
     "text": [
      "<class 'pandas.core.frame.DataFrame'>\n",
      "RangeIndex: 891 entries, 0 to 890\n",
      "Data columns (total 9 columns):\n",
      " #   Column   Non-Null Count  Dtype  \n",
      "---  ------   --------------  -----  \n",
      " 0   Age      891 non-null    float64\n",
      " 1   SibSp    891 non-null    float64\n",
      " 2   Parch    891 non-null    float64\n",
      " 3   Fare     891 non-null    float64\n",
      " 4   female   891 non-null    float64\n",
      " 5   C        891 non-null    float64\n",
      " 6   Q        891 non-null    float64\n",
      " 7   Class_2  891 non-null    float64\n",
      " 8   Class_3  891 non-null    float64\n",
      "dtypes: float64(9)\n",
      "memory usage: 62.8 KB\n"
     ]
    }
   ],
   "source": [
    "df_tr.info()"
   ]
  },
  {
   "cell_type": "markdown",
   "id": "49a27691",
   "metadata": {},
   "source": [
    "## 1. Splitting training data\n",
    " Split training dataset into training dataset, cross validation dataset and test dataset - 55%,25% and 20% resp. "
   ]
  },
  {
   "cell_type": "code",
   "execution_count": 4,
   "id": "d538332d",
   "metadata": {},
   "outputs": [],
   "source": [
    "X_train_temp, X_test, y_train_temp, y_test = train_test_split(df_tr,\n",
    "                                                              y_tr,\n",
    "                                                              test_size=0.2,\n",
    "                                                              random_state=42)"
   ]
  },
  {
   "cell_type": "code",
   "execution_count": 5,
   "id": "9576c38b",
   "metadata": {},
   "outputs": [],
   "source": [
    "X_train, X_cv, y_train, y_cv = train_test_split(X_train_temp,\n",
    "                                                y_train_temp,\n",
    "                                                test_size=0.25)"
   ]
  },
  {
   "cell_type": "code",
   "execution_count": 6,
   "id": "73c5cd15",
   "metadata": {},
   "outputs": [
    {
     "data": {
      "text/plain": [
       "pandas.core.series.Series"
      ]
     },
     "execution_count": 6,
     "metadata": {},
     "output_type": "execute_result"
    }
   ],
   "source": [
    "type(y_train)"
   ]
  },
  {
   "cell_type": "markdown",
   "id": "51383b6c",
   "metadata": {},
   "source": [
    "## 2. Model development"
   ]
  },
  {
   "cell_type": "code",
   "execution_count": 7,
   "id": "51e9842d",
   "metadata": {},
   "outputs": [],
   "source": [
    "def bestModel(model, X_train, X_cv, y_train, y_cv, grid):\n",
    "    model_cv = GridSearchCV(model, grid, cv=4)\n",
    "    model_cv.fit(X_train, y_train)\n",
    "    print(\"tuned hpyerparameters :(best parameters) \", model_cv.best_params_)\n",
    "    print(\"accuracy :\", model_cv.best_score_)\n",
    "    mod_best= model_cv.best_estimator_\n",
    "    return mod_best\n",
    "\n",
    "\n",
    "def testModel(model, X_train, X_cv, y_train, y_cv):\n",
    "    model.fit(X_train,y_train)\n",
    "    y_pred_tr = model.predict(X_train)\n",
    "    y_pred_cv = model.predict(X_cv)\n",
    "    precision_tr, recall_tr, fscore_tr, support_tr = precision_recall_fscore_support(\n",
    "        y_train, y_pred_tr, average='macro')\n",
    "    precision_cv, recall_cv, fscore_cv, support_cv = precision_recall_fscore_support(\n",
    "        y_cv, y_pred_cv, average='macro')\n",
    "    report= np.array([precision_tr, recall_tr, fscore_tr, precision_cv, recall_cv, fscore_cv])\n",
    "    return report"
   ]
  },
  {
   "cell_type": "markdown",
   "id": "40f0b4ea",
   "metadata": {},
   "source": [
    "### 1. Logistic Regression"
   ]
  },
  {
   "cell_type": "code",
   "execution_count": 8,
   "id": "03b962ec",
   "metadata": {
    "scrolled": true
   },
   "outputs": [
    {
     "name": "stdout",
     "output_type": "stream",
     "text": [
      "tuned hpyerparameters :(best parameters)  {'C': 0.22854638641349884, 'solver': 'newton-cg'}\n",
      "accuracy : 0.8202923353159017\n"
     ]
    }
   ],
   "source": [
    "logReg = LogisticRegression(class_weight='auto', max_iter=200)\n",
    "grid = {\n",
    "    'C': np.logspace(-5, 0, 40),\n",
    "    'solver': ['newton-cg', 'lbfgs', 'sag', 'saga']\n",
    "}\n",
    "logReg_best=bestModel(logReg, X_train, X_cv, y_train, y_cv, grid)"
   ]
  },
  {
   "cell_type": "markdown",
   "id": "c5663670",
   "metadata": {},
   "source": [
    "### 2. K-Nearest neighbours"
   ]
  },
  {
   "cell_type": "code",
   "execution_count": 9,
   "id": "a3fe5e1a",
   "metadata": {},
   "outputs": [
    {
     "name": "stdout",
     "output_type": "stream",
     "text": [
      "tuned hpyerparameters :(best parameters)  {'algorithm': 'auto', 'n_neighbors': 12, 'weights': 'uniform'}\n",
      "accuracy : 0.8165048816070026\n"
     ]
    }
   ],
   "source": [
    "knn = KNeighborsClassifier()\n",
    "grid = {\n",
    "    'n_neighbors': np.int0(np.linspace(3, 22, 20)),\n",
    "    'weights': ['uniform', 'distance'],\n",
    "    'algorithm': ['auto', 'ball_tree', 'kd_tree', 'brute']\n",
    "}\n",
    "knn_best=bestModel(knn, X_train, X_cv, y_train, y_cv, grid)"
   ]
  },
  {
   "cell_type": "markdown",
   "id": "af1392e2",
   "metadata": {},
   "source": [
    "### 3. Decision tree"
   ]
  },
  {
   "cell_type": "code",
   "execution_count": 10,
   "id": "11ffdba0",
   "metadata": {},
   "outputs": [
    {
     "name": "stdout",
     "output_type": "stream",
     "text": [
      "tuned hpyerparameters :(best parameters)  {'criterion': 'gini', 'splitter': 'best'}\n",
      "accuracy : 0.7585287846481876\n"
     ]
    }
   ],
   "source": [
    "decTree = DecisionTreeClassifier()\n",
    "grid = {'criterion': ['gini', 'entropy'], 'splitter': ['best', 'random']}\n",
    "decTree_best=bestModel(decTree, X_train, X_cv, y_train, y_cv, grid)"
   ]
  },
  {
   "cell_type": "markdown",
   "id": "d47f041a",
   "metadata": {},
   "source": [
    "### 4. Random forest"
   ]
  },
  {
   "cell_type": "code",
   "execution_count": 11,
   "id": "54f01b58",
   "metadata": {},
   "outputs": [
    {
     "name": "stdout",
     "output_type": "stream",
     "text": [
      "tuned hpyerparameters :(best parameters)  {'criterion': 'gini', 'n_estimators': 30}\n",
      "accuracy : 0.7865419144877118\n"
     ]
    }
   ],
   "source": [
    "rnFr = RandomForestClassifier()\n",
    "grid = {\n",
    "    'n_estimators': np.array([10,20,30]),\n",
    "    'criterion': ['gini', 'entropy']\n",
    "}\n",
    "rnFr_best=bestModel(rnFr, X_train, X_cv, y_train, y_cv, grid)"
   ]
  },
  {
   "cell_type": "markdown",
   "id": "57f907c4",
   "metadata": {},
   "source": [
    "### 5. SVM"
   ]
  },
  {
   "cell_type": "code",
   "execution_count": 12,
   "id": "7c53698a",
   "metadata": {},
   "outputs": [
    {
     "name": "stdout",
     "output_type": "stream",
     "text": [
      "tuned hpyerparameters :(best parameters)  {'C': 0.0774263682681127, 'kernel': 'poly'}\n",
      "accuracy : 0.825847267422287\n"
     ]
    }
   ],
   "source": [
    "svm = SVC()\n",
    "grid = {\n",
    "    'C': np.logspace(-5, 2, 10),\n",
    "    'kernel': ['linear', 'poly', 'rbf', 'sigmoid']\n",
    "}\n",
    "svm_best=bestModel(svm, X_train, X_cv, y_train, y_cv, grid)"
   ]
  },
  {
   "cell_type": "markdown",
   "id": "b2780b4f",
   "metadata": {},
   "source": [
    "### 6. ADABoost"
   ]
  },
  {
   "cell_type": "code",
   "execution_count": 13,
   "id": "14778ced",
   "metadata": {},
   "outputs": [
    {
     "name": "stdout",
     "output_type": "stream",
     "text": [
      "tuned hpyerparameters :(best parameters)  {'algorithm': 'SAMME'}\n",
      "accuracy : 0.8053248793625856\n"
     ]
    }
   ],
   "source": [
    "adab = AdaBoostClassifier()\n",
    "grid = {'algorithm': ['SAMME', 'SAMME.R']}\n",
    "adab_best=bestModel(adab, X_train, X_cv, y_train, y_cv, grid)"
   ]
  },
  {
   "cell_type": "markdown",
   "id": "8de113e6",
   "metadata": {},
   "source": [
    "### 7. XGBoost"
   ]
  },
  {
   "cell_type": "code",
   "execution_count": 14,
   "id": "af652589",
   "metadata": {
    "scrolled": true
   },
   "outputs": [
    {
     "name": "stdout",
     "output_type": "stream",
     "text": [
      "[05:58:26] WARNING: /tmp/build/80754af9/xgboost-split_1619724447847/work/src/learner.cc:1061: Starting in XGBoost 1.3.0, the default evaluation metric used with the objective 'binary:logistic' was changed from 'error' to 'logloss'. Explicitly set eval_metric if you'd like to restore the old behavior.\n",
      "[05:58:27] WARNING: /tmp/build/80754af9/xgboost-split_1619724447847/work/src/learner.cc:1061: Starting in XGBoost 1.3.0, the default evaluation metric used with the objective 'binary:logistic' was changed from 'error' to 'logloss'. Explicitly set eval_metric if you'd like to restore the old behavior.\n",
      "[05:58:27] WARNING: /tmp/build/80754af9/xgboost-split_1619724447847/work/src/learner.cc:1061: Starting in XGBoost 1.3.0, the default evaluation metric used with the objective 'binary:logistic' was changed from 'error' to 'logloss'. Explicitly set eval_metric if you'd like to restore the old behavior.\n",
      "[05:58:27] WARNING: /tmp/build/80754af9/xgboost-split_1619724447847/work/src/learner.cc:1061: Starting in XGBoost 1.3.0, the default evaluation metric used with the objective 'binary:logistic' was changed from 'error' to 'logloss'. Explicitly set eval_metric if you'd like to restore the old behavior.\n",
      "[05:58:27] WARNING: /tmp/build/80754af9/xgboost-split_1619724447847/work/src/learner.cc:1061: Starting in XGBoost 1.3.0, the default evaluation metric used with the objective 'binary:logistic' was changed from 'error' to 'logloss'. Explicitly set eval_metric if you'd like to restore the old behavior.\n",
      "[05:58:27] WARNING: /tmp/build/80754af9/xgboost-split_1619724447847/work/src/learner.cc:1061: Starting in XGBoost 1.3.0, the default evaluation metric used with the objective 'binary:logistic' was changed from 'error' to 'logloss'. Explicitly set eval_metric if you'd like to restore the old behavior.\n",
      "[05:58:27] WARNING: /tmp/build/80754af9/xgboost-split_1619724447847/work/src/learner.cc:1061: Starting in XGBoost 1.3.0, the default evaluation metric used with the objective 'binary:logistic' was changed from 'error' to 'logloss'. Explicitly set eval_metric if you'd like to restore the old behavior.\n",
      "[05:58:27] WARNING: /tmp/build/80754af9/xgboost-split_1619724447847/work/src/learner.cc:1061: Starting in XGBoost 1.3.0, the default evaluation metric used with the objective 'binary:logistic' was changed from 'error' to 'logloss'. Explicitly set eval_metric if you'd like to restore the old behavior.\n",
      "[05:58:27] WARNING: /tmp/build/80754af9/xgboost-split_1619724447847/work/src/learner.cc:1061: Starting in XGBoost 1.3.0, the default evaluation metric used with the objective 'binary:logistic' was changed from 'error' to 'logloss'. Explicitly set eval_metric if you'd like to restore the old behavior.\n",
      "[05:58:27] WARNING: /tmp/build/80754af9/xgboost-split_1619724447847/work/src/learner.cc:1061: Starting in XGBoost 1.3.0, the default evaluation metric used with the objective 'binary:logistic' was changed from 'error' to 'logloss'. Explicitly set eval_metric if you'd like to restore the old behavior.\n",
      "[05:58:27] WARNING: /tmp/build/80754af9/xgboost-split_1619724447847/work/src/learner.cc:1061: Starting in XGBoost 1.3.0, the default evaluation metric used with the objective 'binary:logistic' was changed from 'error' to 'logloss'. Explicitly set eval_metric if you'd like to restore the old behavior.\n",
      "[05:58:28] WARNING: /tmp/build/80754af9/xgboost-split_1619724447847/work/src/learner.cc:1061: Starting in XGBoost 1.3.0, the default evaluation metric used with the objective 'binary:logistic' was changed from 'error' to 'logloss'. Explicitly set eval_metric if you'd like to restore the old behavior.\n",
      "[05:58:28] WARNING: /tmp/build/80754af9/xgboost-split_1619724447847/work/src/learner.cc:1061: Starting in XGBoost 1.3.0, the default evaluation metric used with the objective 'binary:logistic' was changed from 'error' to 'logloss'. Explicitly set eval_metric if you'd like to restore the old behavior.\n",
      "tuned hpyerparameters :(best parameters)  {'n_estimators': 100}\n",
      "accuracy : 0.7734962406015038\n"
     ]
    }
   ],
   "source": [
    "xgbst = xgb.XGBClassifier(use_label_encoder=False, objective='binary:logistic')\n",
    "grid = {'n_estimators': np.array([50, 70, 100])}\n",
    "xgbst_best=bestModel(xgbst, X_train, X_cv, y_train, y_cv, grid)"
   ]
  },
  {
   "cell_type": "markdown",
   "id": "19a5a091",
   "metadata": {},
   "source": [
    "### 8. Neural Network"
   ]
  },
  {
   "cell_type": "code",
   "execution_count": 57,
   "id": "0a1e439a",
   "metadata": {},
   "outputs": [],
   "source": [
    "from tensorflow.keras.models import Sequential\n",
    "from tensorflow.keras.layers import Dense,Activation\n",
    "from tensorflow.keras.callbacks import EarlyStopping\n",
    "from tensorflow.keras.layers import Dropout"
   ]
  },
  {
   "cell_type": "code",
   "execution_count": 58,
   "id": "30cd3474",
   "metadata": {},
   "outputs": [],
   "source": [
    "ann_mod=Sequential()\n",
    "ann_mod.add(Dense(units=9,activation='relu'))\n",
    "ann_mod.add(Dropout(0.5))\n",
    "ann_mod.add(Dense(units=18,activation='relu'))\n",
    "ann_mod.add(Dropout(0.5))\n",
    "ann_mod.add(Dense(units=1,activation='sigmoid'))\n",
    "ann_mod.compile(optimizer='adam',loss='binary_crossentropy')"
   ]
  },
  {
   "cell_type": "code",
   "execution_count": 59,
   "id": "d57703cd",
   "metadata": {},
   "outputs": [],
   "source": [
    "early_stop = EarlyStopping(monitor='val_loss', mode='min', verbose=1, patience=25)"
   ]
  },
  {
   "cell_type": "code",
   "execution_count": 60,
   "id": "76a99e90",
   "metadata": {},
   "outputs": [
    {
     "name": "stdout",
     "output_type": "stream",
     "text": [
      "Epoch 1/600\n",
      "17/17 [==============================] - 1s 23ms/step - loss: 0.6649 - val_loss: 0.6591\n",
      "Epoch 2/600\n",
      "17/17 [==============================] - 0s 10ms/step - loss: 0.6610 - val_loss: 0.6495\n",
      "Epoch 3/600\n",
      "17/17 [==============================] - 0s 12ms/step - loss: 0.6396 - val_loss: 0.6400\n",
      "Epoch 4/600\n",
      "17/17 [==============================] - 0s 9ms/step - loss: 0.6051 - val_loss: 0.6284\n",
      "Epoch 5/600\n",
      "17/17 [==============================] - 0s 10ms/step - loss: 0.6127 - val_loss: 0.6174\n",
      "Epoch 6/600\n",
      "17/17 [==============================] - 0s 10ms/step - loss: 0.6203 - val_loss: 0.6078\n",
      "Epoch 7/600\n",
      "17/17 [==============================] - 0s 11ms/step - loss: 0.5818 - val_loss: 0.6003\n",
      "Epoch 8/600\n",
      "17/17 [==============================] - 0s 12ms/step - loss: 0.6215 - val_loss: 0.5940\n",
      "Epoch 9/600\n",
      "17/17 [==============================] - 0s 10ms/step - loss: 0.5816 - val_loss: 0.5885\n",
      "Epoch 10/600\n",
      "17/17 [==============================] - 0s 11ms/step - loss: 0.6008 - val_loss: 0.5831\n",
      "Epoch 11/600\n",
      "17/17 [==============================] - 0s 10ms/step - loss: 0.5617 - val_loss: 0.5753\n",
      "Epoch 12/600\n",
      "17/17 [==============================] - 0s 11ms/step - loss: 0.5768 - val_loss: 0.5696\n",
      "Epoch 13/600\n",
      "17/17 [==============================] - 0s 16ms/step - loss: 0.5721 - val_loss: 0.5655\n",
      "Epoch 14/600\n",
      "17/17 [==============================] - 0s 10ms/step - loss: 0.5857 - val_loss: 0.5601\n",
      "Epoch 15/600\n",
      "17/17 [==============================] - 0s 9ms/step - loss: 0.5595 - val_loss: 0.5562\n",
      "Epoch 16/600\n",
      "17/17 [==============================] - 0s 12ms/step - loss: 0.5542 - val_loss: 0.5488\n",
      "Epoch 17/600\n",
      "17/17 [==============================] - 0s 12ms/step - loss: 0.5696 - val_loss: 0.5444\n",
      "Epoch 18/600\n",
      "17/17 [==============================] - 0s 13ms/step - loss: 0.5665 - val_loss: 0.5403\n",
      "Epoch 19/600\n",
      "17/17 [==============================] - 0s 10ms/step - loss: 0.5575 - val_loss: 0.5361\n",
      "Epoch 20/600\n",
      "17/17 [==============================] - 0s 7ms/step - loss: 0.5416 - val_loss: 0.5294\n",
      "Epoch 21/600\n",
      "17/17 [==============================] - 0s 10ms/step - loss: 0.5456 - val_loss: 0.5232\n",
      "Epoch 22/600\n",
      "17/17 [==============================] - 0s 10ms/step - loss: 0.5336 - val_loss: 0.5200\n",
      "Epoch 23/600\n",
      "17/17 [==============================] - 0s 7ms/step - loss: 0.5788 - val_loss: 0.5196\n",
      "Epoch 24/600\n",
      "17/17 [==============================] - 0s 12ms/step - loss: 0.4973 - val_loss: 0.5159\n",
      "Epoch 25/600\n",
      "17/17 [==============================] - 0s 8ms/step - loss: 0.5767 - val_loss: 0.5102\n",
      "Epoch 26/600\n",
      "17/17 [==============================] - 0s 11ms/step - loss: 0.5270 - val_loss: 0.5080\n",
      "Epoch 27/600\n",
      "17/17 [==============================] - 0s 10ms/step - loss: 0.5524 - val_loss: 0.5059\n",
      "Epoch 28/600\n",
      "17/17 [==============================] - 0s 15ms/step - loss: 0.5317 - val_loss: 0.5027\n",
      "Epoch 29/600\n",
      "17/17 [==============================] - 0s 14ms/step - loss: 0.5012 - val_loss: 0.4988\n",
      "Epoch 30/600\n",
      "17/17 [==============================] - 0s 15ms/step - loss: 0.5380 - val_loss: 0.4954\n",
      "Epoch 31/600\n",
      "17/17 [==============================] - 0s 11ms/step - loss: 0.4876 - val_loss: 0.4955\n",
      "Epoch 32/600\n",
      "17/17 [==============================] - 0s 13ms/step - loss: 0.5566 - val_loss: 0.4943\n",
      "Epoch 33/600\n",
      "17/17 [==============================] - 0s 10ms/step - loss: 0.5005 - val_loss: 0.4898\n",
      "Epoch 34/600\n",
      "17/17 [==============================] - 0s 12ms/step - loss: 0.5312 - val_loss: 0.4890\n",
      "Epoch 35/600\n",
      "17/17 [==============================] - 0s 10ms/step - loss: 0.4767 - val_loss: 0.4885\n",
      "Epoch 36/600\n",
      "17/17 [==============================] - 0s 11ms/step - loss: 0.5177 - val_loss: 0.4866\n",
      "Epoch 37/600\n",
      "17/17 [==============================] - 0s 10ms/step - loss: 0.5276 - val_loss: 0.4856\n",
      "Epoch 38/600\n",
      "17/17 [==============================] - 0s 10ms/step - loss: 0.5279 - val_loss: 0.4852\n",
      "Epoch 39/600\n",
      "17/17 [==============================] - 0s 10ms/step - loss: 0.4916 - val_loss: 0.4825\n",
      "Epoch 40/600\n",
      "17/17 [==============================] - 0s 9ms/step - loss: 0.4975 - val_loss: 0.4811\n",
      "Epoch 41/600\n",
      "17/17 [==============================] - 0s 9ms/step - loss: 0.4789 - val_loss: 0.4761\n",
      "Epoch 42/600\n",
      "17/17 [==============================] - 0s 11ms/step - loss: 0.5169 - val_loss: 0.4740\n",
      "Epoch 43/600\n",
      "17/17 [==============================] - 0s 8ms/step - loss: 0.5063 - val_loss: 0.4736\n",
      "Epoch 44/600\n",
      "17/17 [==============================] - 0s 7ms/step - loss: 0.5120 - val_loss: 0.4741\n",
      "Epoch 45/600\n",
      "17/17 [==============================] - 0s 7ms/step - loss: 0.5155 - val_loss: 0.4751\n",
      "Epoch 46/600\n",
      "17/17 [==============================] - 0s 8ms/step - loss: 0.4691 - val_loss: 0.4727\n",
      "Epoch 47/600\n",
      "17/17 [==============================] - 0s 8ms/step - loss: 0.5050 - val_loss: 0.4735\n",
      "Epoch 48/600\n",
      "17/17 [==============================] - 0s 12ms/step - loss: 0.5122 - val_loss: 0.4734\n",
      "Epoch 49/600\n",
      "17/17 [==============================] - 0s 12ms/step - loss: 0.4737 - val_loss: 0.4726\n",
      "Epoch 50/600\n",
      "17/17 [==============================] - 0s 12ms/step - loss: 0.4433 - val_loss: 0.4718\n",
      "Epoch 51/600\n",
      "17/17 [==============================] - 0s 8ms/step - loss: 0.4778 - val_loss: 0.4702\n",
      "Epoch 52/600\n",
      "17/17 [==============================] - 0s 11ms/step - loss: 0.4987 - val_loss: 0.4704\n",
      "Epoch 53/600\n",
      "17/17 [==============================] - 0s 9ms/step - loss: 0.4580 - val_loss: 0.4708\n",
      "Epoch 54/600\n",
      "17/17 [==============================] - 0s 10ms/step - loss: 0.4924 - val_loss: 0.4712\n",
      "Epoch 55/600\n",
      "17/17 [==============================] - 0s 11ms/step - loss: 0.5272 - val_loss: 0.4681\n",
      "Epoch 56/600\n",
      "17/17 [==============================] - 0s 11ms/step - loss: 0.5114 - val_loss: 0.4677\n",
      "Epoch 57/600\n",
      "17/17 [==============================] - 0s 7ms/step - loss: 0.4490 - val_loss: 0.4656\n",
      "Epoch 58/600\n",
      "17/17 [==============================] - 0s 9ms/step - loss: 0.4821 - val_loss: 0.4649\n",
      "Epoch 59/600\n",
      "17/17 [==============================] - 0s 7ms/step - loss: 0.4543 - val_loss: 0.4638\n",
      "Epoch 60/600\n",
      "17/17 [==============================] - 0s 14ms/step - loss: 0.4636 - val_loss: 0.4631\n",
      "Epoch 61/600\n",
      "17/17 [==============================] - 0s 10ms/step - loss: 0.4806 - val_loss: 0.4636\n",
      "Epoch 62/600\n",
      "17/17 [==============================] - 0s 12ms/step - loss: 0.4569 - val_loss: 0.4631\n",
      "Epoch 63/600\n",
      "17/17 [==============================] - 0s 10ms/step - loss: 0.4447 - val_loss: 0.4627\n",
      "Epoch 64/600\n",
      "17/17 [==============================] - 0s 16ms/step - loss: 0.4738 - val_loss: 0.4632\n",
      "Epoch 65/600\n",
      "17/17 [==============================] - 0s 8ms/step - loss: 0.4927 - val_loss: 0.4656\n",
      "Epoch 66/600\n",
      "17/17 [==============================] - 0s 14ms/step - loss: 0.5186 - val_loss: 0.4677\n",
      "Epoch 67/600\n",
      "17/17 [==============================] - 0s 16ms/step - loss: 0.5023 - val_loss: 0.4682\n",
      "Epoch 68/600\n",
      "17/17 [==============================] - 0s 16ms/step - loss: 0.5182 - val_loss: 0.4685\n",
      "Epoch 69/600\n",
      "17/17 [==============================] - 0s 11ms/step - loss: 0.4766 - val_loss: 0.4681\n",
      "Epoch 70/600\n",
      "17/17 [==============================] - 0s 7ms/step - loss: 0.4631 - val_loss: 0.4658\n",
      "Epoch 71/600\n",
      "17/17 [==============================] - 0s 8ms/step - loss: 0.4757 - val_loss: 0.4634\n",
      "Epoch 72/600\n",
      "17/17 [==============================] - 0s 7ms/step - loss: 0.4794 - val_loss: 0.4634\n",
      "Epoch 73/600\n",
      "17/17 [==============================] - 0s 11ms/step - loss: 0.4372 - val_loss: 0.4631\n",
      "Epoch 74/600\n",
      "17/17 [==============================] - 0s 11ms/step - loss: 0.4810 - val_loss: 0.4634\n",
      "Epoch 75/600\n",
      "17/17 [==============================] - 0s 8ms/step - loss: 0.4254 - val_loss: 0.4639\n",
      "Epoch 76/600\n",
      "17/17 [==============================] - 0s 7ms/step - loss: 0.4914 - val_loss: 0.4658\n",
      "Epoch 77/600\n",
      "17/17 [==============================] - 0s 7ms/step - loss: 0.4776 - val_loss: 0.4656\n",
      "Epoch 78/600\n",
      "17/17 [==============================] - 0s 8ms/step - loss: 0.4813 - val_loss: 0.4672\n",
      "Epoch 79/600\n",
      "17/17 [==============================] - 0s 6ms/step - loss: 0.4491 - val_loss: 0.4652\n",
      "Epoch 80/600\n",
      "17/17 [==============================] - 0s 7ms/step - loss: 0.4885 - val_loss: 0.4616\n",
      "Epoch 81/600\n",
      "17/17 [==============================] - 0s 8ms/step - loss: 0.5043 - val_loss: 0.4607\n",
      "Epoch 82/600\n"
     ]
    },
    {
     "name": "stdout",
     "output_type": "stream",
     "text": [
      "17/17 [==============================] - 0s 11ms/step - loss: 0.4447 - val_loss: 0.4608\n",
      "Epoch 83/600\n",
      "17/17 [==============================] - 0s 9ms/step - loss: 0.4770 - val_loss: 0.4607\n",
      "Epoch 84/600\n",
      "17/17 [==============================] - 0s 10ms/step - loss: 0.4610 - val_loss: 0.4608\n",
      "Epoch 85/600\n",
      "17/17 [==============================] - 0s 6ms/step - loss: 0.4458 - val_loss: 0.4595\n",
      "Epoch 86/600\n",
      "17/17 [==============================] - 0s 7ms/step - loss: 0.4712 - val_loss: 0.4590\n",
      "Epoch 87/600\n",
      "17/17 [==============================] - 0s 6ms/step - loss: 0.4941 - val_loss: 0.4595\n",
      "Epoch 88/600\n",
      "17/17 [==============================] - 0s 6ms/step - loss: 0.4512 - val_loss: 0.4615\n",
      "Epoch 89/600\n",
      "17/17 [==============================] - 0s 6ms/step - loss: 0.5031 - val_loss: 0.4609\n",
      "Epoch 90/600\n",
      "17/17 [==============================] - 0s 7ms/step - loss: 0.4777 - val_loss: 0.4612\n",
      "Epoch 91/600\n",
      "17/17 [==============================] - 0s 9ms/step - loss: 0.4468 - val_loss: 0.4616\n",
      "Epoch 92/600\n",
      "17/17 [==============================] - 0s 8ms/step - loss: 0.4419 - val_loss: 0.4634\n",
      "Epoch 93/600\n",
      "17/17 [==============================] - 0s 14ms/step - loss: 0.4521 - val_loss: 0.4631\n",
      "Epoch 94/600\n",
      "17/17 [==============================] - 0s 9ms/step - loss: 0.5198 - val_loss: 0.4631\n",
      "Epoch 95/600\n",
      "17/17 [==============================] - 0s 18ms/step - loss: 0.4838 - val_loss: 0.4622\n",
      "Epoch 96/600\n",
      "17/17 [==============================] - 0s 10ms/step - loss: 0.4789 - val_loss: 0.4625\n",
      "Epoch 97/600\n",
      "17/17 [==============================] - 0s 9ms/step - loss: 0.4315 - val_loss: 0.4628\n",
      "Epoch 98/600\n",
      "17/17 [==============================] - 0s 13ms/step - loss: 0.4831 - val_loss: 0.4601\n",
      "Epoch 99/600\n",
      "17/17 [==============================] - 0s 10ms/step - loss: 0.4344 - val_loss: 0.4593\n",
      "Epoch 100/600\n",
      "17/17 [==============================] - 0s 10ms/step - loss: 0.5116 - val_loss: 0.4593\n",
      "Epoch 101/600\n",
      "17/17 [==============================] - 0s 8ms/step - loss: 0.4591 - val_loss: 0.4595\n",
      "Epoch 102/600\n",
      "17/17 [==============================] - 0s 7ms/step - loss: 0.4544 - val_loss: 0.4597\n",
      "Epoch 103/600\n",
      "17/17 [==============================] - 0s 7ms/step - loss: 0.4586 - val_loss: 0.4591\n",
      "Epoch 104/600\n",
      "17/17 [==============================] - 0s 8ms/step - loss: 0.4650 - val_loss: 0.4597\n",
      "Epoch 105/600\n",
      "17/17 [==============================] - 0s 9ms/step - loss: 0.4458 - val_loss: 0.4604\n",
      "Epoch 106/600\n",
      "17/17 [==============================] - 0s 6ms/step - loss: 0.4942 - val_loss: 0.4614\n",
      "Epoch 107/600\n",
      "17/17 [==============================] - 0s 6ms/step - loss: 0.5090 - val_loss: 0.4613\n",
      "Epoch 108/600\n",
      "17/17 [==============================] - 0s 6ms/step - loss: 0.4142 - val_loss: 0.4617\n",
      "Epoch 109/600\n",
      "17/17 [==============================] - 0s 6ms/step - loss: 0.4283 - val_loss: 0.4617\n",
      "Epoch 110/600\n",
      "17/17 [==============================] - 0s 6ms/step - loss: 0.5228 - val_loss: 0.4644\n",
      "Epoch 111/600\n",
      "17/17 [==============================] - 0s 7ms/step - loss: 0.4752 - val_loss: 0.4635\n",
      "Epoch 00111: early stopping\n"
     ]
    },
    {
     "data": {
      "text/plain": [
       "<tensorflow.python.keras.callbacks.History at 0x7fd2144fdfd0>"
      ]
     },
     "execution_count": 60,
     "metadata": {},
     "output_type": "execute_result"
    }
   ],
   "source": [
    "ann_mod.fit(x=X_train.values, \n",
    "          y=y_train.values, \n",
    "          epochs=600,\n",
    "          validation_data=(X_cv.values, y_cv.values), verbose=1,\n",
    "          callbacks=[early_stop])"
   ]
  },
  {
   "cell_type": "code",
   "execution_count": 61,
   "id": "b751fdbd",
   "metadata": {
    "scrolled": true
   },
   "outputs": [
    {
     "data": {
      "text/plain": [
       "<AxesSubplot:>"
      ]
     },
     "execution_count": 61,
     "metadata": {},
     "output_type": "execute_result"
    },
    {
     "data": {
      "image/png": "[encoded data removed]",
      "text/plain": [
       "<Figure size 432x288 with 1 Axes>"
      ]
     },
     "metadata": {
      "needs_background": "light"
     },
     "output_type": "display_data"
    }
   ],
   "source": [
    "model_loss=pd.DataFrame(ann_mod.history.history)\n",
    "model_loss.plot()"
   ]
  },
  {
   "cell_type": "code",
   "execution_count": 69,
   "id": "9fb47ec0",
   "metadata": {
    "scrolled": true
   },
   "outputs": [
    {
     "name": "stderr",
     "output_type": "stream",
     "text": [
      "/home/chaitanya/anaconda3/lib/python3.8/site-packages/tensorflow/python/keras/engine/sequential.py:450: UserWarning: `model.predict_classes()` is deprecated and will be removed after 2021-01-01. Please use instead:* `np.argmax(model.predict(x), axis=-1)`,   if your model does multi-class classification   (e.g. if it uses a `softmax` last-layer activation).* `(model.predict(x) > 0.5).astype(\"int32\")`,   if your model does binary classification   (e.g. if it uses a `sigmoid` last-layer activation).\n",
      "  warnings.warn('`model.predict_classes()` is deprecated and '\n"
     ]
    }
   ],
   "source": [
    "y_pred_tr = ann_mod.predict_classes(X_train.values)\n",
    "y_pred_cv = ann_mod.predict_classes(X_cv.values)\n",
    "precision_tr, recall_tr, fscore_tr, support_tr = precision_recall_fscore_support(\n",
    "    y_train.values, y_pred_tr, average='macro')\n",
    "precision_cv, recall_cv, fscore_cv, support_cv = precision_recall_fscore_support(\n",
    "    y_cv.values, y_pred_cv, average='macro')"
   ]
  },
  {
   "cell_type": "code",
   "execution_count": 71,
   "id": "4b6c66c0",
   "metadata": {},
   "outputs": [
    {
     "name": "stdout",
     "output_type": "stream",
     "text": [
      "0.8606147319552558 0.7744426169590644 0.7943676871971732 None\n",
      "0.815 0.760061919504644 0.7665976535541753 None\n"
     ]
    }
   ],
   "source": [
    "print(precision_tr, recall_tr, fscore_tr, support_tr)\n",
    "print(precision_cv, recall_cv, fscore_cv, support_cv)"
   ]
  },
  {
   "cell_type": "code",
   "execution_count": null,
   "id": "60d6c4a0",
   "metadata": {},
   "outputs": [],
   "source": [
    "filename = 'ann_titanic.model'\n",
    "pickle.dump(ann_mod, open(filename, 'wb'))"
   ]
  },
  {
   "cell_type": "markdown",
   "id": "86fc3a3e",
   "metadata": {},
   "source": [
    "## 3. Model testing"
   ]
  },
  {
   "cell_type": "code",
   "execution_count": 15,
   "id": "b1f06ed3",
   "metadata": {},
   "outputs": [],
   "source": [
    "model_list=[logReg_best,knn_best,decTree_best,rnFr_best,svm_best,adab_best,xgbst_best]"
   ]
  },
  {
   "cell_type": "code",
   "execution_count": 16,
   "id": "37ef5362",
   "metadata": {},
   "outputs": [
    {
     "name": "stdout",
     "output_type": "stream",
     "text": [
      "LogisticRegression\n",
      "KNeighborsClassifier\n",
      "DecisionTreeClassifier\n",
      "RandomForestClassifier\n",
      "SVC\n",
      "AdaBoostClassifier\n",
      "XGBClassifier\n"
     ]
    }
   ],
   "source": [
    "for model in model_list:\n",
    "    print(str(model).split('(')[0])"
   ]
  },
  {
   "cell_type": "code",
   "execution_count": 17,
   "id": "e793c87f",
   "metadata": {},
   "outputs": [
    {
     "name": "stdout",
     "output_type": "stream",
     "text": [
      "[05:58:28] WARNING: /tmp/build/80754af9/xgboost-split_1619724447847/work/src/learner.cc:1061: Starting in XGBoost 1.3.0, the default evaluation metric used with the objective 'binary:logistic' was changed from 'error' to 'logloss'. Explicitly set eval_metric if you'd like to restore the old behavior.\n"
     ]
    }
   ],
   "source": [
    "report_d={}\n",
    "for model in model_list:\n",
    "    name=str(model).split('(')[0]\n",
    "    filename = name + '_titanic.model'\n",
    "    pickle.dump(model, open(filename, 'wb'))\n",
    "    report=testModel(model, X_train, X_cv, y_train, y_cv)\n",
    "    report_d[name]=report"
   ]
  },
  {
   "cell_type": "code",
   "execution_count": 18,
   "id": "270c81b4",
   "metadata": {},
   "outputs": [
    {
     "data": {
      "text/plain": [
       "{'LogisticRegression': array([0.82643992, 0.78750914, 0.80029356, 0.80938655, 0.76999484,\n",
       "        0.7765564 ]),\n",
       " 'KNeighborsClassifier': array([0.85405193, 0.77412281, 0.79326017, 0.7960928 , 0.750258  ,\n",
       "        0.7560307 ]),\n",
       " 'DecisionTreeClassifier': array([0.98579545, 0.97395833, 0.97942641, 0.7423325 , 0.7374871 ,\n",
       "        0.73928327]),\n",
       " 'RandomForestClassifier': array([0.98045123, 0.9747807 , 0.97750554, 0.81585317, 0.80301858,\n",
       "        0.8071506 ]),\n",
       " 'SVC': array([0.85798319, 0.76923428, 0.78905563, 0.815     , 0.76006192,\n",
       "        0.76659765]),\n",
       " 'AdaBoostClassifier': array([0.80997484, 0.7982913 , 0.80331949, 0.8059224 , 0.78986068,\n",
       "        0.79449118]),\n",
       " 'XGBClassifier': array([0.97613354, 0.9669682 , 0.97126737, 0.7891931 , 0.78341073,\n",
       "        0.78563291])}"
      ]
     },
     "execution_count": 18,
     "metadata": {},
     "output_type": "execute_result"
    }
   ],
   "source": [
    "report_d"
   ]
  }
 ],
 "metadata": {
  "kernelspec": {
   "display_name": "Python 3",
   "language": "python",
   "name": "python3"
  },
  "language_info": {
   "codemirror_mode": {
    "name": "ipython",
    "version": 3
   },
   "file_extension": ".py",
   "mimetype": "text/x-python",
   "name": "python",
   "nbconvert_exporter": "python",
   "pygments_lexer": "ipython3",
   "version": "3.8.10"
  }
 },
 "nbformat": 4,
 "nbformat_minor": 5
}
