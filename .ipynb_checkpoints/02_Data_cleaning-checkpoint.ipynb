{
 "cells": [
  {
   "cell_type": "markdown",
   "id": "1c05ce75",
   "metadata": {},
   "source": [
    "# Data cleaning \n",
    "\n",
    "Here, I clean the training and test datasets of NaN values and other undesirable entities."
   ]
  },
  {
   "cell_type": "code",
   "execution_count": 1,
   "id": "ef42af5f",
   "metadata": {},
   "outputs": [],
   "source": [
    "import pandas as pd\n",
    "import pickle as pkl\n",
    "import numpy as np\n",
    "\n",
    "# Plotting libraries\n",
    "import matplotlib.pyplot as plt\n",
    "import seaborn as sns\n",
    "\n",
    "%matplotlib inline\n",
    "fig_params={'legend.fontsize':18,\n",
    "          'axes.labelsize': 18,\n",
    "          'axes.titlesize':20,\n",
    "          'xtick.labelsize':16,\n",
    "          'ytick.labelsize':16,             \n",
    "          'axes.facecolor':'#D9DDD1'}\n",
    "plt.rcParams.update(fig_params)\n",
    "\n",
    "# To normalize the data\n",
    "from sklearn.preprocessing import MinMaxScaler"
   ]
  },
  {
   "cell_type": "code",
   "execution_count": 2,
   "id": "02e694da",
   "metadata": {},
   "outputs": [],
   "source": [
    "df=pd.read_csv('./data/train.csv')"
   ]
  },
  {
   "cell_type": "code",
   "execution_count": 3,
   "id": "dd74f67c",
   "metadata": {},
   "outputs": [
    {
     "data": {
      "text/plain": [
       "PassengerId      0\n",
       "Survived         0\n",
       "Pclass           0\n",
       "Name             0\n",
       "Sex              0\n",
       "Age            177\n",
       "SibSp            0\n",
       "Parch            0\n",
       "Ticket           0\n",
       "Fare             0\n",
       "Cabin          687\n",
       "Embarked         2\n",
       "dtype: int64"
      ]
     },
     "execution_count": 3,
     "metadata": {},
     "output_type": "execute_result"
    }
   ],
   "source": [
    "df.isna().sum()"
   ]
  },
  {
   "cell_type": "markdown",
   "id": "b743e420",
   "metadata": {},
   "source": [
    "## 1. Filling NaN values"
   ]
  },
  {
   "cell_type": "markdown",
   "id": "f9d2606e",
   "metadata": {},
   "source": [
    "###  Feature - Embarked\n",
    "\n",
    "There are two rows in Embarked feature in train dataset that have NaN values. \n",
    "\n",
    "Let's check these two rows. "
   ]
  },
  {
   "cell_type": "code",
   "execution_count": 4,
   "id": "a9765166",
   "metadata": {
    "scrolled": true
   },
   "outputs": [
    {
     "data": {
      "text/html": [
       "<div>\n",
       "<style scoped>\n",
       "    .dataframe tbody tr th:only-of-type {\n",
       "        vertical-align: middle;\n",
       "    }\n",
       "\n",
       "    .dataframe tbody tr th {\n",
       "        vertical-align: top;\n",
       "    }\n",
       "\n",
       "    .dataframe thead th {\n",
       "        text-align: right;\n",
       "    }\n",
       "</style>\n",
       "<table border=\"1\" class=\"dataframe\">\n",
       "  <thead>\n",
       "    <tr style=\"text-align: right;\">\n",
       "      <th></th>\n",
       "      <th>PassengerId</th>\n",
       "      <th>Survived</th>\n",
       "      <th>Pclass</th>\n",
       "      <th>Name</th>\n",
       "      <th>Sex</th>\n",
       "      <th>Age</th>\n",
       "      <th>SibSp</th>\n",
       "      <th>Parch</th>\n",
       "      <th>Ticket</th>\n",
       "      <th>Fare</th>\n",
       "      <th>Cabin</th>\n",
       "      <th>Embarked</th>\n",
       "    </tr>\n",
       "  </thead>\n",
       "  <tbody>\n",
       "    <tr>\n",
       "      <th>61</th>\n",
       "      <td>62</td>\n",
       "      <td>1</td>\n",
       "      <td>1</td>\n",
       "      <td>Icard, Miss. Amelie</td>\n",
       "      <td>female</td>\n",
       "      <td>38.0</td>\n",
       "      <td>0</td>\n",
       "      <td>0</td>\n",
       "      <td>113572</td>\n",
       "      <td>80.0</td>\n",
       "      <td>B28</td>\n",
       "      <td>NaN</td>\n",
       "    </tr>\n",
       "    <tr>\n",
       "      <th>829</th>\n",
       "      <td>830</td>\n",
       "      <td>1</td>\n",
       "      <td>1</td>\n",
       "      <td>Stone, Mrs. George Nelson (Martha Evelyn)</td>\n",
       "      <td>female</td>\n",
       "      <td>62.0</td>\n",
       "      <td>0</td>\n",
       "      <td>0</td>\n",
       "      <td>113572</td>\n",
       "      <td>80.0</td>\n",
       "      <td>B28</td>\n",
       "      <td>NaN</td>\n",
       "    </tr>\n",
       "  </tbody>\n",
       "</table>\n",
       "</div>"
      ],
      "text/plain": [
       "     PassengerId  Survived  Pclass                                       Name  \\\n",
       "61            62         1       1                        Icard, Miss. Amelie   \n",
       "829          830         1       1  Stone, Mrs. George Nelson (Martha Evelyn)   \n",
       "\n",
       "        Sex   Age  SibSp  Parch  Ticket  Fare Cabin Embarked  \n",
       "61   female  38.0      0      0  113572  80.0   B28      NaN  \n",
       "829  female  62.0      0      0  113572  80.0   B28      NaN  "
      ]
     },
     "execution_count": 4,
     "metadata": {},
     "output_type": "execute_result"
    }
   ],
   "source": [
    "# Rows where 'Embarked' column as missing values\n",
    "df[df['Embarked'].isna()]"
   ]
  },
  {
   "cell_type": "markdown",
   "id": "4a026f52",
   "metadata": {},
   "source": [
    "Let's examine if there is correlation between Survived passangers and their port of embarkment. "
   ]
  },
  {
   "cell_type": "code",
   "execution_count": 5,
   "id": "08c9423e",
   "metadata": {
    "scrolled": true
   },
   "outputs": [
    {
     "data": {
      "text/html": [
       "<div>\n",
       "<style scoped>\n",
       "    .dataframe tbody tr th:only-of-type {\n",
       "        vertical-align: middle;\n",
       "    }\n",
       "\n",
       "    .dataframe tbody tr th {\n",
       "        vertical-align: top;\n",
       "    }\n",
       "\n",
       "    .dataframe thead th {\n",
       "        text-align: right;\n",
       "    }\n",
       "</style>\n",
       "<table border=\"1\" class=\"dataframe\">\n",
       "  <thead>\n",
       "    <tr style=\"text-align: right;\">\n",
       "      <th>Embarked</th>\n",
       "      <th>C</th>\n",
       "      <th>Q</th>\n",
       "      <th>S</th>\n",
       "    </tr>\n",
       "    <tr>\n",
       "      <th>Survived</th>\n",
       "      <th></th>\n",
       "      <th></th>\n",
       "      <th></th>\n",
       "    </tr>\n",
       "  </thead>\n",
       "  <tbody>\n",
       "    <tr>\n",
       "      <th>0</th>\n",
       "      <td>75</td>\n",
       "      <td>47</td>\n",
       "      <td>427</td>\n",
       "    </tr>\n",
       "    <tr>\n",
       "      <th>1</th>\n",
       "      <td>93</td>\n",
       "      <td>30</td>\n",
       "      <td>217</td>\n",
       "    </tr>\n",
       "  </tbody>\n",
       "</table>\n",
       "</div>"
      ],
      "text/plain": [
       "Embarked   C   Q    S\n",
       "Survived             \n",
       "0         75  47  427\n",
       "1         93  30  217"
      ]
     },
     "execution_count": 5,
     "metadata": {},
     "output_type": "execute_result"
    }
   ],
   "source": [
    "pd.crosstab(df['Survived'],df['Embarked'])"
   ]
  },
  {
   "cell_type": "markdown",
   "id": "30f3561f",
   "metadata": {},
   "source": [
    "It looks like 'Embarked' feature is an important one as there is a clear correlation between the survived passangers and Embarkment point. \n",
    "\n",
    "Now, let's check if we can estimate missing embarkment points based on any other features. "
   ]
  },
  {
   "cell_type": "code",
   "execution_count": 6,
   "id": "970aaf79",
   "metadata": {},
   "outputs": [
    {
     "data": {
      "text/html": [
       "<div>\n",
       "<style scoped>\n",
       "    .dataframe tbody tr th:only-of-type {\n",
       "        vertical-align: middle;\n",
       "    }\n",
       "\n",
       "    .dataframe tbody tr th {\n",
       "        vertical-align: top;\n",
       "    }\n",
       "\n",
       "    .dataframe thead th {\n",
       "        text-align: right;\n",
       "    }\n",
       "</style>\n",
       "<table border=\"1\" class=\"dataframe\">\n",
       "  <thead>\n",
       "    <tr style=\"text-align: right;\">\n",
       "      <th></th>\n",
       "      <th></th>\n",
       "      <th>PassengerId</th>\n",
       "      <th>Pclass</th>\n",
       "      <th>Age</th>\n",
       "      <th>SibSp</th>\n",
       "      <th>Parch</th>\n",
       "      <th>Fare</th>\n",
       "    </tr>\n",
       "    <tr>\n",
       "      <th>Embarked</th>\n",
       "      <th>Survived</th>\n",
       "      <th></th>\n",
       "      <th></th>\n",
       "      <th></th>\n",
       "      <th></th>\n",
       "      <th></th>\n",
       "      <th></th>\n",
       "    </tr>\n",
       "  </thead>\n",
       "  <tbody>\n",
       "    <tr>\n",
       "      <th rowspan=\"2\" valign=\"top\">C</th>\n",
       "      <th>0</th>\n",
       "      <td>409.853333</td>\n",
       "      <td>2.200000</td>\n",
       "      <td>33.666667</td>\n",
       "      <td>0.253333</td>\n",
       "      <td>0.253333</td>\n",
       "      <td>35.443335</td>\n",
       "    </tr>\n",
       "    <tr>\n",
       "      <th>1</th>\n",
       "      <td>473.989247</td>\n",
       "      <td>1.634409</td>\n",
       "      <td>28.973671</td>\n",
       "      <td>0.494624</td>\n",
       "      <td>0.451613</td>\n",
       "      <td>79.720926</td>\n",
       "    </tr>\n",
       "    <tr>\n",
       "      <th rowspan=\"2\" valign=\"top\">Q</th>\n",
       "      <th>0</th>\n",
       "      <td>480.404255</td>\n",
       "      <td>2.936170</td>\n",
       "      <td>30.325000</td>\n",
       "      <td>0.510638</td>\n",
       "      <td>0.276596</td>\n",
       "      <td>13.335904</td>\n",
       "    </tr>\n",
       "    <tr>\n",
       "      <th>1</th>\n",
       "      <td>319.966667</td>\n",
       "      <td>2.866667</td>\n",
       "      <td>22.500000</td>\n",
       "      <td>0.300000</td>\n",
       "      <td>0.000000</td>\n",
       "      <td>13.182227</td>\n",
       "    </tr>\n",
       "    <tr>\n",
       "      <th rowspan=\"2\" valign=\"top\">S</th>\n",
       "      <th>0</th>\n",
       "      <td>449.868852</td>\n",
       "      <td>2.545667</td>\n",
       "      <td>30.203966</td>\n",
       "      <td>0.611241</td>\n",
       "      <td>0.348946</td>\n",
       "      <td>20.743987</td>\n",
       "    </tr>\n",
       "    <tr>\n",
       "      <th>1</th>\n",
       "      <td>448.857143</td>\n",
       "      <td>1.967742</td>\n",
       "      <td>28.113184</td>\n",
       "      <td>0.493088</td>\n",
       "      <td>0.539171</td>\n",
       "      <td>39.547081</td>\n",
       "    </tr>\n",
       "  </tbody>\n",
       "</table>\n",
       "</div>"
      ],
      "text/plain": [
       "                   PassengerId    Pclass        Age     SibSp     Parch  \\\n",
       "Embarked Survived                                                         \n",
       "C        0          409.853333  2.200000  33.666667  0.253333  0.253333   \n",
       "         1          473.989247  1.634409  28.973671  0.494624  0.451613   \n",
       "Q        0          480.404255  2.936170  30.325000  0.510638  0.276596   \n",
       "         1          319.966667  2.866667  22.500000  0.300000  0.000000   \n",
       "S        0          449.868852  2.545667  30.203966  0.611241  0.348946   \n",
       "         1          448.857143  1.967742  28.113184  0.493088  0.539171   \n",
       "\n",
       "                        Fare  \n",
       "Embarked Survived             \n",
       "C        0         35.443335  \n",
       "         1         79.720926  \n",
       "Q        0         13.335904  \n",
       "         1         13.182227  \n",
       "S        0         20.743987  \n",
       "         1         39.547081  "
      ]
     },
     "execution_count": 6,
     "metadata": {},
     "output_type": "execute_result"
    }
   ],
   "source": [
    "df.groupby(['Embarked','Survived']).mean()"
   ]
  },
  {
   "cell_type": "code",
   "execution_count": 7,
   "id": "8e3a4940",
   "metadata": {
    "scrolled": false
   },
   "outputs": [
    {
     "data": {
      "image/png": "[encoded data removed]",
      "text/plain": [
       "<Figure size 432x288 with 1 Axes>"
      ]
     },
     "metadata": {
      "needs_background": "light"
     },
     "output_type": "display_data"
    }
   ],
   "source": [
    "sns.boxplot(x='Embarked',y='Fare',hue='Pclass',data=df)\n",
    "plt.show()"
   ]
  },
  {
   "cell_type": "markdown",
   "id": "e70b7283",
   "metadata": {},
   "source": [
    "It looks like we can predict 'Embark' feature based on travel class and fare paid. "
   ]
  },
  {
   "cell_type": "code",
   "execution_count": 8,
   "id": "fc67940a",
   "metadata": {
    "scrolled": true
   },
   "outputs": [
    {
     "data": {
      "text/plain": [
       "Embarked  Pclass\n",
       "C         1         104.718529\n",
       "          2          25.358335\n",
       "          3          11.214083\n",
       "Q         1          90.000000\n",
       "          2          12.350000\n",
       "          3          11.183393\n",
       "S         1          70.364862\n",
       "          2          20.327439\n",
       "          3          14.644083\n",
       "Name: Fare, dtype: float64"
      ]
     },
     "execution_count": 8,
     "metadata": {},
     "output_type": "execute_result"
    }
   ],
   "source": [
    "embarkFare=df.groupby(['Embarked','Pclass'])['Fare'].mean()\n",
    "embarkFare"
   ]
  },
  {
   "cell_type": "markdown",
   "id": "b266b1dc",
   "metadata": {},
   "source": [
    "Here we define a function which takes into account 'Pclass' of the passanger and compares fare paid by the passanger with the mean fare for that class."
   ]
  },
  {
   "cell_type": "code",
   "execution_count": 9,
   "id": "ba3707fe",
   "metadata": {},
   "outputs": [],
   "source": [
    "def fillEmbark(col,embarkFare):\n",
    "    a=embarkFare.index\n",
    "    Pclass=col[2]\n",
    "    embarked=col[1]\n",
    "    fare=col[0]\n",
    "    compFare=np.array([embarkFare[('C',Pclass)],embarkFare[('Q',Pclass)],embarkFare[('S',Pclass)]])\n",
    "    if pd.isnull(embarked):\n",
    "        ind=(np.abs(compFare-fare)).argmin()   \n",
    "        if ind==0:\n",
    "            embarked='C'\n",
    "        elif ind==1:\n",
    "            embarked='Q'\n",
    "        elif ind==2:\n",
    "            embarked='S'      \n",
    "    return embarked\n",
    "    "
   ]
  },
  {
   "cell_type": "markdown",
   "id": "0b5b697b",
   "metadata": {},
   "source": [
    "###  Feature - Fare\n",
    "\n",
    "If any Fare feature valuw is missing then it will be filled based on mean fare for passanger travel class."
   ]
  },
  {
   "cell_type": "code",
   "execution_count": 10,
   "id": "dfbb7222",
   "metadata": {},
   "outputs": [],
   "source": [
    "def fillFare(col,embarkFare):\n",
    "    a=embarkFare.index\n",
    "    Pclass=col[2]\n",
    "    embarked=col[1]\n",
    "    fare=col[0]\n",
    "    ind=(embarked,Pclass)\n",
    "    if pd.isnull(fare):\n",
    "        fare=embarkFare[ind]\n",
    "    return fare"
   ]
  },
  {
   "cell_type": "markdown",
   "id": "a33db201",
   "metadata": {},
   "source": [
    "###  Feature - Age\n",
    "\n",
    "There are many missing values in 'Age' column. Let's examine the parameters with which we can fill NaN values more realistically."
   ]
  },
  {
   "cell_type": "code",
   "execution_count": 11,
   "id": "538d1d22",
   "metadata": {
    "scrolled": true
   },
   "outputs": [
    {
     "data": {
      "text/plain": [
       "3    136\n",
       "1     30\n",
       "2     11\n",
       "Name: Pclass, dtype: int64"
      ]
     },
     "execution_count": 11,
     "metadata": {},
     "output_type": "execute_result"
    }
   ],
   "source": [
    "df[df['Age'].isna()]['Pclass'].value_counts()"
   ]
  },
  {
   "cell_type": "markdown",
   "id": "18ba60da",
   "metadata": {},
   "source": [
    "Median age of mean and women. "
   ]
  },
  {
   "cell_type": "code",
   "execution_count": 12,
   "id": "b9e32cfb",
   "metadata": {
    "scrolled": true
   },
   "outputs": [
    {
     "data": {
      "text/html": [
       "<div>\n",
       "<style scoped>\n",
       "    .dataframe tbody tr th:only-of-type {\n",
       "        vertical-align: middle;\n",
       "    }\n",
       "\n",
       "    .dataframe tbody tr th {\n",
       "        vertical-align: top;\n",
       "    }\n",
       "\n",
       "    .dataframe thead th {\n",
       "        text-align: right;\n",
       "    }\n",
       "</style>\n",
       "<table border=\"1\" class=\"dataframe\">\n",
       "  <thead>\n",
       "    <tr style=\"text-align: right;\">\n",
       "      <th>Sex</th>\n",
       "      <th>female</th>\n",
       "      <th>male</th>\n",
       "    </tr>\n",
       "    <tr>\n",
       "      <th>row_0</th>\n",
       "      <th></th>\n",
       "      <th></th>\n",
       "    </tr>\n",
       "  </thead>\n",
       "  <tbody>\n",
       "    <tr>\n",
       "      <th>28.0</th>\n",
       "      <td>314</td>\n",
       "      <td>577</td>\n",
       "    </tr>\n",
       "  </tbody>\n",
       "</table>\n",
       "</div>"
      ],
      "text/plain": [
       "Sex    female  male\n",
       "row_0              \n",
       "28.0      314   577"
      ]
     },
     "execution_count": 12,
     "metadata": {},
     "output_type": "execute_result"
    }
   ],
   "source": [
    "pd.crosstab(df['Age'].median(),df['Sex'])"
   ]
  },
  {
   "cell_type": "markdown",
   "id": "124699ff",
   "metadata": {},
   "source": [
    "Age distribution of males and females traveling in different class."
   ]
  },
  {
   "cell_type": "code",
   "execution_count": 13,
   "id": "2e436e68",
   "metadata": {
    "scrolled": true
   },
   "outputs": [
    {
     "data": {
      "image/png": "[encoded data removed]",
      "text/plain": [
       "<Figure size 576x360 with 1 Axes>"
      ]
     },
     "metadata": {
      "needs_background": "light"
     },
     "output_type": "display_data"
    }
   ],
   "source": [
    "plt.figure(figsize=(8,5))\n",
    "sns.boxplot(x='Pclass',y='Age',hue='Sex',data=df)\n",
    "plt.show()"
   ]
  },
  {
   "cell_type": "markdown",
   "id": "90155941",
   "metadata": {},
   "source": [
    "In the dataset, there are titles behind every name.  Let's see how age correlates with the titles. "
   ]
  },
  {
   "cell_type": "code",
   "execution_count": 14,
   "id": "5b871683",
   "metadata": {
    "scrolled": true
   },
   "outputs": [
    {
     "data": {
      "image/png": "[encoded data removed]",
      "text/plain": [
       "<Figure size 432x288 with 1 Axes>"
      ]
     },
     "metadata": {
      "needs_background": "light"
     },
     "output_type": "display_data"
    }
   ],
   "source": [
    "df['title']=df['Name'].apply(lambda x:x.split(',')[1].split('.')[0])\n",
    "\n",
    "sns.boxplot(x='title',y='Age',data=df)\n",
    "plt.xticks(rotation=90)\n",
    "plt.show()"
   ]
  },
  {
   "cell_type": "markdown",
   "id": "b0aa1308",
   "metadata": {},
   "source": [
    "Therefore, titles can give us more resolution to fill NaN values in 'Age' column more realistically. So we define a function which takes into account title of a person and mean age for that title, and based on that fills NaN values."
   ]
  },
  {
   "cell_type": "code",
   "execution_count": 15,
   "id": "a8a9220a",
   "metadata": {},
   "outputs": [],
   "source": [
    "ageEstimate=df.groupby('title')['Age'].mean()\n",
    "\n",
    "def fillAge(col,ageEst):\n",
    "    title=col[1]\n",
    "    age=col[0]\n",
    "    if pd.isnull(age):\n",
    "        age=ageEst[ageEst.index==title][0]\n",
    "    return age"
   ]
  },
  {
   "cell_type": "code",
   "execution_count": 16,
   "id": "816612e9",
   "metadata": {},
   "outputs": [],
   "source": [
    "df['Embarked']=df[['Fare','Embarked','Pclass']].apply(fillEmbark,embarkFare=embarkFare,axis=1)\n",
    "df['Age']=df[['Age','title']].apply(fillAge,ageEst=ageEstimate,axis=1)\n",
    "df['Fare']=df[['Fare','Embarked','Pclass']].apply(fillFare,embarkFare=embarkFare,axis=1)"
   ]
  },
  {
   "cell_type": "code",
   "execution_count": 17,
   "id": "067ac0f1",
   "metadata": {
    "scrolled": true
   },
   "outputs": [
    {
     "data": {
      "image/png": "[encoded data removed]",
      "text/plain": [
       "<Figure size 432x288 with 2 Axes>"
      ]
     },
     "metadata": {
      "needs_background": "light"
     },
     "output_type": "display_data"
    }
   ],
   "source": [
    "sns.heatmap(pd.isna(df),yticklabels=False,cmap='viridis')\n",
    "plt.show()"
   ]
  },
  {
   "cell_type": "code",
   "execution_count": 18,
   "id": "99540903",
   "metadata": {
    "scrolled": false
   },
   "outputs": [
    {
     "data": {
      "text/plain": [
       "PassengerId      0\n",
       "Survived         0\n",
       "Pclass           0\n",
       "Name             0\n",
       "Sex              0\n",
       "Age              0\n",
       "SibSp            0\n",
       "Parch            0\n",
       "Ticket           0\n",
       "Fare             0\n",
       "Cabin          687\n",
       "Embarked         0\n",
       "title            0\n",
       "dtype: int64"
      ]
     },
     "execution_count": 18,
     "metadata": {},
     "output_type": "execute_result"
    }
   ],
   "source": [
    "df.isna().sum()"
   ]
  },
  {
   "cell_type": "markdown",
   "id": "a80923a2",
   "metadata": {},
   "source": [
    "## 2. Converting catagorical variables"
   ]
  },
  {
   "cell_type": "code",
   "execution_count": 19,
   "id": "9fe05e1a",
   "metadata": {},
   "outputs": [],
   "source": [
    "def convCat(df_titanic):\n",
    "    df_titanic['female']=pd.get_dummies(df_titanic['Sex']).drop('male',axis=1)\n",
    "    df_titanic[['C','Q']]=pd.get_dummies(df_titanic['Embarked']).drop('S',axis=1)\n",
    "    df_titanic[['Class_2','Class_3']]=pd.get_dummies(df_titanic['Pclass'],prefix='Class').drop('Class_1',axis=1)\n",
    "    df_t=df_titanic[['Age', 'SibSp','Parch', 'Fare', 'female', 'C','Q','Class_2','Class_3']]\n",
    "    return df_t"
   ]
  },
  {
   "cell_type": "code",
   "execution_count": 20,
   "id": "dfd1341a",
   "metadata": {},
   "outputs": [],
   "source": [
    "df_train=convCat(df)\n",
    "y_train=df['Survived']"
   ]
  },
  {
   "cell_type": "code",
   "execution_count": 21,
   "id": "dabda4a4",
   "metadata": {
    "scrolled": false
   },
   "outputs": [
    {
     "data": {
      "text/html": [
       "<div>\n",
       "<style scoped>\n",
       "    .dataframe tbody tr th:only-of-type {\n",
       "        vertical-align: middle;\n",
       "    }\n",
       "\n",
       "    .dataframe tbody tr th {\n",
       "        vertical-align: top;\n",
       "    }\n",
       "\n",
       "    .dataframe thead th {\n",
       "        text-align: right;\n",
       "    }\n",
       "</style>\n",
       "<table border=\"1\" class=\"dataframe\">\n",
       "  <thead>\n",
       "    <tr style=\"text-align: right;\">\n",
       "      <th></th>\n",
       "      <th>Age</th>\n",
       "      <th>SibSp</th>\n",
       "      <th>Parch</th>\n",
       "      <th>Fare</th>\n",
       "      <th>female</th>\n",
       "      <th>C</th>\n",
       "      <th>Q</th>\n",
       "      <th>Class_2</th>\n",
       "      <th>Class_3</th>\n",
       "    </tr>\n",
       "  </thead>\n",
       "  <tbody>\n",
       "    <tr>\n",
       "      <th>0</th>\n",
       "      <td>22.0</td>\n",
       "      <td>1</td>\n",
       "      <td>0</td>\n",
       "      <td>7.2500</td>\n",
       "      <td>0</td>\n",
       "      <td>0</td>\n",
       "      <td>0</td>\n",
       "      <td>0</td>\n",
       "      <td>1</td>\n",
       "    </tr>\n",
       "    <tr>\n",
       "      <th>1</th>\n",
       "      <td>38.0</td>\n",
       "      <td>1</td>\n",
       "      <td>0</td>\n",
       "      <td>71.2833</td>\n",
       "      <td>1</td>\n",
       "      <td>1</td>\n",
       "      <td>0</td>\n",
       "      <td>0</td>\n",
       "      <td>0</td>\n",
       "    </tr>\n",
       "    <tr>\n",
       "      <th>2</th>\n",
       "      <td>26.0</td>\n",
       "      <td>0</td>\n",
       "      <td>0</td>\n",
       "      <td>7.9250</td>\n",
       "      <td>1</td>\n",
       "      <td>0</td>\n",
       "      <td>0</td>\n",
       "      <td>0</td>\n",
       "      <td>1</td>\n",
       "    </tr>\n",
       "    <tr>\n",
       "      <th>3</th>\n",
       "      <td>35.0</td>\n",
       "      <td>1</td>\n",
       "      <td>0</td>\n",
       "      <td>53.1000</td>\n",
       "      <td>1</td>\n",
       "      <td>0</td>\n",
       "      <td>0</td>\n",
       "      <td>0</td>\n",
       "      <td>0</td>\n",
       "    </tr>\n",
       "    <tr>\n",
       "      <th>4</th>\n",
       "      <td>35.0</td>\n",
       "      <td>0</td>\n",
       "      <td>0</td>\n",
       "      <td>8.0500</td>\n",
       "      <td>0</td>\n",
       "      <td>0</td>\n",
       "      <td>0</td>\n",
       "      <td>0</td>\n",
       "      <td>1</td>\n",
       "    </tr>\n",
       "  </tbody>\n",
       "</table>\n",
       "</div>"
      ],
      "text/plain": [
       "    Age  SibSp  Parch     Fare  female  C  Q  Class_2  Class_3\n",
       "0  22.0      1      0   7.2500       0  0  0        0        1\n",
       "1  38.0      1      0  71.2833       1  1  0        0        0\n",
       "2  26.0      0      0   7.9250       1  0  0        0        1\n",
       "3  35.0      1      0  53.1000       1  0  0        0        0\n",
       "4  35.0      0      0   8.0500       0  0  0        0        1"
      ]
     },
     "execution_count": 21,
     "metadata": {},
     "output_type": "execute_result"
    }
   ],
   "source": [
    "df_train.head()"
   ]
  },
  {
   "cell_type": "markdown",
   "id": "c13dfd51",
   "metadata": {},
   "source": [
    "## 3. Normalizing/scaling train dataset"
   ]
  },
  {
   "cell_type": "code",
   "execution_count": 22,
   "id": "cfb59e2d",
   "metadata": {},
   "outputs": [
    {
     "data": {
      "text/plain": [
       "Index(['Age', 'SibSp', 'Parch', 'Fare', 'female', 'C', 'Q', 'Class_2',\n",
       "       'Class_3'],\n",
       "      dtype='object')"
      ]
     },
     "execution_count": 22,
     "metadata": {},
     "output_type": "execute_result"
    }
   ],
   "source": [
    "df_train.columns"
   ]
  },
  {
   "cell_type": "code",
   "execution_count": 23,
   "id": "f7392116",
   "metadata": {},
   "outputs": [
    {
     "data": {
      "text/plain": [
       "MinMaxScaler()"
      ]
     },
     "execution_count": 23,
     "metadata": {},
     "output_type": "execute_result"
    }
   ],
   "source": [
    "scale=MinMaxScaler()\n",
    "scale.fit(df_train)"
   ]
  },
  {
   "cell_type": "code",
   "execution_count": 24,
   "id": "b72e483a",
   "metadata": {},
   "outputs": [
    {
     "name": "stderr",
     "output_type": "stream",
     "text": [
      "<ipython-input-24-e73a959f80e2>:1: SettingWithCopyWarning: \n",
      "A value is trying to be set on a copy of a slice from a DataFrame.\n",
      "Try using .loc[row_indexer,col_indexer] = value instead\n",
      "\n",
      "See the caveats in the documentation: https://pandas.pydata.org/pandas-docs/stable/user_guide/indexing.html#returning-a-view-versus-a-copy\n",
      "  df_train[['Age', 'SibSp', 'Parch', 'Fare', 'female', 'C', 'Q', 'Class_2',\n",
      "/home/chaitanya/anaconda3/lib/python3.8/site-packages/pandas/core/indexing.py:1738: SettingWithCopyWarning: \n",
      "A value is trying to be set on a copy of a slice from a DataFrame.\n",
      "Try using .loc[row_indexer,col_indexer] = value instead\n",
      "\n",
      "See the caveats in the documentation: https://pandas.pydata.org/pandas-docs/stable/user_guide/indexing.html#returning-a-view-versus-a-copy\n",
      "  self._setitem_single_column(loc, value[:, i].tolist(), pi)\n"
     ]
    }
   ],
   "source": [
    "df_train[['Age', 'SibSp', 'Parch', 'Fare', 'female', 'C', 'Q', 'Class_2',\n",
    "       'Class_3']]=scale.transform(df_train)"
   ]
  },
  {
   "cell_type": "code",
   "execution_count": 25,
   "id": "d98aced1",
   "metadata": {},
   "outputs": [],
   "source": [
    "X_tr=pd.DataFrame(df_train,columns=['Age', 'SibSp', 'Parch', 'Fare', 'female', 'C', 'Q', 'Class_2',\n",
    "       'Class_3'])\n",
    "Y_tr=pd.DataFrame(y_train,columns=['Survived'])"
   ]
  },
  {
   "cell_type": "code",
   "execution_count": 26,
   "id": "413d9bcd",
   "metadata": {},
   "outputs": [
    {
     "data": {
      "text/html": [
       "<div>\n",
       "<style scoped>\n",
       "    .dataframe tbody tr th:only-of-type {\n",
       "        vertical-align: middle;\n",
       "    }\n",
       "\n",
       "    .dataframe tbody tr th {\n",
       "        vertical-align: top;\n",
       "    }\n",
       "\n",
       "    .dataframe thead th {\n",
       "        text-align: right;\n",
       "    }\n",
       "</style>\n",
       "<table border=\"1\" class=\"dataframe\">\n",
       "  <thead>\n",
       "    <tr style=\"text-align: right;\">\n",
       "      <th></th>\n",
       "      <th>Age</th>\n",
       "      <th>SibSp</th>\n",
       "      <th>Parch</th>\n",
       "      <th>Fare</th>\n",
       "      <th>female</th>\n",
       "      <th>C</th>\n",
       "      <th>Q</th>\n",
       "      <th>Class_2</th>\n",
       "      <th>Class_3</th>\n",
       "    </tr>\n",
       "  </thead>\n",
       "  <tbody>\n",
       "    <tr>\n",
       "      <th>0</th>\n",
       "      <td>0.271174</td>\n",
       "      <td>0.125</td>\n",
       "      <td>0.0</td>\n",
       "      <td>0.014151</td>\n",
       "      <td>0.0</td>\n",
       "      <td>0.0</td>\n",
       "      <td>0.0</td>\n",
       "      <td>0.0</td>\n",
       "      <td>1.0</td>\n",
       "    </tr>\n",
       "    <tr>\n",
       "      <th>1</th>\n",
       "      <td>0.472229</td>\n",
       "      <td>0.125</td>\n",
       "      <td>0.0</td>\n",
       "      <td>0.139136</td>\n",
       "      <td>1.0</td>\n",
       "      <td>1.0</td>\n",
       "      <td>0.0</td>\n",
       "      <td>0.0</td>\n",
       "      <td>0.0</td>\n",
       "    </tr>\n",
       "    <tr>\n",
       "      <th>2</th>\n",
       "      <td>0.321438</td>\n",
       "      <td>0.000</td>\n",
       "      <td>0.0</td>\n",
       "      <td>0.015469</td>\n",
       "      <td>1.0</td>\n",
       "      <td>0.0</td>\n",
       "      <td>0.0</td>\n",
       "      <td>0.0</td>\n",
       "      <td>1.0</td>\n",
       "    </tr>\n",
       "    <tr>\n",
       "      <th>3</th>\n",
       "      <td>0.434531</td>\n",
       "      <td>0.125</td>\n",
       "      <td>0.0</td>\n",
       "      <td>0.103644</td>\n",
       "      <td>1.0</td>\n",
       "      <td>0.0</td>\n",
       "      <td>0.0</td>\n",
       "      <td>0.0</td>\n",
       "      <td>0.0</td>\n",
       "    </tr>\n",
       "    <tr>\n",
       "      <th>4</th>\n",
       "      <td>0.434531</td>\n",
       "      <td>0.000</td>\n",
       "      <td>0.0</td>\n",
       "      <td>0.015713</td>\n",
       "      <td>0.0</td>\n",
       "      <td>0.0</td>\n",
       "      <td>0.0</td>\n",
       "      <td>0.0</td>\n",
       "      <td>1.0</td>\n",
       "    </tr>\n",
       "  </tbody>\n",
       "</table>\n",
       "</div>"
      ],
      "text/plain": [
       "        Age  SibSp  Parch      Fare  female    C    Q  Class_2  Class_3\n",
       "0  0.271174  0.125    0.0  0.014151     0.0  0.0  0.0      0.0      1.0\n",
       "1  0.472229  0.125    0.0  0.139136     1.0  1.0  0.0      0.0      0.0\n",
       "2  0.321438  0.000    0.0  0.015469     1.0  0.0  0.0      0.0      1.0\n",
       "3  0.434531  0.125    0.0  0.103644     1.0  0.0  0.0      0.0      0.0\n",
       "4  0.434531  0.000    0.0  0.015713     0.0  0.0  0.0      0.0      1.0"
      ]
     },
     "execution_count": 26,
     "metadata": {},
     "output_type": "execute_result"
    }
   ],
   "source": [
    "X_tr.head()"
   ]
  },
  {
   "cell_type": "markdown",
   "id": "2c09b33c",
   "metadata": {},
   "source": [
    "## 4. Process test dataset"
   ]
  },
  {
   "cell_type": "code",
   "execution_count": 27,
   "id": "2edc0ec9",
   "metadata": {},
   "outputs": [],
   "source": [
    "df_test_p=pd.read_csv('./data/test.csv')"
   ]
  },
  {
   "cell_type": "code",
   "execution_count": 28,
   "id": "391707ee",
   "metadata": {},
   "outputs": [
    {
     "data": {
      "text/plain": [
       "PassengerId      0\n",
       "Pclass           0\n",
       "Name             0\n",
       "Sex              0\n",
       "Age             86\n",
       "SibSp            0\n",
       "Parch            0\n",
       "Ticket           0\n",
       "Fare             1\n",
       "Cabin          327\n",
       "Embarked         0\n",
       "dtype: int64"
      ]
     },
     "execution_count": 28,
     "metadata": {},
     "output_type": "execute_result"
    }
   ],
   "source": [
    "df_test_p.isna().sum()"
   ]
  },
  {
   "cell_type": "markdown",
   "id": "a46d0759",
   "metadata": {},
   "source": [
    "**Fill NaN values in test dataset**"
   ]
  },
  {
   "cell_type": "code",
   "execution_count": 29,
   "id": "2178e3a0",
   "metadata": {},
   "outputs": [],
   "source": [
    "# First, create Title column \n",
    "df_test_p['title']=df_test_p['Name'].apply(lambda x:x.split(',')[1].split('.')[0])\n",
    "\n",
    "df_test_p['Embarked']=df_test_p[['Fare','Embarked','Pclass']].apply(fillEmbark,embarkFare=embarkFare,axis=1)\n",
    "df_test_p['Age']=df_test_p[['Age','title']].apply(fillAge,ageEst=ageEstimate,axis=1)\n",
    "df_test_p['Fare']=df_test_p[['Fare','Embarked','Pclass']].apply(fillFare,embarkFare=embarkFare,axis=1)"
   ]
  },
  {
   "cell_type": "code",
   "execution_count": 30,
   "id": "6866e87b",
   "metadata": {},
   "outputs": [
    {
     "data": {
      "text/plain": [
       "PassengerId      0\n",
       "Pclass           0\n",
       "Name             0\n",
       "Sex              0\n",
       "Age              0\n",
       "SibSp            0\n",
       "Parch            0\n",
       "Ticket           0\n",
       "Fare             0\n",
       "Cabin          327\n",
       "Embarked         0\n",
       "title            0\n",
       "dtype: int64"
      ]
     },
     "execution_count": 30,
     "metadata": {},
     "output_type": "execute_result"
    }
   ],
   "source": [
    "df_test_p.isna().sum()"
   ]
  },
  {
   "cell_type": "markdown",
   "id": "5b7a37f1",
   "metadata": {},
   "source": [
    "**Conver catagorical variables**"
   ]
  },
  {
   "cell_type": "code",
   "execution_count": 31,
   "id": "59901d14",
   "metadata": {},
   "outputs": [],
   "source": [
    "df_test=convCat(df_test_p)\n"
   ]
  },
  {
   "cell_type": "markdown",
   "id": "b3fe81eb",
   "metadata": {},
   "source": [
    "**Normalize test data**\n",
    "\n",
    "Test data is normalized by MinMaxTransform fitted to the train data."
   ]
  },
  {
   "cell_type": "code",
   "execution_count": 32,
   "id": "4f52d3c5",
   "metadata": {},
   "outputs": [
    {
     "name": "stderr",
     "output_type": "stream",
     "text": [
      "<ipython-input-32-1d378d0c058e>:1: SettingWithCopyWarning: \n",
      "A value is trying to be set on a copy of a slice from a DataFrame.\n",
      "Try using .loc[row_indexer,col_indexer] = value instead\n",
      "\n",
      "See the caveats in the documentation: https://pandas.pydata.org/pandas-docs/stable/user_guide/indexing.html#returning-a-view-versus-a-copy\n",
      "  df_test[['Age', 'SibSp', 'Parch', 'Fare', 'female', 'C', 'Q', 'Class_2',\n",
      "/home/chaitanya/anaconda3/lib/python3.8/site-packages/pandas/core/indexing.py:1738: SettingWithCopyWarning: \n",
      "A value is trying to be set on a copy of a slice from a DataFrame.\n",
      "Try using .loc[row_indexer,col_indexer] = value instead\n",
      "\n",
      "See the caveats in the documentation: https://pandas.pydata.org/pandas-docs/stable/user_guide/indexing.html#returning-a-view-versus-a-copy\n",
      "  self._setitem_single_column(loc, value[:, i].tolist(), pi)\n"
     ]
    }
   ],
   "source": [
    "df_test[['Age', 'SibSp', 'Parch', 'Fare', 'female', 'C', 'Q', 'Class_2',\n",
    "       'Class_3']]=scale.transform(df_test)\n",
    "\n",
    "X_ts=pd.DataFrame(df_test,columns=['Age', 'SibSp', 'Parch', 'Fare', 'female', 'C', 'Q', 'Class_2',\n",
    "       'Class_3'])"
   ]
  },
  {
   "cell_type": "markdown",
   "id": "a8f4a765",
   "metadata": {},
   "source": [
    "## 5. Saving processed data"
   ]
  },
  {
   "cell_type": "code",
   "execution_count": 33,
   "id": "9c3b836b",
   "metadata": {},
   "outputs": [],
   "source": [
    "X_tr.to_csv('./data/train_features_processed.csv',index=False)\n",
    "Y_tr.to_csv('./data/train_labels_processed.csv',index=False)\n",
    "X_ts.to_csv('./data/test_features_processed.csv',index=False)"
   ]
  },
  {
   "cell_type": "code",
   "execution_count": null,
   "id": "1a1b9124",
   "metadata": {},
   "outputs": [],
   "source": []
  }
 ],
 "metadata": {
  "kernelspec": {
   "display_name": "Python 3",
   "language": "python",
   "name": "python3"
  },
  "language_info": {
   "codemirror_mode": {
    "name": "ipython",
    "version": 3
   },
   "file_extension": ".py",
   "mimetype": "text/x-python",
   "name": "python",
   "nbconvert_exporter": "python",
   "pygments_lexer": "ipython3",
   "version": "3.8.10"
  }
 },
 "nbformat": 4,
 "nbformat_minor": 5
}
