{
 "cells": [
  {
   "cell_type": "markdown",
   "id": "a69b67d6",
   "metadata": {},
   "source": [
    "# Test results\n",
    "\n",
    "This notebooks uses models created in last notebook to predict test dataset."
   ]
  },
  {
   "cell_type": "code",
   "execution_count": 1,
   "id": "c9dc2e5c",
   "metadata": {},
   "outputs": [],
   "source": [
    "import pandas as pd\n",
    "import numpy as np\n",
    "import pickle\n",
    "from tensorflow.keras.models import load_model"
   ]
  },
  {
   "cell_type": "code",
   "execution_count": 2,
   "id": "2afbb900",
   "metadata": {},
   "outputs": [],
   "source": [
    "df_t=pd.read_csv('./data/test.csv')"
   ]
  },
  {
   "cell_type": "code",
   "execution_count": 3,
   "id": "81e6aede",
   "metadata": {},
   "outputs": [],
   "source": [
    "df=pd.read_csv('./data/test_features_processed.csv')"
   ]
  },
  {
   "cell_type": "markdown",
   "id": "d9c9e254",
   "metadata": {},
   "source": [
    "## 1. Prediction with ann"
   ]
  },
  {
   "cell_type": "code",
   "execution_count": 4,
   "id": "d7db03bf",
   "metadata": {},
   "outputs": [],
   "source": [
    "ann_mod=load_model('./models/ann_titanic.h5')"
   ]
  },
  {
   "cell_type": "code",
   "execution_count": 5,
   "id": "9f453882",
   "metadata": {
    "scrolled": true
   },
   "outputs": [
    {
     "name": "stderr",
     "output_type": "stream",
     "text": [
      "/home/chaitanya/anaconda3/lib/python3.8/site-packages/tensorflow/python/keras/engine/sequential.py:450: UserWarning: `model.predict_classes()` is deprecated and will be removed after 2021-01-01. Please use instead:* `np.argmax(model.predict(x), axis=-1)`,   if your model does multi-class classification   (e.g. if it uses a `softmax` last-layer activation).* `(model.predict(x) > 0.5).astype(\"int32\")`,   if your model does binary classification   (e.g. if it uses a `sigmoid` last-layer activation).\n",
      "  warnings.warn('`model.predict_classes()` is deprecated and '\n"
     ]
    }
   ],
   "source": [
    "y_pred_ann=ann_mod.predict_classes(df.values)"
   ]
  },
  {
   "cell_type": "code",
   "execution_count": 6,
   "id": "22434901",
   "metadata": {},
   "outputs": [
    {
     "data": {
      "text/plain": [
       "(418,)"
      ]
     },
     "execution_count": 6,
     "metadata": {},
     "output_type": "execute_result"
    }
   ],
   "source": [
    "y_pred_ann.squeeze().shape"
   ]
  },
  {
   "cell_type": "code",
   "execution_count": 7,
   "id": "25ca46cd",
   "metadata": {},
   "outputs": [],
   "source": [
    "submission=pd.DataFrame({'PassengerID':df_t['PassengerId'],'Survived':y_pred_ann.squeeze()})"
   ]
  },
  {
   "cell_type": "code",
   "execution_count": 8,
   "id": "f07a3327",
   "metadata": {},
   "outputs": [],
   "source": [
    "submission.to_csv('Titanic_sub_ann.csv',index=False)"
   ]
  },
  {
   "cell_type": "markdown",
   "id": "b08d940a",
   "metadata": {},
   "source": [
    "## 2. Prediction with AdaBoost"
   ]
  },
  {
   "cell_type": "code",
   "execution_count": 9,
   "id": "3f4b77d9",
   "metadata": {},
   "outputs": [],
   "source": [
    "adbst=pickle.load(open('./models/AdaBoostClassifier_titanic.model','rb'))\n",
    "y_pred_adbst=adbst.predict(df)\n",
    "\n",
    "submission=pd.DataFrame({'PassengerID':df_t['PassengerId'],'Survived':y_pred_adbst})\n",
    "submission.to_csv('Titanic_sub_adbst.csv',index=False)"
   ]
  },
  {
   "cell_type": "markdown",
   "id": "315b41af",
   "metadata": {},
   "source": [
    "## 3. Prediction SVM"
   ]
  },
  {
   "cell_type": "code",
   "execution_count": 10,
   "id": "d7683989",
   "metadata": {},
   "outputs": [],
   "source": [
    "svm=pickle.load(open('./models/SVC_titanic.model','rb'))\n",
    "y_pred_svm=adbst.predict(df)\n",
    "\n",
    "submission=pd.DataFrame({'PassengerID':df_t['PassengerId'],'Survived':y_pred_svm})\n",
    "submission.to_csv('Titanic_sub_svm.csv',index=False)"
   ]
  },
  {
   "cell_type": "markdown",
   "id": "3c5b6f07",
   "metadata": {},
   "source": [
    "## 4. Prediction XGboost"
   ]
  },
  {
   "cell_type": "code",
   "execution_count": 11,
   "id": "ba849f3a",
   "metadata": {},
   "outputs": [],
   "source": [
    "xgbst=pickle.load(open('./models/XGBClassifier_titanic.model','rb'))\n",
    "y_pred_xgbst=adbst.predict(df)\n",
    "\n",
    "submission=pd.DataFrame({'PassengerID':df_t['PassengerId'],'Survived':y_pred_xgbst})\n",
    "submission.to_csv('Titanic_sub_xgb.csv',index=False)"
   ]
  }
 ],
 "metadata": {
  "kernelspec": {
   "display_name": "Python 3",
   "language": "python",
   "name": "python3"
  },
  "language_info": {
   "codemirror_mode": {
    "name": "ipython",
    "version": 3
   },
   "file_extension": ".py",
   "mimetype": "text/x-python",
   "name": "python",
   "nbconvert_exporter": "python",
   "pygments_lexer": "ipython3",
   "version": "3.8.10"
  }
 },
 "nbformat": 4,
 "nbformat_minor": 5
}
