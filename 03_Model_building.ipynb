{
 "cells": [
  {
   "cell_type": "markdown",
   "id": "f2b992e4",
   "metadata": {},
   "source": [
    "# Model Building\n",
    "\n",
    "This notebook trains and examins different ML classifiers on training data dataset. \n",
    "\n",
    "* K Nearest neighbours\n",
    "* SVM\n",
    "* Random forest\n",
    "* Logistic regression\n",
    "* Decision Tree\n",
    "* ADABoost\n",
    "* ANN"
   ]
  },
  {
   "cell_type": "code",
   "execution_count": 1,
   "id": "c3c3d025",
   "metadata": {},
   "outputs": [],
   "source": [
    "import pandas as pd\n",
    "import numpy as np\n",
    "\n",
    "from sklearn.model_selection import train_test_split, KFold, StratifiedKFold, GridSearchCV\n",
    "\n",
    "from sklearn.linear_model import LogisticRegression\n",
    "from sklearn.ensemble import RandomForestClassifier, AdaBoostClassifier, BaggingClassifier, GradientBoostingClassifier\n",
    "from sklearn.svm import SVC\n",
    "from sklearn.tree import DecisionTreeClassifier\n",
    "from sklearn.neighbors import KNeighborsClassifier\n",
    "import xgboost as xgb\n",
    "\n",
    "import pickle\n",
    "\n",
    "from sklearn.metrics import classification_report, accuracy_score, roc_auc_score, precision_recall_fscore_support\n",
    "from sklearn.utils.class_weight import compute_class_weight"
   ]
  },
  {
   "cell_type": "code",
   "execution_count": 2,
   "id": "9cf0a3e2",
   "metadata": {},
   "outputs": [],
   "source": [
    "df_tr = pd.read_csv('./data/train_features_processed.csv')\n",
    "y_tr = pd.read_csv('./data/train_labels_processed.csv')\n",
    "y_tr = y_tr.squeeze()"
   ]
  },
  {
   "cell_type": "code",
   "execution_count": 3,
   "id": "e47ac51d",
   "metadata": {},
   "outputs": [
    {
     "name": "stdout",
     "output_type": "stream",
     "text": [
      "<class 'pandas.core.frame.DataFrame'>\n",
      "RangeIndex: 891 entries, 0 to 890\n",
      "Data columns (total 9 columns):\n",
      " #   Column   Non-Null Count  Dtype  \n",
      "---  ------   --------------  -----  \n",
      " 0   Age      891 non-null    float64\n",
      " 1   SibSp    891 non-null    float64\n",
      " 2   Parch    891 non-null    float64\n",
      " 3   Fare     891 non-null    float64\n",
      " 4   female   891 non-null    float64\n",
      " 5   C        891 non-null    float64\n",
      " 6   Q        891 non-null    float64\n",
      " 7   Class_2  891 non-null    float64\n",
      " 8   Class_3  891 non-null    float64\n",
      "dtypes: float64(9)\n",
      "memory usage: 62.8 KB\n"
     ]
    }
   ],
   "source": [
    "df_tr.info()"
   ]
  },
  {
   "cell_type": "markdown",
   "id": "49a27691",
   "metadata": {},
   "source": [
    "## 1. Splitting training data\n",
    " Split training dataset into training dataset, cross validation dataset and test dataset - 55%,25% and 20% resp. "
   ]
  },
  {
   "cell_type": "code",
   "execution_count": 4,
   "id": "d538332d",
   "metadata": {},
   "outputs": [],
   "source": [
    "X_train_temp, X_test, y_train_temp, y_test = train_test_split(df_tr,\n",
    "                                                              y_tr,\n",
    "                                                              test_size=0.2,\n",
    "                                                              random_state=42)"
   ]
  },
  {
   "cell_type": "code",
   "execution_count": 5,
   "id": "9576c38b",
   "metadata": {},
   "outputs": [],
   "source": [
    "X_train, X_cv, y_train, y_cv = train_test_split(X_train_temp,\n",
    "                                                y_train_temp,\n",
    "                                                test_size=0.25)"
   ]
  },
  {
   "cell_type": "code",
   "execution_count": 6,
   "id": "73c5cd15",
   "metadata": {},
   "outputs": [
    {
     "data": {
      "text/plain": [
       "pandas.core.series.Series"
      ]
     },
     "execution_count": 6,
     "metadata": {},
     "output_type": "execute_result"
    }
   ],
   "source": [
    "type(y_train)"
   ]
  },
  {
   "cell_type": "markdown",
   "id": "51383b6c",
   "metadata": {},
   "source": [
    "## 2. Model development"
   ]
  },
  {
   "cell_type": "code",
   "execution_count": 7,
   "id": "51e9842d",
   "metadata": {},
   "outputs": [],
   "source": [
    "def bestModel(model, X_train, X_cv, y_train, y_cv, grid):\n",
    "    model_cv = GridSearchCV(model, grid, cv=4)\n",
    "    model_cv.fit(X_train, y_train)\n",
    "    print(\"tuned hpyerparameters :(best parameters) \", model_cv.best_params_)\n",
    "    print(\"accuracy :\", model_cv.best_score_)\n",
    "    mod_best= model_cv.best_estimator_\n",
    "    return mod_best\n",
    "\n",
    "\n",
    "def testModel(model, X_train, X_cv, y_train, y_cv):\n",
    "    model.fit(X_train,y_train)\n",
    "    y_pred_tr = model.predict(X_train)\n",
    "    y_pred_cv = model.predict(X_cv)\n",
    "    precision_tr, recall_tr, fscore_tr, support_tr = precision_recall_fscore_support(\n",
    "        y_train, y_pred_tr, average='macro')\n",
    "    precision_cv, recall_cv, fscore_cv, support_cv = precision_recall_fscore_support(\n",
    "        y_cv, y_pred_cv, average='macro')\n",
    "    report= np.array([precision_tr, recall_tr, fscore_tr, precision_cv, recall_cv, fscore_cv])\n",
    "    return report"
   ]
  },
  {
   "cell_type": "markdown",
   "id": "40f0b4ea",
   "metadata": {},
   "source": [
    "### 1. Logistic Regression"
   ]
  },
  {
   "cell_type": "code",
   "execution_count": 8,
   "id": "03b962ec",
   "metadata": {
    "scrolled": true
   },
   "outputs": [
    {
     "name": "stdout",
     "output_type": "stream",
     "text": [
      "tuned hpyerparameters :(best parameters)  {'C': 0.09426684551178845, 'solver': 'newton-cg'}\n",
      "accuracy : 0.80524071372461\n"
     ]
    }
   ],
   "source": [
    "logReg = LogisticRegression(class_weight='auto', max_iter=200)\n",
    "grid = {\n",
    "    'C': np.logspace(-5, 0, 40),\n",
    "    'solver': ['newton-cg', 'lbfgs', 'sag', 'saga']\n",
    "}\n",
    "logReg_best=bestModel(logReg, X_train, X_cv, y_train, y_cv, grid)"
   ]
  },
  {
   "cell_type": "markdown",
   "id": "c5663670",
   "metadata": {},
   "source": [
    "### 2. K-Nearest neighbours"
   ]
  },
  {
   "cell_type": "code",
   "execution_count": 9,
   "id": "a3fe5e1a",
   "metadata": {},
   "outputs": [
    {
     "name": "stdout",
     "output_type": "stream",
     "text": [
      "tuned hpyerparameters :(best parameters)  {'algorithm': 'auto', 'n_neighbors': 10, 'weights': 'uniform'}\n",
      "accuracy : 0.8183705532487937\n"
     ]
    }
   ],
   "source": [
    "knn = KNeighborsClassifier()\n",
    "grid = {\n",
    "    'n_neighbors': np.int0(np.linspace(3, 22, 20)),\n",
    "    'weights': ['uniform', 'distance'],\n",
    "    'algorithm': ['auto', 'ball_tree', 'kd_tree', 'brute']\n",
    "}\n",
    "knn_best=bestModel(knn, X_train, X_cv, y_train, y_cv, grid)"
   ]
  },
  {
   "cell_type": "markdown",
   "id": "af1392e2",
   "metadata": {},
   "source": [
    "### 3. Decision tree"
   ]
  },
  {
   "cell_type": "code",
   "execution_count": 10,
   "id": "11ffdba0",
   "metadata": {},
   "outputs": [
    {
     "name": "stdout",
     "output_type": "stream",
     "text": [
      "tuned hpyerparameters :(best parameters)  {'criterion': 'gini', 'splitter': 'random'}\n",
      "accuracy : 0.7584586466165414\n"
     ]
    }
   ],
   "source": [
    "decTree = DecisionTreeClassifier()\n",
    "grid = {'criterion': ['gini', 'entropy'], 'splitter': ['best', 'random']}\n",
    "decTree_best=bestModel(decTree, X_train, X_cv, y_train, y_cv, grid)"
   ]
  },
  {
   "cell_type": "markdown",
   "id": "d47f041a",
   "metadata": {},
   "source": [
    "### 4. Random forest"
   ]
  },
  {
   "cell_type": "code",
   "execution_count": 11,
   "id": "54f01b58",
   "metadata": {},
   "outputs": [
    {
     "name": "stdout",
     "output_type": "stream",
     "text": [
      "tuned hpyerparameters :(best parameters)  {'criterion': 'gini', 'n_estimators': 30}\n",
      "accuracy : 0.8052126585119516\n"
     ]
    }
   ],
   "source": [
    "rnFr = RandomForestClassifier()\n",
    "grid = {\n",
    "    'n_estimators': np.array([10,20,30]),\n",
    "    'criterion': ['gini', 'entropy']\n",
    "}\n",
    "rnFr_best=bestModel(rnFr, X_train, X_cv, y_train, y_cv, grid)"
   ]
  },
  {
   "cell_type": "markdown",
   "id": "57f907c4",
   "metadata": {},
   "source": [
    "### 5. SVM"
   ]
  },
  {
   "cell_type": "code",
   "execution_count": 12,
   "id": "7c53698a",
   "metadata": {},
   "outputs": [
    {
     "name": "stdout",
     "output_type": "stream",
     "text": [
      "tuned hpyerparameters :(best parameters)  {'C': 2.782559402207126, 'kernel': 'poly'}\n",
      "accuracy : 0.8239956233868253\n"
     ]
    }
   ],
   "source": [
    "svm = SVC()\n",
    "grid = {\n",
    "    'C': np.logspace(-5, 2, 10),\n",
    "    'kernel': ['linear', 'poly', 'rbf', 'sigmoid']\n",
    "}\n",
    "svm_best=bestModel(svm, X_train, X_cv, y_train, y_cv, grid)"
   ]
  },
  {
   "cell_type": "markdown",
   "id": "b2780b4f",
   "metadata": {},
   "source": [
    "### 6. ADABoost"
   ]
  },
  {
   "cell_type": "code",
   "execution_count": 13,
   "id": "14778ced",
   "metadata": {},
   "outputs": [
    {
     "name": "stdout",
     "output_type": "stream",
     "text": [
      "tuned hpyerparameters :(best parameters)  {'algorithm': 'SAMME'}\n",
      "accuracy : 0.8071484681853888\n"
     ]
    }
   ],
   "source": [
    "adab = AdaBoostClassifier()\n",
    "grid = {'algorithm': ['SAMME', 'SAMME.R']}\n",
    "adab_best=bestModel(adab, X_train, X_cv, y_train, y_cv, grid)"
   ]
  },
  {
   "cell_type": "markdown",
   "id": "8de113e6",
   "metadata": {},
   "source": [
    "### 7. XGBoost"
   ]
  },
  {
   "cell_type": "code",
   "execution_count": 14,
   "id": "af652589",
   "metadata": {
    "scrolled": true
   },
   "outputs": [
    {
     "name": "stdout",
     "output_type": "stream",
     "text": [
      "[07:45:47] WARNING: /tmp/build/80754af9/xgboost-split_1619724447847/work/src/learner.cc:1061: Starting in XGBoost 1.3.0, the default evaluation metric used with the objective 'binary:logistic' was changed from 'error' to 'logloss'. Explicitly set eval_metric if you'd like to restore the old behavior.\n",
      "[07:45:47] WARNING: /tmp/build/80754af9/xgboost-split_1619724447847/work/src/learner.cc:1061: Starting in XGBoost 1.3.0, the default evaluation metric used with the objective 'binary:logistic' was changed from 'error' to 'logloss'. Explicitly set eval_metric if you'd like to restore the old behavior.\n",
      "[07:45:47] WARNING: /tmp/build/80754af9/xgboost-split_1619724447847/work/src/learner.cc:1061: Starting in XGBoost 1.3.0, the default evaluation metric used with the objective 'binary:logistic' was changed from 'error' to 'logloss'. Explicitly set eval_metric if you'd like to restore the old behavior.\n",
      "[07:45:47] WARNING: /tmp/build/80754af9/xgboost-split_1619724447847/work/src/learner.cc:1061: Starting in XGBoost 1.3.0, the default evaluation metric used with the objective 'binary:logistic' was changed from 'error' to 'logloss'. Explicitly set eval_metric if you'd like to restore the old behavior.\n",
      "[07:45:47] WARNING: /tmp/build/80754af9/xgboost-split_1619724447847/work/src/learner.cc:1061: Starting in XGBoost 1.3.0, the default evaluation metric used with the objective 'binary:logistic' was changed from 'error' to 'logloss'. Explicitly set eval_metric if you'd like to restore the old behavior.\n",
      "[07:45:47] WARNING: /tmp/build/80754af9/xgboost-split_1619724447847/work/src/learner.cc:1061: Starting in XGBoost 1.3.0, the default evaluation metric used with the objective 'binary:logistic' was changed from 'error' to 'logloss'. Explicitly set eval_metric if you'd like to restore the old behavior.\n",
      "[07:45:47] WARNING: /tmp/build/80754af9/xgboost-split_1619724447847/work/src/learner.cc:1061: Starting in XGBoost 1.3.0, the default evaluation metric used with the objective 'binary:logistic' was changed from 'error' to 'logloss'. Explicitly set eval_metric if you'd like to restore the old behavior.\n",
      "[07:45:47] WARNING: /tmp/build/80754af9/xgboost-split_1619724447847/work/src/learner.cc:1061: Starting in XGBoost 1.3.0, the default evaluation metric used with the objective 'binary:logistic' was changed from 'error' to 'logloss'. Explicitly set eval_metric if you'd like to restore the old behavior.\n",
      "[07:45:47] WARNING: /tmp/build/80754af9/xgboost-split_1619724447847/work/src/learner.cc:1061: Starting in XGBoost 1.3.0, the default evaluation metric used with the objective 'binary:logistic' was changed from 'error' to 'logloss'. Explicitly set eval_metric if you'd like to restore the old behavior.\n",
      "[07:45:47] WARNING: /tmp/build/80754af9/xgboost-split_1619724447847/work/src/learner.cc:1061: Starting in XGBoost 1.3.0, the default evaluation metric used with the objective 'binary:logistic' was changed from 'error' to 'logloss'. Explicitly set eval_metric if you'd like to restore the old behavior.\n",
      "[07:45:47] WARNING: /tmp/build/80754af9/xgboost-split_1619724447847/work/src/learner.cc:1061: Starting in XGBoost 1.3.0, the default evaluation metric used with the objective 'binary:logistic' was changed from 'error' to 'logloss'. Explicitly set eval_metric if you'd like to restore the old behavior.\n",
      "[07:45:47] WARNING: /tmp/build/80754af9/xgboost-split_1619724447847/work/src/learner.cc:1061: Starting in XGBoost 1.3.0, the default evaluation metric used with the objective 'binary:logistic' was changed from 'error' to 'logloss'. Explicitly set eval_metric if you'd like to restore the old behavior.\n",
      "[07:45:47] WARNING: /tmp/build/80754af9/xgboost-split_1619724447847/work/src/learner.cc:1061: Starting in XGBoost 1.3.0, the default evaluation metric used with the objective 'binary:logistic' was changed from 'error' to 'logloss'. Explicitly set eval_metric if you'd like to restore the old behavior.\n",
      "tuned hpyerparameters :(best parameters)  {'n_estimators': 50}\n",
      "accuracy : 0.7958422174840085\n"
     ]
    }
   ],
   "source": [
    "xgbst = xgb.XGBClassifier(use_label_encoder=False, objective='binary:logistic')\n",
    "grid = {'n_estimators': np.array([50, 70, 100])}\n",
    "xgbst_best=bestModel(xgbst, X_train, X_cv, y_train, y_cv, grid)"
   ]
  },
  {
   "cell_type": "markdown",
   "id": "f3ed6cda",
   "metadata": {},
   "source": [
    "### 8. Neural Network"
   ]
  },
  {
   "cell_type": "code",
   "execution_count": 15,
   "id": "521881f5",
   "metadata": {},
   "outputs": [],
   "source": [
    "from tensorflow.keras.models import Sequential\n",
    "from tensorflow.keras.layers import Dense,Activation\n",
    "from tensorflow.keras.callbacks import EarlyStopping\n",
    "from tensorflow.keras.layers import Dropout"
   ]
  },
  {
   "cell_type": "code",
   "execution_count": 16,
   "id": "29e5aa95",
   "metadata": {},
   "outputs": [],
   "source": [
    "ann_mod=Sequential()\n",
    "ann_mod.add(Dense(units=9,activation='relu'))\n",
    "ann_mod.add(Dropout(0.5))\n",
    "ann_mod.add(Dense(units=18,activation='relu'))\n",
    "ann_mod.add(Dropout(0.5))\n",
    "ann_mod.add(Dense(units=1,activation='sigmoid'))\n",
    "ann_mod.compile(optimizer='adam',loss='binary_crossentropy')"
   ]
  },
  {
   "cell_type": "code",
   "execution_count": 17,
   "id": "1c2d1bd9",
   "metadata": {},
   "outputs": [],
   "source": [
    "early_stop = EarlyStopping(monitor='val_loss', mode='min', verbose=1, patience=25)"
   ]
  },
  {
   "cell_type": "code",
   "execution_count": 18,
   "id": "ec9a22c5",
   "metadata": {},
   "outputs": [
    {
     "name": "stdout",
     "output_type": "stream",
     "text": [
      "Epoch 1/600\n",
      "17/17 [==============================] - 1s 34ms/step - loss: 0.7080 - val_loss: 0.6772\n",
      "Epoch 2/600\n",
      "17/17 [==============================] - 0s 9ms/step - loss: 0.6891 - val_loss: 0.6584\n",
      "Epoch 3/600\n",
      "17/17 [==============================] - 0s 8ms/step - loss: 0.6630 - val_loss: 0.6415\n",
      "Epoch 4/600\n",
      "17/17 [==============================] - 0s 5ms/step - loss: 0.6549 - val_loss: 0.6275\n",
      "Epoch 5/600\n",
      "17/17 [==============================] - 0s 6ms/step - loss: 0.6464 - val_loss: 0.6161\n",
      "Epoch 6/600\n",
      "17/17 [==============================] - 0s 6ms/step - loss: 0.6435 - val_loss: 0.6060\n",
      "Epoch 7/600\n",
      "17/17 [==============================] - 0s 7ms/step - loss: 0.6563 - val_loss: 0.5963\n",
      "Epoch 8/600\n",
      "17/17 [==============================] - 0s 9ms/step - loss: 0.6423 - val_loss: 0.5884\n",
      "Epoch 9/600\n",
      "17/17 [==============================] - 0s 7ms/step - loss: 0.6310 - val_loss: 0.5800\n",
      "Epoch 10/600\n",
      "17/17 [==============================] - 0s 8ms/step - loss: 0.6264 - val_loss: 0.5731\n",
      "Epoch 11/600\n",
      "17/17 [==============================] - 0s 8ms/step - loss: 0.6252 - val_loss: 0.5657\n",
      "Epoch 12/600\n",
      "17/17 [==============================] - 0s 9ms/step - loss: 0.6091 - val_loss: 0.5574\n",
      "Epoch 13/600\n",
      "17/17 [==============================] - 0s 8ms/step - loss: 0.6141 - val_loss: 0.5528\n",
      "Epoch 14/600\n",
      "17/17 [==============================] - 0s 6ms/step - loss: 0.6085 - val_loss: 0.5476\n",
      "Epoch 15/600\n",
      "17/17 [==============================] - 0s 8ms/step - loss: 0.6092 - val_loss: 0.5421\n",
      "Epoch 16/600\n",
      "17/17 [==============================] - 0s 9ms/step - loss: 0.6409 - val_loss: 0.5386\n",
      "Epoch 17/600\n",
      "17/17 [==============================] - 0s 6ms/step - loss: 0.5816 - val_loss: 0.5351\n",
      "Epoch 18/600\n",
      "17/17 [==============================] - 0s 8ms/step - loss: 0.6258 - val_loss: 0.5326\n",
      "Epoch 19/600\n",
      "17/17 [==============================] - 0s 8ms/step - loss: 0.5913 - val_loss: 0.5275\n",
      "Epoch 20/600\n",
      "17/17 [==============================] - 0s 12ms/step - loss: 0.6268 - val_loss: 0.5267\n",
      "Epoch 21/600\n",
      "17/17 [==============================] - 0s 6ms/step - loss: 0.6058 - val_loss: 0.5255\n",
      "Epoch 22/600\n",
      "17/17 [==============================] - 0s 6ms/step - loss: 0.5980 - val_loss: 0.5225\n",
      "Epoch 23/600\n",
      "17/17 [==============================] - 0s 10ms/step - loss: 0.5760 - val_loss: 0.5178\n",
      "Epoch 24/600\n",
      "17/17 [==============================] - 0s 11ms/step - loss: 0.5654 - val_loss: 0.5153\n",
      "Epoch 25/600\n",
      "17/17 [==============================] - 0s 9ms/step - loss: 0.6089 - val_loss: 0.5156\n",
      "Epoch 26/600\n",
      "17/17 [==============================] - 0s 9ms/step - loss: 0.5743 - val_loss: 0.5114\n",
      "Epoch 27/600\n",
      "17/17 [==============================] - 0s 7ms/step - loss: 0.5834 - val_loss: 0.5084\n",
      "Epoch 28/600\n",
      "17/17 [==============================] - 0s 9ms/step - loss: 0.6044 - val_loss: 0.5052\n",
      "Epoch 29/600\n",
      "17/17 [==============================] - 0s 6ms/step - loss: 0.5827 - val_loss: 0.5014\n",
      "Epoch 30/600\n",
      "17/17 [==============================] - 0s 6ms/step - loss: 0.5740 - val_loss: 0.5005\n",
      "Epoch 31/600\n",
      "17/17 [==============================] - 0s 6ms/step - loss: 0.5786 - val_loss: 0.4975\n",
      "Epoch 32/600\n",
      "17/17 [==============================] - 0s 6ms/step - loss: 0.5766 - val_loss: 0.4959\n",
      "Epoch 33/600\n",
      "17/17 [==============================] - 0s 6ms/step - loss: 0.5715 - val_loss: 0.4933\n",
      "Epoch 34/600\n",
      "17/17 [==============================] - 0s 7ms/step - loss: 0.5876 - val_loss: 0.4929\n",
      "Epoch 35/600\n",
      "17/17 [==============================] - 0s 10ms/step - loss: 0.5595 - val_loss: 0.4880\n",
      "Epoch 36/600\n",
      "17/17 [==============================] - 0s 9ms/step - loss: 0.5993 - val_loss: 0.4850\n",
      "Epoch 37/600\n",
      "17/17 [==============================] - 0s 8ms/step - loss: 0.5883 - val_loss: 0.4837\n",
      "Epoch 38/600\n",
      "17/17 [==============================] - 0s 8ms/step - loss: 0.5464 - val_loss: 0.4805\n",
      "Epoch 39/600\n",
      "17/17 [==============================] - 0s 9ms/step - loss: 0.5755 - val_loss: 0.4780\n",
      "Epoch 40/600\n",
      "17/17 [==============================] - 0s 8ms/step - loss: 0.6032 - val_loss: 0.4753\n",
      "Epoch 41/600\n",
      "17/17 [==============================] - 0s 9ms/step - loss: 0.5548 - val_loss: 0.4703\n",
      "Epoch 42/600\n",
      "17/17 [==============================] - 0s 9ms/step - loss: 0.5589 - val_loss: 0.4673\n",
      "Epoch 43/600\n",
      "17/17 [==============================] - 0s 7ms/step - loss: 0.5708 - val_loss: 0.4659\n",
      "Epoch 44/600\n",
      "17/17 [==============================] - 0s 9ms/step - loss: 0.6022 - val_loss: 0.4656\n",
      "Epoch 45/600\n",
      "17/17 [==============================] - 0s 10ms/step - loss: 0.5774 - val_loss: 0.4625\n",
      "Epoch 46/600\n",
      "17/17 [==============================] - 0s 6ms/step - loss: 0.5656 - val_loss: 0.4603\n",
      "Epoch 47/600\n",
      "17/17 [==============================] - 0s 7ms/step - loss: 0.5124 - val_loss: 0.4570\n",
      "Epoch 48/600\n",
      "17/17 [==============================] - 0s 9ms/step - loss: 0.5217 - val_loss: 0.4549\n",
      "Epoch 49/600\n",
      "17/17 [==============================] - 0s 9ms/step - loss: 0.5571 - val_loss: 0.4555\n",
      "Epoch 50/600\n",
      "17/17 [==============================] - 0s 7ms/step - loss: 0.5312 - val_loss: 0.4529\n",
      "Epoch 51/600\n",
      "17/17 [==============================] - 0s 8ms/step - loss: 0.5370 - val_loss: 0.4497\n",
      "Epoch 52/600\n",
      "17/17 [==============================] - 0s 7ms/step - loss: 0.5334 - val_loss: 0.4447\n",
      "Epoch 53/600\n",
      "17/17 [==============================] - 0s 7ms/step - loss: 0.5182 - val_loss: 0.4421\n",
      "Epoch 54/600\n",
      "17/17 [==============================] - 0s 9ms/step - loss: 0.5327 - val_loss: 0.4414\n",
      "Epoch 55/600\n",
      "17/17 [==============================] - 0s 10ms/step - loss: 0.5351 - val_loss: 0.4407\n",
      "Epoch 56/600\n",
      "17/17 [==============================] - 0s 10ms/step - loss: 0.5587 - val_loss: 0.4405\n",
      "Epoch 57/600\n",
      "17/17 [==============================] - 0s 10ms/step - loss: 0.5516 - val_loss: 0.4386\n",
      "Epoch 58/600\n",
      "17/17 [==============================] - 0s 9ms/step - loss: 0.5144 - val_loss: 0.4352\n",
      "Epoch 59/600\n",
      "17/17 [==============================] - 0s 6ms/step - loss: 0.5468 - val_loss: 0.4390\n",
      "Epoch 60/600\n",
      "17/17 [==============================] - 0s 5ms/step - loss: 0.5836 - val_loss: 0.4400\n",
      "Epoch 61/600\n",
      "17/17 [==============================] - 0s 8ms/step - loss: 0.5027 - val_loss: 0.4386\n",
      "Epoch 62/600\n",
      "17/17 [==============================] - 0s 9ms/step - loss: 0.4827 - val_loss: 0.4356\n",
      "Epoch 63/600\n",
      "17/17 [==============================] - 0s 8ms/step - loss: 0.5406 - val_loss: 0.4383\n",
      "Epoch 64/600\n",
      "17/17 [==============================] - 0s 8ms/step - loss: 0.5256 - val_loss: 0.4374\n",
      "Epoch 65/600\n",
      "17/17 [==============================] - 0s 9ms/step - loss: 0.5108 - val_loss: 0.4364\n",
      "Epoch 66/600\n",
      "17/17 [==============================] - 0s 9ms/step - loss: 0.5068 - val_loss: 0.4328\n",
      "Epoch 67/600\n",
      "17/17 [==============================] - 0s 9ms/step - loss: 0.5210 - val_loss: 0.4326\n",
      "Epoch 68/600\n",
      "17/17 [==============================] - 0s 8ms/step - loss: 0.5116 - val_loss: 0.4319\n",
      "Epoch 69/600\n",
      "17/17 [==============================] - 0s 9ms/step - loss: 0.4919 - val_loss: 0.4309\n",
      "Epoch 70/600\n",
      "17/17 [==============================] - 0s 9ms/step - loss: 0.5254 - val_loss: 0.4308\n",
      "Epoch 71/600\n",
      "17/17 [==============================] - 0s 9ms/step - loss: 0.4944 - val_loss: 0.4301\n",
      "Epoch 72/600\n",
      "17/17 [==============================] - 0s 8ms/step - loss: 0.5341 - val_loss: 0.4319\n",
      "Epoch 73/600\n",
      "17/17 [==============================] - 0s 8ms/step - loss: 0.4963 - val_loss: 0.4304\n",
      "Epoch 74/600\n",
      "17/17 [==============================] - 0s 8ms/step - loss: 0.4847 - val_loss: 0.4297\n",
      "Epoch 75/600\n",
      "17/17 [==============================] - 0s 9ms/step - loss: 0.5275 - val_loss: 0.4299\n",
      "Epoch 76/600\n",
      "17/17 [==============================] - 0s 7ms/step - loss: 0.4907 - val_loss: 0.4286\n",
      "Epoch 77/600\n",
      "17/17 [==============================] - 0s 8ms/step - loss: 0.4958 - val_loss: 0.4257\n",
      "Epoch 78/600\n",
      "17/17 [==============================] - 0s 8ms/step - loss: 0.5019 - val_loss: 0.4245\n",
      "Epoch 79/600\n",
      "17/17 [==============================] - 0s 6ms/step - loss: 0.4844 - val_loss: 0.4231\n",
      "Epoch 80/600\n",
      "17/17 [==============================] - 0s 7ms/step - loss: 0.4745 - val_loss: 0.4222\n",
      "Epoch 81/600\n",
      "17/17 [==============================] - 0s 10ms/step - loss: 0.5405 - val_loss: 0.4215\n",
      "Epoch 82/600\n",
      "17/17 [==============================] - 0s 10ms/step - loss: 0.4826 - val_loss: 0.4210\n"
     ]
    },
    {
     "name": "stdout",
     "output_type": "stream",
     "text": [
      "Epoch 83/600\n",
      "17/17 [==============================] - 0s 15ms/step - loss: 0.5289 - val_loss: 0.4228\n",
      "Epoch 84/600\n",
      "17/17 [==============================] - 0s 13ms/step - loss: 0.4636 - val_loss: 0.4218\n",
      "Epoch 85/600\n",
      "17/17 [==============================] - 0s 12ms/step - loss: 0.5594 - val_loss: 0.4232\n",
      "Epoch 86/600\n",
      "17/17 [==============================] - 0s 9ms/step - loss: 0.5275 - val_loss: 0.4222\n",
      "Epoch 87/600\n",
      "17/17 [==============================] - 0s 12ms/step - loss: 0.5221 - val_loss: 0.4223\n",
      "Epoch 88/600\n",
      "17/17 [==============================] - 0s 9ms/step - loss: 0.4860 - val_loss: 0.4201\n",
      "Epoch 89/600\n",
      "17/17 [==============================] - 0s 9ms/step - loss: 0.5011 - val_loss: 0.4187\n",
      "Epoch 90/600\n",
      "17/17 [==============================] - 0s 10ms/step - loss: 0.4990 - val_loss: 0.4201\n",
      "Epoch 91/600\n",
      "17/17 [==============================] - 0s 8ms/step - loss: 0.5076 - val_loss: 0.4211\n",
      "Epoch 92/600\n",
      "17/17 [==============================] - 0s 9ms/step - loss: 0.5026 - val_loss: 0.4223\n",
      "Epoch 93/600\n",
      "17/17 [==============================] - 0s 11ms/step - loss: 0.5442 - val_loss: 0.4243\n",
      "Epoch 94/600\n",
      "17/17 [==============================] - 0s 8ms/step - loss: 0.4800 - val_loss: 0.4224\n",
      "Epoch 95/600\n",
      "17/17 [==============================] - 0s 9ms/step - loss: 0.4783 - val_loss: 0.4207\n",
      "Epoch 96/600\n",
      "17/17 [==============================] - 0s 6ms/step - loss: 0.5407 - val_loss: 0.4204\n",
      "Epoch 97/600\n",
      "17/17 [==============================] - 0s 9ms/step - loss: 0.4975 - val_loss: 0.4186\n",
      "Epoch 98/600\n",
      "17/17 [==============================] - 0s 8ms/step - loss: 0.4815 - val_loss: 0.4167\n",
      "Epoch 99/600\n",
      "17/17 [==============================] - 0s 10ms/step - loss: 0.4823 - val_loss: 0.4163\n",
      "Epoch 100/600\n",
      "17/17 [==============================] - 0s 8ms/step - loss: 0.4679 - val_loss: 0.4149\n",
      "Epoch 101/600\n",
      "17/17 [==============================] - 0s 9ms/step - loss: 0.4946 - val_loss: 0.4147\n",
      "Epoch 102/600\n",
      "17/17 [==============================] - 0s 11ms/step - loss: 0.5196 - val_loss: 0.4145\n",
      "Epoch 103/600\n",
      "17/17 [==============================] - 0s 9ms/step - loss: 0.4803 - val_loss: 0.4125\n",
      "Epoch 104/600\n",
      "17/17 [==============================] - 0s 5ms/step - loss: 0.5537 - val_loss: 0.4161\n",
      "Epoch 105/600\n",
      "17/17 [==============================] - 0s 6ms/step - loss: 0.5226 - val_loss: 0.4147\n",
      "Epoch 106/600\n",
      "17/17 [==============================] - 0s 8ms/step - loss: 0.5366 - val_loss: 0.4137\n",
      "Epoch 107/600\n",
      "17/17 [==============================] - 0s 11ms/step - loss: 0.4874 - val_loss: 0.4127\n",
      "Epoch 108/600\n",
      "17/17 [==============================] - 0s 8ms/step - loss: 0.4681 - val_loss: 0.4132\n",
      "Epoch 109/600\n",
      "17/17 [==============================] - 0s 7ms/step - loss: 0.4919 - val_loss: 0.4129\n",
      "Epoch 110/600\n",
      "17/17 [==============================] - 0s 7ms/step - loss: 0.5310 - val_loss: 0.4143\n",
      "Epoch 111/600\n",
      "17/17 [==============================] - 0s 8ms/step - loss: 0.4634 - val_loss: 0.4141\n",
      "Epoch 112/600\n",
      "17/17 [==============================] - 0s 8ms/step - loss: 0.4666 - val_loss: 0.4141\n",
      "Epoch 113/600\n",
      "17/17 [==============================] - 0s 7ms/step - loss: 0.4945 - val_loss: 0.4167\n",
      "Epoch 114/600\n",
      "17/17 [==============================] - 0s 9ms/step - loss: 0.4774 - val_loss: 0.4170\n",
      "Epoch 115/600\n",
      "17/17 [==============================] - 0s 7ms/step - loss: 0.4517 - val_loss: 0.4154\n",
      "Epoch 116/600\n",
      "17/17 [==============================] - 0s 7ms/step - loss: 0.4850 - val_loss: 0.4139\n",
      "Epoch 117/600\n",
      "17/17 [==============================] - 0s 9ms/step - loss: 0.4730 - val_loss: 0.4127\n",
      "Epoch 118/600\n",
      "17/17 [==============================] - 0s 6ms/step - loss: 0.4758 - val_loss: 0.4112\n",
      "Epoch 119/600\n",
      "17/17 [==============================] - 0s 8ms/step - loss: 0.4645 - val_loss: 0.4122\n",
      "Epoch 120/600\n",
      "17/17 [==============================] - 0s 8ms/step - loss: 0.4998 - val_loss: 0.4142\n",
      "Epoch 121/600\n",
      "17/17 [==============================] - 0s 5ms/step - loss: 0.4861 - val_loss: 0.4140\n",
      "Epoch 122/600\n",
      "17/17 [==============================] - 0s 6ms/step - loss: 0.4723 - val_loss: 0.4122\n",
      "Epoch 123/600\n",
      "17/17 [==============================] - 0s 10ms/step - loss: 0.4927 - val_loss: 0.4108\n",
      "Epoch 124/600\n",
      "17/17 [==============================] - 0s 7ms/step - loss: 0.4992 - val_loss: 0.4117\n",
      "Epoch 125/600\n",
      "17/17 [==============================] - 0s 8ms/step - loss: 0.4914 - val_loss: 0.4136\n",
      "Epoch 126/600\n",
      "17/17 [==============================] - 0s 8ms/step - loss: 0.4981 - val_loss: 0.4129\n",
      "Epoch 127/600\n",
      "17/17 [==============================] - 0s 8ms/step - loss: 0.4946 - val_loss: 0.4122\n",
      "Epoch 128/600\n",
      "17/17 [==============================] - 0s 9ms/step - loss: 0.5054 - val_loss: 0.4130\n",
      "Epoch 129/600\n",
      "17/17 [==============================] - 0s 9ms/step - loss: 0.4986 - val_loss: 0.4109\n",
      "Epoch 130/600\n",
      "17/17 [==============================] - 0s 8ms/step - loss: 0.5078 - val_loss: 0.4122\n",
      "Epoch 131/600\n",
      "17/17 [==============================] - 0s 8ms/step - loss: 0.4779 - val_loss: 0.4106\n",
      "Epoch 132/600\n",
      "17/17 [==============================] - 0s 9ms/step - loss: 0.4519 - val_loss: 0.4111\n",
      "Epoch 133/600\n",
      "17/17 [==============================] - 0s 5ms/step - loss: 0.5191 - val_loss: 0.4117\n",
      "Epoch 134/600\n",
      "17/17 [==============================] - 0s 5ms/step - loss: 0.5542 - val_loss: 0.4133\n",
      "Epoch 135/600\n",
      "17/17 [==============================] - 0s 5ms/step - loss: 0.4831 - val_loss: 0.4158\n",
      "Epoch 136/600\n",
      "17/17 [==============================] - 0s 5ms/step - loss: 0.5315 - val_loss: 0.4161\n",
      "Epoch 137/600\n",
      "17/17 [==============================] - 0s 5ms/step - loss: 0.4732 - val_loss: 0.4152\n",
      "Epoch 138/600\n",
      "17/17 [==============================] - 0s 6ms/step - loss: 0.5109 - val_loss: 0.4170\n",
      "Epoch 139/600\n",
      "17/17 [==============================] - 0s 7ms/step - loss: 0.4848 - val_loss: 0.4173\n",
      "Epoch 140/600\n",
      "17/17 [==============================] - 0s 6ms/step - loss: 0.5073 - val_loss: 0.4166\n",
      "Epoch 141/600\n",
      "17/17 [==============================] - 0s 7ms/step - loss: 0.5070 - val_loss: 0.4165\n",
      "Epoch 142/600\n",
      "17/17 [==============================] - 0s 11ms/step - loss: 0.5053 - val_loss: 0.4168\n",
      "Epoch 143/600\n",
      "17/17 [==============================] - 0s 10ms/step - loss: 0.4758 - val_loss: 0.4149\n",
      "Epoch 144/600\n",
      "17/17 [==============================] - 0s 9ms/step - loss: 0.4575 - val_loss: 0.4150\n",
      "Epoch 145/600\n",
      "17/17 [==============================] - 0s 11ms/step - loss: 0.4416 - val_loss: 0.4136\n",
      "Epoch 146/600\n",
      "17/17 [==============================] - 0s 6ms/step - loss: 0.4762 - val_loss: 0.4137\n",
      "Epoch 147/600\n",
      "17/17 [==============================] - 0s 6ms/step - loss: 0.4858 - val_loss: 0.4142\n",
      "Epoch 148/600\n",
      "17/17 [==============================] - 0s 7ms/step - loss: 0.4372 - val_loss: 0.4134\n",
      "Epoch 149/600\n",
      "17/17 [==============================] - 0s 6ms/step - loss: 0.4540 - val_loss: 0.4134\n",
      "Epoch 150/600\n",
      "17/17 [==============================] - 0s 7ms/step - loss: 0.4704 - val_loss: 0.4143\n",
      "Epoch 151/600\n",
      "17/17 [==============================] - 0s 9ms/step - loss: 0.5161 - val_loss: 0.4161\n",
      "Epoch 152/600\n",
      "17/17 [==============================] - 0s 8ms/step - loss: 0.5054 - val_loss: 0.4172\n",
      "Epoch 153/600\n",
      "17/17 [==============================] - 0s 8ms/step - loss: 0.4666 - val_loss: 0.4153\n",
      "Epoch 154/600\n",
      "17/17 [==============================] - 0s 7ms/step - loss: 0.5133 - val_loss: 0.4146\n",
      "Epoch 155/600\n",
      "17/17 [==============================] - 0s 8ms/step - loss: 0.4820 - val_loss: 0.4137\n",
      "Epoch 156/600\n",
      "17/17 [==============================] - 0s 7ms/step - loss: 0.5138 - val_loss: 0.4149\n",
      "Epoch 00156: early stopping\n"
     ]
    },
    {
     "data": {
      "text/plain": [
       "<tensorflow.python.keras.callbacks.History at 0x7f4df82410d0>"
      ]
     },
     "execution_count": 18,
     "metadata": {},
     "output_type": "execute_result"
    }
   ],
   "source": [
    "ann_mod.fit(x=X_train.values, \n",
    "          y=y_train.values, \n",
    "          epochs=600,\n",
    "          validation_data=(X_cv.values, y_cv.values), verbose=1,\n",
    "          callbacks=[early_stop])"
   ]
  },
  {
   "cell_type": "code",
   "execution_count": 19,
   "id": "f6610ea5",
   "metadata": {
    "scrolled": true
   },
   "outputs": [
    {
     "data": {
      "text/plain": [
       "<AxesSubplot:>"
      ]
     },
     "execution_count": 19,
     "metadata": {},
     "output_type": "execute_result"
    },
    {
     "data": {
      "image/png": "[encoded data removed]",
      "text/plain": [
       "<Figure size 432x288 with 1 Axes>"
      ]
     },
     "metadata": {
      "needs_background": "light"
     },
     "output_type": "display_data"
    }
   ],
   "source": [
    "model_loss=pd.DataFrame(ann_mod.history.history)\n",
    "model_loss.plot()"
   ]
  },
  {
   "cell_type": "code",
   "execution_count": 20,
   "id": "967261f1",
   "metadata": {
    "scrolled": true
   },
   "outputs": [
    {
     "name": "stderr",
     "output_type": "stream",
     "text": [
      "/home/chaitanya/anaconda3/lib/python3.8/site-packages/tensorflow/python/keras/engine/sequential.py:450: UserWarning: `model.predict_classes()` is deprecated and will be removed after 2021-01-01. Please use instead:* `np.argmax(model.predict(x), axis=-1)`,   if your model does multi-class classification   (e.g. if it uses a `softmax` last-layer activation).* `(model.predict(x) > 0.5).astype(\"int32\")`,   if your model does binary classification   (e.g. if it uses a `sigmoid` last-layer activation).\n",
      "  warnings.warn('`model.predict_classes()` is deprecated and '\n"
     ]
    }
   ],
   "source": [
    "y_pred_tr = ann_mod.predict_classes(X_train.values)\n",
    "y_pred_cv = ann_mod.predict_classes(X_cv.values)\n",
    "precision_tr, recall_tr, fscore_tr, support_tr = precision_recall_fscore_support(\n",
    "    y_train.values, y_pred_tr, average='macro')\n",
    "precision_cv, recall_cv, fscore_cv, support_cv = precision_recall_fscore_support(\n",
    "    y_cv.values, y_pred_cv, average='macro')"
   ]
  },
  {
   "cell_type": "code",
   "execution_count": 21,
   "id": "66573375",
   "metadata": {},
   "outputs": [
    {
     "name": "stdout",
     "output_type": "stream",
     "text": [
      "0.8447921206310468 0.7938057040998218 0.8074684522276591 None\n",
      "0.8292200601170701 0.7852247807017544 0.799045850176627 None\n"
     ]
    }
   ],
   "source": [
    "print(precision_tr, recall_tr, fscore_tr, support_tr)\n",
    "print(precision_cv, recall_cv, fscore_cv, support_cv)"
   ]
  },
  {
   "cell_type": "code",
   "execution_count": 22,
   "id": "323829a1",
   "metadata": {},
   "outputs": [],
   "source": [
    "ann_mod.save('ann_titanic.h5')\n"
   ]
  },
  {
   "cell_type": "markdown",
   "id": "86fc3a3e",
   "metadata": {},
   "source": [
    "## 3. Model testing"
   ]
  },
  {
   "cell_type": "code",
   "execution_count": 23,
   "id": "b1f06ed3",
   "metadata": {},
   "outputs": [],
   "source": [
    "model_list=[logReg_best,knn_best,decTree_best,rnFr_best,svm_best,adab_best,xgbst_best]"
   ]
  },
  {
   "cell_type": "code",
   "execution_count": 24,
   "id": "7de47ce1",
   "metadata": {},
   "outputs": [
    {
     "name": "stdout",
     "output_type": "stream",
     "text": [
      "LogisticRegression\n",
      "KNeighborsClassifier\n",
      "DecisionTreeClassifier\n",
      "RandomForestClassifier\n",
      "SVC\n",
      "AdaBoostClassifier\n",
      "XGBClassifier\n"
     ]
    }
   ],
   "source": [
    "for model in model_list:\n",
    "    print(str(model).split('(')[0])"
   ]
  },
  {
   "cell_type": "code",
   "execution_count": 25,
   "id": "d9ebbe7e",
   "metadata": {},
   "outputs": [
    {
     "name": "stdout",
     "output_type": "stream",
     "text": [
      "[07:46:12] WARNING: /tmp/build/80754af9/xgboost-split_1619724447847/work/src/learner.cc:1061: Starting in XGBoost 1.3.0, the default evaluation metric used with the objective 'binary:logistic' was changed from 'error' to 'logloss'. Explicitly set eval_metric if you'd like to restore the old behavior.\n"
     ]
    }
   ],
   "source": [
    "report_d={}\n",
    "for model in model_list:\n",
    "    name=str(model).split('(')[0]\n",
    "    filename = './models/'+name + '_titanic.model'\n",
    "    pickle.dump(model, open(filename, 'wb'))\n",
    "    report=testModel(model, X_train, X_cv, y_train, y_cv)\n",
    "    report_d[name]=report"
   ]
  },
  {
   "cell_type": "code",
   "execution_count": 26,
   "id": "6dd832ed",
   "metadata": {},
   "outputs": [
    {
     "data": {
      "text/plain": [
       "{'LogisticRegression': array([0.80318269, 0.76149733, 0.77247191, 0.82922006, 0.78522478,\n",
       "        0.79904585]),\n",
       " 'KNeighborsClassifier': array([0.85450323, 0.78912656, 0.80458832, 0.84989824, 0.78275768,\n",
       "        0.80062724]),\n",
       " 'DecisionTreeClassifier': array([0.98413537, 0.97642602, 0.98001497, 0.71996753, 0.72286184,\n",
       "        0.72130701]),\n",
       " 'RandomForestClassifier': array([0.97501804, 0.96942959, 0.97207655, 0.83694379, 0.81551535,\n",
       "        0.8240113 ]),\n",
       " 'SVC': array([0.86268657, 0.78877005, 0.80522007, 0.84989824, 0.78275768,\n",
       "        0.80062724]),\n",
       " 'AdaBoostClassifier': array([0.80680084, 0.79572193, 0.80028484, 0.797863  , 0.77891996,\n",
       "        0.78629944]),\n",
       " 'XGBClassifier': array([0.95763812, 0.94001783, 0.94749263, 0.84712644, 0.83114035,\n",
       "        0.83788707])}"
      ]
     },
     "execution_count": 26,
     "metadata": {},
     "output_type": "execute_result"
    }
   ],
   "source": [
    "report_d"
   ]
  },
  {
   "cell_type": "code",
   "execution_count": 28,
   "id": "e9b176b7",
   "metadata": {},
   "outputs": [
    {
     "name": "stdout",
     "output_type": "stream",
     "text": [
      "[07:47:43] WARNING: /tmp/build/80754af9/xgboost-split_1619724447847/work/src/learner.cc:1061: Starting in XGBoost 1.3.0, the default evaluation metric used with the objective 'binary:logistic' was changed from 'error' to 'logloss'. Explicitly set eval_metric if you'd like to restore the old behavior.\n"
     ]
    }
   ],
   "source": [
    "report_test={}\n",
    "for model in model_list:\n",
    "    name=str(model).split('(')[0]\n",
    "    filename = './models/'+name + '_titanic.model'\n",
    "    mod=pickle.load(open(filename, 'rb'))\n",
    "    report=testModel(mod, X_train, X_test, y_train, y_test)\n",
    "    report_test[name]=report"
   ]
  },
  {
   "cell_type": "code",
   "execution_count": 29,
   "id": "7bd8d24d",
   "metadata": {},
   "outputs": [
    {
     "data": {
      "text/plain": [
       "{'LogisticRegression': array([0.80318269, 0.76149733, 0.77247191, 0.7984375 , 0.78268983,\n",
       "        0.78774704]),\n",
       " 'KNeighborsClassifier': array([0.85450323, 0.78912656, 0.80458832, 0.81582633, 0.79021879,\n",
       "        0.79724147]),\n",
       " 'DecisionTreeClassifier': array([0.98413537, 0.97642602, 0.98001497, 0.80390904, 0.80617761,\n",
       "        0.8049359 ]),\n",
       " 'RandomForestClassifier': array([0.97651691, 0.97188057, 0.97409653, 0.83068362, 0.82123552,\n",
       "        0.82492175]),\n",
       " 'SVC': array([0.86268657, 0.78877005, 0.80522007, 0.82288037, 0.78622909,\n",
       "        0.79466937]),\n",
       " 'AdaBoostClassifier': array([0.80680084, 0.79572193, 0.80028484, 0.82397892, 0.81647362,\n",
       "        0.81951537]),\n",
       " 'XGBClassifier': array([0.95763812, 0.94001783, 0.94749263, 0.85124611, 0.84826255,\n",
       "        0.84963815])}"
      ]
     },
     "execution_count": 29,
     "metadata": {},
     "output_type": "execute_result"
    }
   ],
   "source": [
    "report_test"
   ]
  },
  {
   "cell_type": "code",
   "execution_count": null,
   "id": "7e6b9618",
   "metadata": {},
   "outputs": [],
   "source": []
  }
 ],
 "metadata": {
  "kernelspec": {
   "display_name": "Python 3",
   "language": "python",
   "name": "python3"
  },
  "language_info": {
   "codemirror_mode": {
    "name": "ipython",
    "version": 3
   },
   "file_extension": ".py",
   "mimetype": "text/x-python",
   "name": "python",
   "nbconvert_exporter": "python",
   "pygments_lexer": "ipython3",
   "version": "3.8.10"
  }
 },
 "nbformat": 4,
 "nbformat_minor": 5
}
