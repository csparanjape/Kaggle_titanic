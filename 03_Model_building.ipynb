{
 "cells": [
  {
   "cell_type": "markdown",
   "id": "f2b992e4",
   "metadata": {},
   "source": [
    "# Model Building\n",
    "\n",
    "This notebook trains and examins different ML classifiers on training data dataset. \n",
    "\n",
    "* K Nearest neighbours\n",
    "* SVM\n",
    "* Random forest\n",
    "* Logistic regression\n",
    "* Decision Tree\n",
    "* ADABoost\n",
    "* ANN"
   ]
  },
  {
   "cell_type": "code",
   "execution_count": 1,
   "id": "c3c3d025",
   "metadata": {},
   "outputs": [],
   "source": [
    "import pandas as pd\n",
    "import numpy as np\n",
    "\n",
    "from sklearn.model_selection import train_test_split, KFold, StratifiedKFold, GridSearchCV\n",
    "\n",
    "from sklearn.linear_model import LogisticRegression\n",
    "from sklearn.ensemble import RandomForestClassifier, AdaBoostClassifier, BaggingClassifier, GradientBoostingClassifier\n",
    "from sklearn.svm import SVC\n",
    "from sklearn.tree import DecisionTreeClassifier\n",
    "from sklearn.neighbors import KNeighborsClassifier\n",
    "import xgboost as xgb\n",
    "\n",
    "import pickle\n",
    "\n",
    "from sklearn.metrics import classification_report, accuracy_score, roc_auc_score, precision_recall_fscore_support\n",
    "from sklearn.utils.class_weight import compute_class_weight"
   ]
  },
  {
   "cell_type": "code",
   "execution_count": 2,
   "id": "9cf0a3e2",
   "metadata": {},
   "outputs": [],
   "source": [
    "df_tr = pd.read_csv('./data/train_features_processed.csv')\n",
    "y_tr = pd.read_csv('./data/train_labels_processed.csv')\n",
    "y_tr = y_tr.squeeze()"
   ]
  },
  {
   "cell_type": "code",
   "execution_count": 3,
   "id": "e47ac51d",
   "metadata": {},
   "outputs": [
    {
     "name": "stdout",
     "output_type": "stream",
     "text": [
      "<class 'pandas.core.frame.DataFrame'>\n",
      "RangeIndex: 891 entries, 0 to 890\n",
      "Data columns (total 9 columns):\n",
      " #   Column   Non-Null Count  Dtype  \n",
      "---  ------   --------------  -----  \n",
      " 0   Age      891 non-null    float64\n",
      " 1   SibSp    891 non-null    float64\n",
      " 2   Parch    891 non-null    float64\n",
      " 3   Fare     891 non-null    float64\n",
      " 4   female   891 non-null    float64\n",
      " 5   C        891 non-null    float64\n",
      " 6   Q        891 non-null    float64\n",
      " 7   Class_2  891 non-null    float64\n",
      " 8   Class_3  891 non-null    float64\n",
      "dtypes: float64(9)\n",
      "memory usage: 62.8 KB\n"
     ]
    }
   ],
   "source": [
    "df_tr.info()"
   ]
  },
  {
   "cell_type": "markdown",
   "id": "49a27691",
   "metadata": {},
   "source": [
    "## 1. Splitting training data\n",
    " Split training dataset into training dataset, cross validation dataset and test dataset - 55%,25% and 20% resp. "
   ]
  },
  {
   "cell_type": "code",
   "execution_count": 4,
   "id": "d538332d",
   "metadata": {},
   "outputs": [],
   "source": [
    "X_train_temp, X_test, y_train_temp, y_test = train_test_split(df_tr,\n",
    "                                                              y_tr,\n",
    "                                                              test_size=0.2,\n",
    "                                                              random_state=42)"
   ]
  },
  {
   "cell_type": "code",
   "execution_count": 5,
   "id": "9576c38b",
   "metadata": {},
   "outputs": [],
   "source": [
    "X_train, X_cv, y_train, y_cv = train_test_split(X_train_temp,\n",
    "                                                y_train_temp,\n",
    "                                                test_size=0.25)"
   ]
  },
  {
   "cell_type": "code",
   "execution_count": 6,
   "id": "73c5cd15",
   "metadata": {},
   "outputs": [
    {
     "data": {
      "text/plain": [
       "pandas.core.series.Series"
      ]
     },
     "execution_count": 6,
     "metadata": {},
     "output_type": "execute_result"
    }
   ],
   "source": [
    "type(y_train)"
   ]
  },
  {
   "cell_type": "markdown",
   "id": "51383b6c",
   "metadata": {},
   "source": [
    "## 2. Model development"
   ]
  },
  {
   "cell_type": "code",
   "execution_count": 7,
   "id": "51e9842d",
   "metadata": {},
   "outputs": [],
   "source": [
    "def bestModel(model, X_train, X_cv, y_train, y_cv, grid):\n",
    "    model_cv = GridSearchCV(model, grid, cv=4)\n",
    "    model_cv.fit(X_train, y_train)\n",
    "    print(\"tuned hpyerparameters :(best parameters) \", model_cv.best_params_)\n",
    "    print(\"accuracy :\", model_cv.best_score_)\n",
    "    mod_best= model_cv.best_estimator_\n",
    "    return mod_best\n",
    "\n",
    "\n",
    "def testModel(model, X_train, X_cv, y_train, y_cv):\n",
    "    model.fit(X_train,y_train)\n",
    "    y_pred_tr = model.predict(X_train)\n",
    "    y_pred_cv = model.predict(X_cv)\n",
    "    precision_tr, recall_tr, fscore_tr, support_tr = precision_recall_fscore_support(\n",
    "        y_train, y_pred_tr, average='macro')\n",
    "    precision_cv, recall_cv, fscore_cv, support_cv = precision_recall_fscore_support(\n",
    "        y_cv, y_pred_cv, average='macro')\n",
    "    report= np.array([precision_tr, recall_tr, fscore_tr, precision_cv, recall_cv, fscore_cv])\n",
    "    return report"
   ]
  },
  {
   "cell_type": "markdown",
   "id": "40f0b4ea",
   "metadata": {},
   "source": [
    "### 1. Logistic Regression"
   ]
  },
  {
   "cell_type": "code",
   "execution_count": 8,
   "id": "03b962ec",
   "metadata": {
    "scrolled": true
   },
   "outputs": [
    {
     "name": "stdout",
     "output_type": "stream",
     "text": [
      "tuned hpyerparameters :(best parameters)  {'C': 0.17012542798525856, 'solver': 'newton-cg'}\n",
      "accuracy : 0.8016215912916619\n"
     ]
    }
   ],
   "source": [
    "logReg = LogisticRegression(class_weight='auto', max_iter=200)\n",
    "grid = {\n",
    "    'C': np.logspace(-5, 0, 40),\n",
    "    'solver': ['newton-cg', 'lbfgs', 'sag', 'saga']\n",
    "}\n",
    "logReg_best=bestModel(logReg, X_train, X_cv, y_train, y_cv, grid)"
   ]
  },
  {
   "cell_type": "markdown",
   "id": "c5663670",
   "metadata": {},
   "source": [
    "### 2. K-Nearest neighbours"
   ]
  },
  {
   "cell_type": "code",
   "execution_count": 9,
   "id": "a3fe5e1a",
   "metadata": {},
   "outputs": [
    {
     "name": "stdout",
     "output_type": "stream",
     "text": [
      "tuned hpyerparameters :(best parameters)  {'algorithm': 'auto', 'n_neighbors': 11, 'weights': 'uniform'}\n",
      "accuracy : 0.8034171249018068\n"
     ]
    }
   ],
   "source": [
    "knn = KNeighborsClassifier()\n",
    "grid = {\n",
    "    'n_neighbors': np.int0(np.linspace(3, 22, 20)),\n",
    "    'weights': ['uniform', 'distance'],\n",
    "    'algorithm': ['auto', 'ball_tree', 'kd_tree', 'brute']\n",
    "}\n",
    "knn_best=bestModel(knn, X_train, X_cv, y_train, y_cv, grid)"
   ]
  },
  {
   "cell_type": "markdown",
   "id": "af1392e2",
   "metadata": {},
   "source": [
    "### 3. Decision tree"
   ]
  },
  {
   "cell_type": "code",
   "execution_count": 10,
   "id": "11ffdba0",
   "metadata": {},
   "outputs": [
    {
     "name": "stdout",
     "output_type": "stream",
     "text": [
      "tuned hpyerparameters :(best parameters)  {'criterion': 'entropy', 'splitter': 'best'}\n",
      "accuracy : 0.7602822354393447\n"
     ]
    }
   ],
   "source": [
    "decTree = DecisionTreeClassifier()\n",
    "grid = {'criterion': ['gini', 'entropy'], 'splitter': ['best', 'random']}\n",
    "decTree_best=bestModel(decTree, X_train, X_cv, y_train, y_cv, grid)"
   ]
  },
  {
   "cell_type": "markdown",
   "id": "d47f041a",
   "metadata": {},
   "source": [
    "### 4. Random forest"
   ]
  },
  {
   "cell_type": "code",
   "execution_count": 11,
   "id": "54f01b58",
   "metadata": {},
   "outputs": [
    {
     "name": "stdout",
     "output_type": "stream",
     "text": [
      "tuned hpyerparameters :(best parameters)  {'criterion': 'entropy', 'n_estimators': 10}\n",
      "accuracy : 0.807106385366401\n"
     ]
    }
   ],
   "source": [
    "rnFr = RandomForestClassifier()\n",
    "grid = {\n",
    "    'n_estimators': np.array([10,20,30]),\n",
    "    'criterion': ['gini', 'entropy']\n",
    "}\n",
    "rnFr_best=bestModel(rnFr, X_train, X_cv, y_train, y_cv, grid)"
   ]
  },
  {
   "cell_type": "markdown",
   "id": "57f907c4",
   "metadata": {},
   "source": [
    "### 5. SVM"
   ]
  },
  {
   "cell_type": "code",
   "execution_count": 12,
   "id": "7c53698a",
   "metadata": {},
   "outputs": [
    {
     "name": "stdout",
     "output_type": "stream",
     "text": [
      "tuned hpyerparameters :(best parameters)  {'C': 0.0774263682681127, 'kernel': 'poly'}\n",
      "accuracy : 0.8090421950398383\n"
     ]
    }
   ],
   "source": [
    "svm = SVC()\n",
    "grid = {\n",
    "    'C': np.logspace(-5, 2, 10),\n",
    "    'kernel': ['linear', 'poly', 'rbf', 'sigmoid']\n",
    "}\n",
    "svm_best=bestModel(svm, X_train, X_cv, y_train, y_cv, grid)"
   ]
  },
  {
   "cell_type": "markdown",
   "id": "b2780b4f",
   "metadata": {},
   "source": [
    "### 6. ADABoost"
   ]
  },
  {
   "cell_type": "code",
   "execution_count": 13,
   "id": "14778ced",
   "metadata": {},
   "outputs": [
    {
     "name": "stdout",
     "output_type": "stream",
     "text": [
      "tuned hpyerparameters :(best parameters)  {'algorithm': 'SAMME'}\n",
      "accuracy : 0.7940747390865223\n"
     ]
    }
   ],
   "source": [
    "adab = AdaBoostClassifier()\n",
    "grid = {'algorithm': ['SAMME', 'SAMME.R']}\n",
    "adab_best=bestModel(adab, X_train, X_cv, y_train, y_cv, grid)"
   ]
  },
  {
   "cell_type": "markdown",
   "id": "8de113e6",
   "metadata": {},
   "source": [
    "### 7. XGBoost"
   ]
  },
  {
   "cell_type": "code",
   "execution_count": 14,
   "id": "af652589",
   "metadata": {
    "scrolled": true
   },
   "outputs": [
    {
     "name": "stdout",
     "output_type": "stream",
     "text": [
      "[07:22:22] WARNING: /tmp/build/80754af9/xgboost-split_1619724447847/work/src/learner.cc:1061: Starting in XGBoost 1.3.0, the default evaluation metric used with the objective 'binary:logistic' was changed from 'error' to 'logloss'. Explicitly set eval_metric if you'd like to restore the old behavior.\n",
      "[07:22:22] WARNING: /tmp/build/80754af9/xgboost-split_1619724447847/work/src/learner.cc:1061: Starting in XGBoost 1.3.0, the default evaluation metric used with the objective 'binary:logistic' was changed from 'error' to 'logloss'. Explicitly set eval_metric if you'd like to restore the old behavior.\n",
      "[07:22:22] WARNING: /tmp/build/80754af9/xgboost-split_1619724447847/work/src/learner.cc:1061: Starting in XGBoost 1.3.0, the default evaluation metric used with the objective 'binary:logistic' was changed from 'error' to 'logloss'. Explicitly set eval_metric if you'd like to restore the old behavior.\n",
      "[07:22:22] WARNING: /tmp/build/80754af9/xgboost-split_1619724447847/work/src/learner.cc:1061: Starting in XGBoost 1.3.0, the default evaluation metric used with the objective 'binary:logistic' was changed from 'error' to 'logloss'. Explicitly set eval_metric if you'd like to restore the old behavior.\n",
      "[07:22:22] WARNING: /tmp/build/80754af9/xgboost-split_1619724447847/work/src/learner.cc:1061: Starting in XGBoost 1.3.0, the default evaluation metric used with the objective 'binary:logistic' was changed from 'error' to 'logloss'. Explicitly set eval_metric if you'd like to restore the old behavior.\n",
      "[07:22:22] WARNING: /tmp/build/80754af9/xgboost-split_1619724447847/work/src/learner.cc:1061: Starting in XGBoost 1.3.0, the default evaluation metric used with the objective 'binary:logistic' was changed from 'error' to 'logloss'. Explicitly set eval_metric if you'd like to restore the old behavior.\n",
      "[07:22:22] WARNING: /tmp/build/80754af9/xgboost-split_1619724447847/work/src/learner.cc:1061: Starting in XGBoost 1.3.0, the default evaluation metric used with the objective 'binary:logistic' was changed from 'error' to 'logloss'. Explicitly set eval_metric if you'd like to restore the old behavior.\n",
      "[07:22:22] WARNING: /tmp/build/80754af9/xgboost-split_1619724447847/work/src/learner.cc:1061: Starting in XGBoost 1.3.0, the default evaluation metric used with the objective 'binary:logistic' was changed from 'error' to 'logloss'. Explicitly set eval_metric if you'd like to restore the old behavior.\n",
      "[07:22:22] WARNING: /tmp/build/80754af9/xgboost-split_1619724447847/work/src/learner.cc:1061: Starting in XGBoost 1.3.0, the default evaluation metric used with the objective 'binary:logistic' was changed from 'error' to 'logloss'. Explicitly set eval_metric if you'd like to restore the old behavior.\n",
      "[07:22:22] WARNING: /tmp/build/80754af9/xgboost-split_1619724447847/work/src/learner.cc:1061: Starting in XGBoost 1.3.0, the default evaluation metric used with the objective 'binary:logistic' was changed from 'error' to 'logloss'. Explicitly set eval_metric if you'd like to restore the old behavior.\n",
      "[07:22:22] WARNING: /tmp/build/80754af9/xgboost-split_1619724447847/work/src/learner.cc:1061: Starting in XGBoost 1.3.0, the default evaluation metric used with the objective 'binary:logistic' was changed from 'error' to 'logloss'. Explicitly set eval_metric if you'd like to restore the old behavior.\n",
      "[07:22:22] WARNING: /tmp/build/80754af9/xgboost-split_1619724447847/work/src/learner.cc:1061: Starting in XGBoost 1.3.0, the default evaluation metric used with the objective 'binary:logistic' was changed from 'error' to 'logloss'. Explicitly set eval_metric if you'd like to restore the old behavior.\n",
      "[07:22:22] WARNING: /tmp/build/80754af9/xgboost-split_1619724447847/work/src/learner.cc:1061: Starting in XGBoost 1.3.0, the default evaluation metric used with the objective 'binary:logistic' was changed from 'error' to 'logloss'. Explicitly set eval_metric if you'd like to restore the old behavior.\n",
      "tuned hpyerparameters :(best parameters)  {'n_estimators': 70}\n",
      "accuracy : 0.7827404331724834\n"
     ]
    }
   ],
   "source": [
    "xgbst = xgb.XGBClassifier(use_label_encoder=False, objective='binary:logistic')\n",
    "grid = {'n_estimators': np.array([50, 70, 100])}\n",
    "xgbst_best=bestModel(xgbst, X_train, X_cv, y_train, y_cv, grid)"
   ]
  },
  {
   "cell_type": "markdown",
   "id": "f3ed6cda",
   "metadata": {},
   "source": [
    "### 8. Neural Network"
   ]
  },
  {
   "cell_type": "code",
   "execution_count": 15,
   "id": "521881f5",
   "metadata": {},
   "outputs": [],
   "source": [
    "from tensorflow.keras.models import Sequential\n",
    "from tensorflow.keras.layers import Dense,Activation\n",
    "from tensorflow.keras.callbacks import EarlyStopping\n",
    "from tensorflow.keras.layers import Dropout"
   ]
  },
  {
   "cell_type": "code",
   "execution_count": 16,
   "id": "29e5aa95",
   "metadata": {},
   "outputs": [],
   "source": [
    "ann_mod=Sequential()\n",
    "ann_mod.add(Dense(units=9,activation='relu'))\n",
    "ann_mod.add(Dropout(0.5))\n",
    "ann_mod.add(Dense(units=18,activation='relu'))\n",
    "ann_mod.add(Dropout(0.5))\n",
    "ann_mod.add(Dense(units=1,activation='sigmoid'))\n",
    "ann_mod.compile(optimizer='adam',loss='binary_crossentropy')"
   ]
  },
  {
   "cell_type": "code",
   "execution_count": 17,
   "id": "1c2d1bd9",
   "metadata": {},
   "outputs": [],
   "source": [
    "early_stop = EarlyStopping(monitor='val_loss', mode='min', verbose=1, patience=25)"
   ]
  },
  {
   "cell_type": "code",
   "execution_count": 18,
   "id": "ec9a22c5",
   "metadata": {},
   "outputs": [
    {
     "name": "stdout",
     "output_type": "stream",
     "text": [
      "Epoch 1/600\n",
      "17/17 [==============================] - 1s 39ms/step - loss: 0.7100 - val_loss: 0.6929\n",
      "Epoch 2/600\n",
      "17/17 [==============================] - 0s 11ms/step - loss: 0.6946 - val_loss: 0.6742\n",
      "Epoch 3/600\n",
      "17/17 [==============================] - 0s 10ms/step - loss: 0.6620 - val_loss: 0.6591\n",
      "Epoch 4/600\n",
      "17/17 [==============================] - 0s 13ms/step - loss: 0.6664 - val_loss: 0.6453\n",
      "Epoch 5/600\n",
      "17/17 [==============================] - 0s 7ms/step - loss: 0.6589 - val_loss: 0.6314\n",
      "Epoch 6/600\n",
      "17/17 [==============================] - 0s 11ms/step - loss: 0.6538 - val_loss: 0.6177\n",
      "Epoch 7/600\n",
      "17/17 [==============================] - 0s 13ms/step - loss: 0.6300 - val_loss: 0.6045\n",
      "Epoch 8/600\n",
      "17/17 [==============================] - 0s 16ms/step - loss: 0.6203 - val_loss: 0.5901\n",
      "Epoch 9/600\n",
      "17/17 [==============================] - 0s 13ms/step - loss: 0.6215 - val_loss: 0.5781\n",
      "Epoch 10/600\n",
      "17/17 [==============================] - 0s 14ms/step - loss: 0.6258 - val_loss: 0.5677\n",
      "Epoch 11/600\n",
      "17/17 [==============================] - 0s 13ms/step - loss: 0.6128 - val_loss: 0.5562\n",
      "Epoch 12/600\n",
      "17/17 [==============================] - 0s 12ms/step - loss: 0.6085 - val_loss: 0.5471\n",
      "Epoch 13/600\n",
      "17/17 [==============================] - 0s 13ms/step - loss: 0.5892 - val_loss: 0.5385\n",
      "Epoch 14/600\n",
      "17/17 [==============================] - 0s 10ms/step - loss: 0.5762 - val_loss: 0.5303\n",
      "Epoch 15/600\n",
      "17/17 [==============================] - 0s 12ms/step - loss: 0.5667 - val_loss: 0.5213\n",
      "Epoch 16/600\n",
      "17/17 [==============================] - 0s 11ms/step - loss: 0.5748 - val_loss: 0.5140\n",
      "Epoch 17/600\n",
      "17/17 [==============================] - 0s 11ms/step - loss: 0.5706 - val_loss: 0.5105\n",
      "Epoch 18/600\n",
      "17/17 [==============================] - 0s 10ms/step - loss: 0.5879 - val_loss: 0.5055\n",
      "Epoch 19/600\n",
      "17/17 [==============================] - 0s 9ms/step - loss: 0.5294 - val_loss: 0.4994\n",
      "Epoch 20/600\n",
      "17/17 [==============================] - 0s 19ms/step - loss: 0.5693 - val_loss: 0.4941\n",
      "Epoch 21/600\n",
      "17/17 [==============================] - 0s 13ms/step - loss: 0.5567 - val_loss: 0.4917\n",
      "Epoch 22/600\n",
      "17/17 [==============================] - 0s 11ms/step - loss: 0.5276 - val_loss: 0.4878\n",
      "Epoch 23/600\n",
      "17/17 [==============================] - 0s 29ms/step - loss: 0.5254 - val_loss: 0.4852\n",
      "Epoch 24/600\n",
      "17/17 [==============================] - 0s 8ms/step - loss: 0.5280 - val_loss: 0.4833\n",
      "Epoch 25/600\n",
      "17/17 [==============================] - 0s 13ms/step - loss: 0.5690 - val_loss: 0.4813\n",
      "Epoch 26/600\n",
      "17/17 [==============================] - 0s 11ms/step - loss: 0.4753 - val_loss: 0.4774\n",
      "Epoch 27/600\n",
      "17/17 [==============================] - 0s 13ms/step - loss: 0.5187 - val_loss: 0.4752\n",
      "Epoch 28/600\n",
      "17/17 [==============================] - 0s 10ms/step - loss: 0.5248 - val_loss: 0.4739\n",
      "Epoch 29/600\n",
      "17/17 [==============================] - 0s 7ms/step - loss: 0.4884 - val_loss: 0.4725\n",
      "Epoch 30/600\n",
      "17/17 [==============================] - 0s 7ms/step - loss: 0.5127 - val_loss: 0.4711\n",
      "Epoch 31/600\n",
      "17/17 [==============================] - 0s 7ms/step - loss: 0.5420 - val_loss: 0.4694\n",
      "Epoch 32/600\n",
      "17/17 [==============================] - 0s 7ms/step - loss: 0.5009 - val_loss: 0.4673\n",
      "Epoch 33/600\n",
      "17/17 [==============================] - 0s 8ms/step - loss: 0.5315 - val_loss: 0.4646\n",
      "Epoch 34/600\n",
      "17/17 [==============================] - 0s 10ms/step - loss: 0.5032 - val_loss: 0.4622\n",
      "Epoch 35/600\n",
      "17/17 [==============================] - 0s 10ms/step - loss: 0.4542 - val_loss: 0.4609\n",
      "Epoch 36/600\n",
      "17/17 [==============================] - 0s 9ms/step - loss: 0.5022 - val_loss: 0.4597\n",
      "Epoch 37/600\n",
      "17/17 [==============================] - 0s 9ms/step - loss: 0.5375 - val_loss: 0.4602\n",
      "Epoch 38/600\n",
      "17/17 [==============================] - 0s 6ms/step - loss: 0.5084 - val_loss: 0.4619\n",
      "Epoch 39/600\n",
      "17/17 [==============================] - 0s 8ms/step - loss: 0.4932 - val_loss: 0.4608\n",
      "Epoch 40/600\n",
      "17/17 [==============================] - 0s 9ms/step - loss: 0.5184 - val_loss: 0.4590\n",
      "Epoch 41/600\n",
      "17/17 [==============================] - 0s 9ms/step - loss: 0.4899 - val_loss: 0.4569\n",
      "Epoch 42/600\n",
      "17/17 [==============================] - 0s 15ms/step - loss: 0.5420 - val_loss: 0.4568\n",
      "Epoch 43/600\n",
      "17/17 [==============================] - 0s 11ms/step - loss: 0.5125 - val_loss: 0.4566\n",
      "Epoch 44/600\n",
      "17/17 [==============================] - 0s 7ms/step - loss: 0.5151 - val_loss: 0.4564\n",
      "Epoch 45/600\n",
      "17/17 [==============================] - 0s 7ms/step - loss: 0.5211 - val_loss: 0.4567\n",
      "Epoch 46/600\n",
      "17/17 [==============================] - 0s 7ms/step - loss: 0.5154 - val_loss: 0.4555\n",
      "Epoch 47/600\n",
      "17/17 [==============================] - 0s 7ms/step - loss: 0.5038 - val_loss: 0.4558\n",
      "Epoch 48/600\n",
      "17/17 [==============================] - 0s 7ms/step - loss: 0.4792 - val_loss: 0.4540\n",
      "Epoch 49/600\n",
      "17/17 [==============================] - 0s 8ms/step - loss: 0.5235 - val_loss: 0.4533\n",
      "Epoch 50/600\n",
      "17/17 [==============================] - 0s 7ms/step - loss: 0.4948 - val_loss: 0.4526\n",
      "Epoch 51/600\n",
      "17/17 [==============================] - 0s 8ms/step - loss: 0.4684 - val_loss: 0.4512\n",
      "Epoch 52/600\n",
      "17/17 [==============================] - 0s 7ms/step - loss: 0.5655 - val_loss: 0.4518\n",
      "Epoch 53/600\n",
      "17/17 [==============================] - 0s 6ms/step - loss: 0.5311 - val_loss: 0.4526\n",
      "Epoch 54/600\n",
      "17/17 [==============================] - 0s 8ms/step - loss: 0.5301 - val_loss: 0.4521\n",
      "Epoch 55/600\n",
      "17/17 [==============================] - 0s 6ms/step - loss: 0.4822 - val_loss: 0.4527\n",
      "Epoch 56/600\n",
      "17/17 [==============================] - 0s 7ms/step - loss: 0.5066 - val_loss: 0.4524\n",
      "Epoch 57/600\n",
      "17/17 [==============================] - 0s 8ms/step - loss: 0.4874 - val_loss: 0.4524\n",
      "Epoch 58/600\n",
      "17/17 [==============================] - 0s 10ms/step - loss: 0.5339 - val_loss: 0.4528\n",
      "Epoch 59/600\n",
      "17/17 [==============================] - 0s 10ms/step - loss: 0.4992 - val_loss: 0.4526\n",
      "Epoch 60/600\n",
      "17/17 [==============================] - 0s 10ms/step - loss: 0.5187 - val_loss: 0.4529\n",
      "Epoch 61/600\n",
      "17/17 [==============================] - 0s 11ms/step - loss: 0.5178 - val_loss: 0.4523\n",
      "Epoch 62/600\n",
      "17/17 [==============================] - 0s 10ms/step - loss: 0.5198 - val_loss: 0.4520\n",
      "Epoch 63/600\n",
      "17/17 [==============================] - 0s 11ms/step - loss: 0.5116 - val_loss: 0.4511\n",
      "Epoch 64/600\n",
      "17/17 [==============================] - 0s 12ms/step - loss: 0.4879 - val_loss: 0.4500\n",
      "Epoch 65/600\n",
      "17/17 [==============================] - 0s 10ms/step - loss: 0.5189 - val_loss: 0.4489\n",
      "Epoch 66/600\n",
      "17/17 [==============================] - 0s 10ms/step - loss: 0.5254 - val_loss: 0.4485\n",
      "Epoch 67/600\n",
      "17/17 [==============================] - 0s 11ms/step - loss: 0.4838 - val_loss: 0.4486\n",
      "Epoch 68/600\n",
      "17/17 [==============================] - 0s 7ms/step - loss: 0.4682 - val_loss: 0.4479\n",
      "Epoch 69/600\n",
      "17/17 [==============================] - 0s 6ms/step - loss: 0.5097 - val_loss: 0.4488\n",
      "Epoch 70/600\n",
      "17/17 [==============================] - 0s 7ms/step - loss: 0.4956 - val_loss: 0.4496\n",
      "Epoch 71/600\n",
      "17/17 [==============================] - 0s 9ms/step - loss: 0.4839 - val_loss: 0.4489\n",
      "Epoch 72/600\n",
      "17/17 [==============================] - 0s 7ms/step - loss: 0.5095 - val_loss: 0.4479\n",
      "Epoch 73/600\n",
      "17/17 [==============================] - 0s 7ms/step - loss: 0.4631 - val_loss: 0.4465\n",
      "Epoch 74/600\n",
      "17/17 [==============================] - 0s 10ms/step - loss: 0.4825 - val_loss: 0.4452\n",
      "Epoch 75/600\n",
      "17/17 [==============================] - 0s 11ms/step - loss: 0.5157 - val_loss: 0.4452\n",
      "Epoch 76/600\n",
      "17/17 [==============================] - 0s 11ms/step - loss: 0.4762 - val_loss: 0.4453\n",
      "Epoch 77/600\n",
      "17/17 [==============================] - 0s 11ms/step - loss: 0.4847 - val_loss: 0.4446\n",
      "Epoch 78/600\n",
      "17/17 [==============================] - 0s 8ms/step - loss: 0.4783 - val_loss: 0.4445\n",
      "Epoch 79/600\n",
      "17/17 [==============================] - 0s 12ms/step - loss: 0.4797 - val_loss: 0.4427\n",
      "Epoch 80/600\n",
      "17/17 [==============================] - 0s 7ms/step - loss: 0.4852 - val_loss: 0.4433\n",
      "Epoch 81/600\n",
      "17/17 [==============================] - 0s 7ms/step - loss: 0.4969 - val_loss: 0.4441\n",
      "Epoch 82/600\n"
     ]
    },
    {
     "name": "stdout",
     "output_type": "stream",
     "text": [
      "17/17 [==============================] - 0s 12ms/step - loss: 0.4829 - val_loss: 0.4433\n",
      "Epoch 83/600\n",
      "17/17 [==============================] - 0s 11ms/step - loss: 0.5075 - val_loss: 0.4431\n",
      "Epoch 84/600\n",
      "17/17 [==============================] - 0s 10ms/step - loss: 0.4901 - val_loss: 0.4429\n",
      "Epoch 85/600\n",
      "17/17 [==============================] - 0s 10ms/step - loss: 0.4822 - val_loss: 0.4426\n",
      "Epoch 86/600\n",
      "17/17 [==============================] - 0s 15ms/step - loss: 0.4268 - val_loss: 0.4405\n",
      "Epoch 87/600\n",
      "17/17 [==============================] - 0s 12ms/step - loss: 0.5035 - val_loss: 0.4410\n",
      "Epoch 88/600\n",
      "17/17 [==============================] - 0s 12ms/step - loss: 0.5090 - val_loss: 0.4411\n",
      "Epoch 89/600\n",
      "17/17 [==============================] - 0s 11ms/step - loss: 0.5094 - val_loss: 0.4419\n",
      "Epoch 90/600\n",
      "17/17 [==============================] - 0s 7ms/step - loss: 0.4706 - val_loss: 0.4420\n",
      "Epoch 91/600\n",
      "17/17 [==============================] - 0s 11ms/step - loss: 0.5107 - val_loss: 0.4420\n",
      "Epoch 92/600\n",
      "17/17 [==============================] - 0s 11ms/step - loss: 0.4689 - val_loss: 0.4421\n",
      "Epoch 93/600\n",
      "17/17 [==============================] - 0s 11ms/step - loss: 0.4973 - val_loss: 0.4423\n",
      "Epoch 94/600\n",
      "17/17 [==============================] - 0s 12ms/step - loss: 0.4840 - val_loss: 0.4416\n",
      "Epoch 95/600\n",
      "17/17 [==============================] - 0s 11ms/step - loss: 0.5017 - val_loss: 0.4420\n",
      "Epoch 96/600\n",
      "17/17 [==============================] - 0s 11ms/step - loss: 0.4507 - val_loss: 0.4415\n",
      "Epoch 97/600\n",
      "17/17 [==============================] - 0s 12ms/step - loss: 0.5321 - val_loss: 0.4421\n",
      "Epoch 98/600\n",
      "17/17 [==============================] - 0s 11ms/step - loss: 0.4982 - val_loss: 0.4405\n",
      "Epoch 99/600\n",
      "17/17 [==============================] - 0s 11ms/step - loss: 0.4720 - val_loss: 0.4406\n",
      "Epoch 100/600\n",
      "17/17 [==============================] - 0s 11ms/step - loss: 0.5037 - val_loss: 0.4406\n",
      "Epoch 101/600\n",
      "17/17 [==============================] - 0s 10ms/step - loss: 0.5185 - val_loss: 0.4411\n",
      "Epoch 102/600\n",
      "17/17 [==============================] - 0s 19ms/step - loss: 0.4723 - val_loss: 0.4408\n",
      "Epoch 103/600\n",
      "17/17 [==============================] - 0s 7ms/step - loss: 0.5187 - val_loss: 0.4411\n",
      "Epoch 104/600\n",
      "17/17 [==============================] - 0s 10ms/step - loss: 0.4930 - val_loss: 0.4412\n",
      "Epoch 105/600\n",
      "17/17 [==============================] - 0s 7ms/step - loss: 0.5201 - val_loss: 0.4413\n",
      "Epoch 106/600\n",
      "17/17 [==============================] - 0s 7ms/step - loss: 0.4821 - val_loss: 0.4409\n",
      "Epoch 107/600\n",
      "17/17 [==============================] - 0s 10ms/step - loss: 0.5213 - val_loss: 0.4419\n",
      "Epoch 108/600\n",
      "17/17 [==============================] - 0s 10ms/step - loss: 0.4828 - val_loss: 0.4415\n",
      "Epoch 109/600\n",
      "17/17 [==============================] - 0s 7ms/step - loss: 0.4867 - val_loss: 0.4405\n",
      "Epoch 110/600\n",
      "17/17 [==============================] - 0s 8ms/step - loss: 0.4894 - val_loss: 0.4406\n",
      "Epoch 111/600\n",
      "17/17 [==============================] - 0s 7ms/step - loss: 0.4635 - val_loss: 0.4396\n",
      "Epoch 112/600\n",
      "17/17 [==============================] - 0s 11ms/step - loss: 0.4735 - val_loss: 0.4391\n",
      "Epoch 113/600\n",
      "17/17 [==============================] - 0s 11ms/step - loss: 0.4809 - val_loss: 0.4397\n",
      "Epoch 114/600\n",
      "17/17 [==============================] - 0s 12ms/step - loss: 0.5163 - val_loss: 0.4394\n",
      "Epoch 115/600\n",
      "17/17 [==============================] - 0s 11ms/step - loss: 0.4975 - val_loss: 0.4383\n",
      "Epoch 116/600\n",
      "17/17 [==============================] - 0s 13ms/step - loss: 0.4967 - val_loss: 0.4370\n",
      "Epoch 117/600\n",
      "17/17 [==============================] - 0s 12ms/step - loss: 0.4677 - val_loss: 0.4371\n",
      "Epoch 118/600\n",
      "17/17 [==============================] - 0s 9ms/step - loss: 0.4818 - val_loss: 0.4386\n",
      "Epoch 119/600\n",
      "17/17 [==============================] - 0s 10ms/step - loss: 0.4662 - val_loss: 0.4382\n",
      "Epoch 120/600\n",
      "17/17 [==============================] - 0s 13ms/step - loss: 0.4713 - val_loss: 0.4376\n",
      "Epoch 121/600\n",
      "17/17 [==============================] - 0s 12ms/step - loss: 0.4806 - val_loss: 0.4368\n",
      "Epoch 122/600\n",
      "17/17 [==============================] - 0s 8ms/step - loss: 0.4853 - val_loss: 0.4368\n",
      "Epoch 123/600\n",
      "17/17 [==============================] - 0s 8ms/step - loss: 0.4678 - val_loss: 0.4364\n",
      "Epoch 124/600\n",
      "17/17 [==============================] - 0s 8ms/step - loss: 0.4802 - val_loss: 0.4360\n",
      "Epoch 125/600\n",
      "17/17 [==============================] - 0s 8ms/step - loss: 0.5065 - val_loss: 0.4358\n",
      "Epoch 126/600\n",
      "17/17 [==============================] - 0s 11ms/step - loss: 0.4854 - val_loss: 0.4352\n",
      "Epoch 127/600\n",
      "17/17 [==============================] - 0s 6ms/step - loss: 0.4573 - val_loss: 0.4352\n",
      "Epoch 128/600\n",
      "17/17 [==============================] - 0s 8ms/step - loss: 0.4828 - val_loss: 0.4347\n",
      "Epoch 129/600\n",
      "17/17 [==============================] - 0s 6ms/step - loss: 0.5057 - val_loss: 0.4343\n",
      "Epoch 130/600\n",
      "17/17 [==============================] - 0s 6ms/step - loss: 0.4793 - val_loss: 0.4349\n",
      "Epoch 131/600\n",
      "17/17 [==============================] - 0s 6ms/step - loss: 0.4651 - val_loss: 0.4342\n",
      "Epoch 132/600\n",
      "17/17 [==============================] - 0s 7ms/step - loss: 0.4534 - val_loss: 0.4335\n",
      "Epoch 133/600\n",
      "17/17 [==============================] - 0s 7ms/step - loss: 0.4930 - val_loss: 0.4334\n",
      "Epoch 134/600\n",
      "17/17 [==============================] - 0s 7ms/step - loss: 0.4817 - val_loss: 0.4333\n",
      "Epoch 135/600\n",
      "17/17 [==============================] - 0s 12ms/step - loss: 0.4636 - val_loss: 0.4329\n",
      "Epoch 136/600\n",
      "17/17 [==============================] - 0s 10ms/step - loss: 0.4549 - val_loss: 0.4340\n",
      "Epoch 137/600\n",
      "17/17 [==============================] - 0s 14ms/step - loss: 0.4842 - val_loss: 0.4344\n",
      "Epoch 138/600\n",
      "17/17 [==============================] - 0s 13ms/step - loss: 0.4699 - val_loss: 0.4346\n",
      "Epoch 139/600\n",
      "17/17 [==============================] - 0s 10ms/step - loss: 0.5212 - val_loss: 0.4353\n",
      "Epoch 140/600\n",
      "17/17 [==============================] - 0s 15ms/step - loss: 0.4762 - val_loss: 0.4351\n",
      "Epoch 141/600\n",
      "17/17 [==============================] - 0s 14ms/step - loss: 0.5011 - val_loss: 0.4351\n",
      "Epoch 142/600\n",
      "17/17 [==============================] - 0s 10ms/step - loss: 0.5109 - val_loss: 0.4349\n",
      "Epoch 143/600\n",
      "17/17 [==============================] - 0s 12ms/step - loss: 0.4844 - val_loss: 0.4348\n",
      "Epoch 144/600\n",
      "17/17 [==============================] - 0s 10ms/step - loss: 0.5109 - val_loss: 0.4356\n",
      "Epoch 145/600\n",
      "17/17 [==============================] - 0s 12ms/step - loss: 0.5046 - val_loss: 0.4360\n",
      "Epoch 146/600\n",
      "17/17 [==============================] - 0s 11ms/step - loss: 0.4752 - val_loss: 0.4352\n",
      "Epoch 147/600\n",
      "17/17 [==============================] - 0s 11ms/step - loss: 0.4678 - val_loss: 0.4349\n",
      "Epoch 148/600\n",
      "17/17 [==============================] - 0s 9ms/step - loss: 0.4504 - val_loss: 0.4345\n",
      "Epoch 149/600\n",
      "17/17 [==============================] - 0s 8ms/step - loss: 0.4667 - val_loss: 0.4339\n",
      "Epoch 150/600\n",
      "17/17 [==============================] - 0s 8ms/step - loss: 0.4426 - val_loss: 0.4335\n",
      "Epoch 151/600\n",
      "17/17 [==============================] - 0s 9ms/step - loss: 0.5013 - val_loss: 0.4342\n",
      "Epoch 152/600\n",
      "17/17 [==============================] - 0s 8ms/step - loss: 0.4541 - val_loss: 0.4343\n",
      "Epoch 153/600\n",
      "17/17 [==============================] - 0s 9ms/step - loss: 0.4580 - val_loss: 0.4327\n",
      "Epoch 154/600\n",
      "17/17 [==============================] - 0s 7ms/step - loss: 0.4666 - val_loss: 0.4318\n",
      "Epoch 155/600\n",
      "17/17 [==============================] - 0s 12ms/step - loss: 0.4621 - val_loss: 0.4326\n",
      "Epoch 156/600\n",
      "17/17 [==============================] - 0s 14ms/step - loss: 0.4929 - val_loss: 0.4334\n",
      "Epoch 157/600\n",
      "17/17 [==============================] - 0s 13ms/step - loss: 0.4793 - val_loss: 0.4330\n",
      "Epoch 158/600\n",
      "17/17 [==============================] - 0s 14ms/step - loss: 0.4770 - val_loss: 0.4329\n",
      "Epoch 159/600\n",
      "17/17 [==============================] - 0s 10ms/step - loss: 0.5090 - val_loss: 0.4323\n",
      "Epoch 160/600\n",
      "17/17 [==============================] - 0s 10ms/step - loss: 0.4511 - val_loss: 0.4315\n",
      "Epoch 161/600\n",
      "17/17 [==============================] - 0s 11ms/step - loss: 0.4490 - val_loss: 0.4310\n",
      "Epoch 162/600\n",
      "17/17 [==============================] - 0s 7ms/step - loss: 0.4619 - val_loss: 0.4319\n"
     ]
    },
    {
     "name": "stdout",
     "output_type": "stream",
     "text": [
      "Epoch 163/600\n",
      "17/17 [==============================] - 0s 8ms/step - loss: 0.4767 - val_loss: 0.4320\n",
      "Epoch 164/600\n",
      "17/17 [==============================] - 0s 10ms/step - loss: 0.4793 - val_loss: 0.4323\n",
      "Epoch 165/600\n",
      "17/17 [==============================] - 0s 11ms/step - loss: 0.4676 - val_loss: 0.4314\n",
      "Epoch 166/600\n",
      "17/17 [==============================] - 0s 8ms/step - loss: 0.5014 - val_loss: 0.4309\n",
      "Epoch 167/600\n",
      "17/17 [==============================] - 0s 12ms/step - loss: 0.4292 - val_loss: 0.4305\n",
      "Epoch 168/600\n",
      "17/17 [==============================] - 0s 11ms/step - loss: 0.5035 - val_loss: 0.4317\n",
      "Epoch 169/600\n",
      "17/17 [==============================] - 0s 6ms/step - loss: 0.4568 - val_loss: 0.4308\n",
      "Epoch 170/600\n",
      "17/17 [==============================] - 0s 11ms/step - loss: 0.4334 - val_loss: 0.4296\n",
      "Epoch 171/600\n",
      "17/17 [==============================] - 0s 11ms/step - loss: 0.5157 - val_loss: 0.4297\n",
      "Epoch 172/600\n",
      "17/17 [==============================] - 0s 11ms/step - loss: 0.4400 - val_loss: 0.4284\n",
      "Epoch 173/600\n",
      "17/17 [==============================] - 0s 11ms/step - loss: 0.5557 - val_loss: 0.4279\n",
      "Epoch 174/600\n",
      "17/17 [==============================] - 0s 12ms/step - loss: 0.4944 - val_loss: 0.4279\n",
      "Epoch 175/600\n",
      "17/17 [==============================] - 0s 11ms/step - loss: 0.4908 - val_loss: 0.4285\n",
      "Epoch 176/600\n",
      "17/17 [==============================] - 0s 10ms/step - loss: 0.5114 - val_loss: 0.4300\n",
      "Epoch 177/600\n",
      "17/17 [==============================] - 0s 7ms/step - loss: 0.4553 - val_loss: 0.4283\n",
      "Epoch 178/600\n",
      "17/17 [==============================] - 0s 11ms/step - loss: 0.5013 - val_loss: 0.4280\n",
      "Epoch 179/600\n",
      "17/17 [==============================] - 0s 11ms/step - loss: 0.4868 - val_loss: 0.4278\n",
      "Epoch 180/600\n",
      "17/17 [==============================] - 0s 9ms/step - loss: 0.4558 - val_loss: 0.4285\n",
      "Epoch 181/600\n",
      "17/17 [==============================] - 0s 7ms/step - loss: 0.4820 - val_loss: 0.4288\n",
      "Epoch 182/600\n",
      "17/17 [==============================] - 0s 11ms/step - loss: 0.4464 - val_loss: 0.4282\n",
      "Epoch 183/600\n",
      "17/17 [==============================] - 0s 11ms/step - loss: 0.4488 - val_loss: 0.4276\n",
      "Epoch 184/600\n",
      "17/17 [==============================] - 0s 11ms/step - loss: 0.4922 - val_loss: 0.4275\n",
      "Epoch 185/600\n",
      "17/17 [==============================] - 0s 11ms/step - loss: 0.4699 - val_loss: 0.4259\n",
      "Epoch 186/600\n",
      "17/17 [==============================] - 0s 11ms/step - loss: 0.5066 - val_loss: 0.4255\n",
      "Epoch 187/600\n",
      "17/17 [==============================] - 0s 11ms/step - loss: 0.4579 - val_loss: 0.4248\n",
      "Epoch 188/600\n",
      "17/17 [==============================] - 0s 11ms/step - loss: 0.4611 - val_loss: 0.4265\n",
      "Epoch 189/600\n",
      "17/17 [==============================] - 0s 10ms/step - loss: 0.4723 - val_loss: 0.4266\n",
      "Epoch 190/600\n",
      "17/17 [==============================] - 0s 10ms/step - loss: 0.4833 - val_loss: 0.4259\n",
      "Epoch 191/600\n",
      "17/17 [==============================] - 0s 12ms/step - loss: 0.4744 - val_loss: 0.4245\n",
      "Epoch 192/600\n",
      "17/17 [==============================] - 0s 12ms/step - loss: 0.4327 - val_loss: 0.4235\n",
      "Epoch 193/600\n",
      "17/17 [==============================] - 0s 13ms/step - loss: 0.4784 - val_loss: 0.4238\n",
      "Epoch 194/600\n",
      "17/17 [==============================] - 0s 10ms/step - loss: 0.5425 - val_loss: 0.4252\n",
      "Epoch 195/600\n",
      "17/17 [==============================] - 0s 8ms/step - loss: 0.4991 - val_loss: 0.4253\n",
      "Epoch 196/600\n",
      "17/17 [==============================] - 0s 11ms/step - loss: 0.4898 - val_loss: 0.4259\n",
      "Epoch 197/600\n",
      "17/17 [==============================] - 0s 6ms/step - loss: 0.4444 - val_loss: 0.4257\n",
      "Epoch 198/600\n",
      "17/17 [==============================] - 0s 12ms/step - loss: 0.4614 - val_loss: 0.4257\n",
      "Epoch 199/600\n",
      "17/17 [==============================] - 0s 16ms/step - loss: 0.4743 - val_loss: 0.4260\n",
      "Epoch 200/600\n",
      "17/17 [==============================] - 0s 14ms/step - loss: 0.4559 - val_loss: 0.4251\n",
      "Epoch 201/600\n",
      "17/17 [==============================] - 0s 16ms/step - loss: 0.4942 - val_loss: 0.4252\n",
      "Epoch 202/600\n",
      "17/17 [==============================] - 0s 11ms/step - loss: 0.4509 - val_loss: 0.4253\n",
      "Epoch 203/600\n",
      "17/17 [==============================] - 0s 11ms/step - loss: 0.4446 - val_loss: 0.4248\n",
      "Epoch 204/600\n",
      "17/17 [==============================] - 0s 10ms/step - loss: 0.4875 - val_loss: 0.4243\n",
      "Epoch 205/600\n",
      "17/17 [==============================] - 0s 8ms/step - loss: 0.4933 - val_loss: 0.4242\n",
      "Epoch 206/600\n",
      "17/17 [==============================] - 0s 11ms/step - loss: 0.4566 - val_loss: 0.4237\n",
      "Epoch 207/600\n",
      "17/17 [==============================] - 0s 10ms/step - loss: 0.4678 - val_loss: 0.4239\n",
      "Epoch 208/600\n",
      "17/17 [==============================] - 0s 14ms/step - loss: 0.4888 - val_loss: 0.4245\n",
      "Epoch 209/600\n",
      "17/17 [==============================] - 0s 11ms/step - loss: 0.5065 - val_loss: 0.4244\n",
      "Epoch 210/600\n",
      "17/17 [==============================] - 0s 11ms/step - loss: 0.4765 - val_loss: 0.4243\n",
      "Epoch 211/600\n",
      "17/17 [==============================] - 0s 11ms/step - loss: 0.5214 - val_loss: 0.4248\n",
      "Epoch 212/600\n",
      "17/17 [==============================] - 0s 8ms/step - loss: 0.4763 - val_loss: 0.4254\n",
      "Epoch 213/600\n",
      "17/17 [==============================] - 0s 16ms/step - loss: 0.5064 - val_loss: 0.4253\n",
      "Epoch 214/600\n",
      "17/17 [==============================] - 0s 11ms/step - loss: 0.4924 - val_loss: 0.4250\n",
      "Epoch 215/600\n",
      "17/17 [==============================] - 0s 10ms/step - loss: 0.4880 - val_loss: 0.4242\n",
      "Epoch 216/600\n",
      "17/17 [==============================] - 0s 8ms/step - loss: 0.4611 - val_loss: 0.4239\n",
      "Epoch 217/600\n",
      "17/17 [==============================] - 0s 8ms/step - loss: 0.4573 - val_loss: 0.4229\n",
      "Epoch 218/600\n",
      "17/17 [==============================] - 0s 9ms/step - loss: 0.4523 - val_loss: 0.4235\n",
      "Epoch 219/600\n",
      "17/17 [==============================] - 0s 10ms/step - loss: 0.4453 - val_loss: 0.4241\n",
      "Epoch 220/600\n",
      "17/17 [==============================] - 0s 9ms/step - loss: 0.4694 - val_loss: 0.4237\n",
      "Epoch 221/600\n",
      "17/17 [==============================] - 0s 9ms/step - loss: 0.4561 - val_loss: 0.4236\n",
      "Epoch 222/600\n",
      "17/17 [==============================] - 0s 9ms/step - loss: 0.4572 - val_loss: 0.4223\n",
      "Epoch 223/600\n",
      "17/17 [==============================] - 0s 10ms/step - loss: 0.4721 - val_loss: 0.4220\n",
      "Epoch 224/600\n",
      "17/17 [==============================] - 0s 11ms/step - loss: 0.4537 - val_loss: 0.4218\n",
      "Epoch 225/600\n",
      "17/17 [==============================] - 0s 11ms/step - loss: 0.4802 - val_loss: 0.4222\n",
      "Epoch 226/600\n",
      "17/17 [==============================] - 0s 10ms/step - loss: 0.4379 - val_loss: 0.4223\n",
      "Epoch 227/600\n",
      "17/17 [==============================] - 0s 8ms/step - loss: 0.5028 - val_loss: 0.4223\n",
      "Epoch 228/600\n",
      "17/17 [==============================] - 0s 6ms/step - loss: 0.5063 - val_loss: 0.4226\n",
      "Epoch 229/600\n",
      "17/17 [==============================] - 0s 7ms/step - loss: 0.4382 - val_loss: 0.4229\n",
      "Epoch 230/600\n",
      "17/17 [==============================] - 0s 7ms/step - loss: 0.4508 - val_loss: 0.4229\n",
      "Epoch 231/600\n",
      "17/17 [==============================] - 0s 10ms/step - loss: 0.4769 - val_loss: 0.4238\n",
      "Epoch 232/600\n",
      "17/17 [==============================] - 0s 10ms/step - loss: 0.5094 - val_loss: 0.4236\n",
      "Epoch 233/600\n",
      "17/17 [==============================] - 0s 10ms/step - loss: 0.4213 - val_loss: 0.4225\n",
      "Epoch 234/600\n",
      "17/17 [==============================] - 0s 12ms/step - loss: 0.4624 - val_loss: 0.4218\n",
      "Epoch 235/600\n",
      "17/17 [==============================] - 0s 11ms/step - loss: 0.4233 - val_loss: 0.4213\n",
      "Epoch 236/600\n",
      "17/17 [==============================] - 0s 11ms/step - loss: 0.4829 - val_loss: 0.4214\n",
      "Epoch 237/600\n",
      "17/17 [==============================] - 0s 12ms/step - loss: 0.4311 - val_loss: 0.4204\n",
      "Epoch 238/600\n",
      "17/17 [==============================] - 0s 15ms/step - loss: 0.4612 - val_loss: 0.4200\n",
      "Epoch 239/600\n",
      "17/17 [==============================] - 0s 7ms/step - loss: 0.4873 - val_loss: 0.4198\n",
      "Epoch 240/600\n",
      "17/17 [==============================] - 0s 16ms/step - loss: 0.4889 - val_loss: 0.4194\n",
      "Epoch 241/600\n",
      "17/17 [==============================] - 0s 11ms/step - loss: 0.4506 - val_loss: 0.4193\n",
      "Epoch 242/600\n",
      "17/17 [==============================] - 0s 8ms/step - loss: 0.4754 - val_loss: 0.4201\n",
      "Epoch 243/600\n"
     ]
    },
    {
     "name": "stdout",
     "output_type": "stream",
     "text": [
      "17/17 [==============================] - 0s 11ms/step - loss: 0.4208 - val_loss: 0.4203\n",
      "Epoch 244/600\n",
      "17/17 [==============================] - 0s 7ms/step - loss: 0.4874 - val_loss: 0.4199\n",
      "Epoch 245/600\n",
      "17/17 [==============================] - 0s 11ms/step - loss: 0.4593 - val_loss: 0.4196\n",
      "Epoch 246/600\n",
      "17/17 [==============================] - 0s 10ms/step - loss: 0.4342 - val_loss: 0.4187\n",
      "Epoch 247/600\n",
      "17/17 [==============================] - 0s 10ms/step - loss: 0.4631 - val_loss: 0.4191\n",
      "Epoch 248/600\n",
      "17/17 [==============================] - 0s 10ms/step - loss: 0.4310 - val_loss: 0.4193\n",
      "Epoch 249/600\n",
      "17/17 [==============================] - 0s 11ms/step - loss: 0.4570 - val_loss: 0.4188\n",
      "Epoch 250/600\n",
      "17/17 [==============================] - 0s 11ms/step - loss: 0.4792 - val_loss: 0.4193\n",
      "Epoch 251/600\n",
      "17/17 [==============================] - 0s 11ms/step - loss: 0.5068 - val_loss: 0.4194\n",
      "Epoch 252/600\n",
      "17/17 [==============================] - 0s 10ms/step - loss: 0.4488 - val_loss: 0.4191\n",
      "Epoch 253/600\n",
      "17/17 [==============================] - 0s 8ms/step - loss: 0.4794 - val_loss: 0.4195\n",
      "Epoch 254/600\n",
      "17/17 [==============================] - 0s 15ms/step - loss: 0.4850 - val_loss: 0.4195\n",
      "Epoch 255/600\n",
      "17/17 [==============================] - 0s 15ms/step - loss: 0.4455 - val_loss: 0.4191\n",
      "Epoch 256/600\n",
      "17/17 [==============================] - 0s 16ms/step - loss: 0.4530 - val_loss: 0.4187\n",
      "Epoch 257/600\n",
      "17/17 [==============================] - 0s 13ms/step - loss: 0.4627 - val_loss: 0.4178\n",
      "Epoch 258/600\n",
      "17/17 [==============================] - 0s 13ms/step - loss: 0.4553 - val_loss: 0.4176\n",
      "Epoch 259/600\n",
      "17/17 [==============================] - 0s 8ms/step - loss: 0.4445 - val_loss: 0.4170\n",
      "Epoch 260/600\n",
      "17/17 [==============================] - 0s 13ms/step - loss: 0.4718 - val_loss: 0.4167\n",
      "Epoch 261/600\n",
      "17/17 [==============================] - 0s 11ms/step - loss: 0.4213 - val_loss: 0.4153\n",
      "Epoch 262/600\n",
      "17/17 [==============================] - 0s 12ms/step - loss: 0.4677 - val_loss: 0.4152\n",
      "Epoch 263/600\n",
      "17/17 [==============================] - 0s 10ms/step - loss: 0.4696 - val_loss: 0.4150\n",
      "Epoch 264/600\n",
      "17/17 [==============================] - 0s 10ms/step - loss: 0.4890 - val_loss: 0.4157\n",
      "Epoch 265/600\n",
      "17/17 [==============================] - 0s 12ms/step - loss: 0.4523 - val_loss: 0.4154\n",
      "Epoch 266/600\n",
      "17/17 [==============================] - 0s 8ms/step - loss: 0.4400 - val_loss: 0.4161\n",
      "Epoch 267/600\n",
      "17/17 [==============================] - 0s 9ms/step - loss: 0.4504 - val_loss: 0.4163\n",
      "Epoch 268/600\n",
      "17/17 [==============================] - 0s 8ms/step - loss: 0.4762 - val_loss: 0.4157\n",
      "Epoch 269/600\n",
      "17/17 [==============================] - 0s 12ms/step - loss: 0.4639 - val_loss: 0.4153\n",
      "Epoch 270/600\n",
      "17/17 [==============================] - 0s 9ms/step - loss: 0.4415 - val_loss: 0.4147\n",
      "Epoch 271/600\n",
      "17/17 [==============================] - 0s 11ms/step - loss: 0.4252 - val_loss: 0.4144\n",
      "Epoch 272/600\n",
      "17/17 [==============================] - 0s 11ms/step - loss: 0.4805 - val_loss: 0.4140\n",
      "Epoch 273/600\n",
      "17/17 [==============================] - 0s 14ms/step - loss: 0.4859 - val_loss: 0.4140\n",
      "Epoch 274/600\n",
      "17/17 [==============================] - 0s 13ms/step - loss: 0.5118 - val_loss: 0.4140\n",
      "Epoch 275/600\n",
      "17/17 [==============================] - 0s 11ms/step - loss: 0.5114 - val_loss: 0.4147\n",
      "Epoch 276/600\n",
      "17/17 [==============================] - 0s 12ms/step - loss: 0.4857 - val_loss: 0.4150\n",
      "Epoch 277/600\n",
      "17/17 [==============================] - 0s 11ms/step - loss: 0.4721 - val_loss: 0.4141\n",
      "Epoch 278/600\n",
      "17/17 [==============================] - 0s 11ms/step - loss: 0.4551 - val_loss: 0.4141\n",
      "Epoch 279/600\n",
      "17/17 [==============================] - 0s 12ms/step - loss: 0.4384 - val_loss: 0.4134\n",
      "Epoch 280/600\n",
      "17/17 [==============================] - 0s 8ms/step - loss: 0.4670 - val_loss: 0.4137\n",
      "Epoch 281/600\n",
      "17/17 [==============================] - 0s 11ms/step - loss: 0.4094 - val_loss: 0.4141\n",
      "Epoch 282/600\n",
      "17/17 [==============================] - 0s 11ms/step - loss: 0.4122 - val_loss: 0.4146\n",
      "Epoch 283/600\n",
      "17/17 [==============================] - 0s 11ms/step - loss: 0.5234 - val_loss: 0.4150\n",
      "Epoch 284/600\n",
      "17/17 [==============================] - 0s 10ms/step - loss: 0.4552 - val_loss: 0.4153\n",
      "Epoch 285/600\n",
      "17/17 [==============================] - 0s 10ms/step - loss: 0.4541 - val_loss: 0.4153\n",
      "Epoch 286/600\n",
      "17/17 [==============================] - 0s 9ms/step - loss: 0.4302 - val_loss: 0.4149\n",
      "Epoch 287/600\n",
      "17/17 [==============================] - 0s 10ms/step - loss: 0.4747 - val_loss: 0.4158\n",
      "Epoch 288/600\n",
      "17/17 [==============================] - 0s 7ms/step - loss: 0.4684 - val_loss: 0.4169\n",
      "Epoch 289/600\n",
      "17/17 [==============================] - 0s 8ms/step - loss: 0.4348 - val_loss: 0.4170\n",
      "Epoch 290/600\n",
      "17/17 [==============================] - 0s 8ms/step - loss: 0.4578 - val_loss: 0.4170\n",
      "Epoch 291/600\n",
      "17/17 [==============================] - 0s 7ms/step - loss: 0.4116 - val_loss: 0.4166\n",
      "Epoch 292/600\n",
      "17/17 [==============================] - 0s 11ms/step - loss: 0.4310 - val_loss: 0.4173\n",
      "Epoch 293/600\n",
      "17/17 [==============================] - 0s 8ms/step - loss: 0.4582 - val_loss: 0.4170\n",
      "Epoch 294/600\n",
      "17/17 [==============================] - 0s 9ms/step - loss: 0.4487 - val_loss: 0.4163\n",
      "Epoch 295/600\n",
      "17/17 [==============================] - 0s 10ms/step - loss: 0.4614 - val_loss: 0.4167\n",
      "Epoch 296/600\n",
      "17/17 [==============================] - 0s 11ms/step - loss: 0.4693 - val_loss: 0.4179\n",
      "Epoch 297/600\n",
      "17/17 [==============================] - 0s 13ms/step - loss: 0.4558 - val_loss: 0.4181\n",
      "Epoch 298/600\n",
      "17/17 [==============================] - 0s 8ms/step - loss: 0.4555 - val_loss: 0.4171\n",
      "Epoch 299/600\n",
      "17/17 [==============================] - 0s 10ms/step - loss: 0.5086 - val_loss: 0.4175\n",
      "Epoch 300/600\n",
      "17/17 [==============================] - 0s 9ms/step - loss: 0.4837 - val_loss: 0.4179\n",
      "Epoch 301/600\n",
      "17/17 [==============================] - 0s 6ms/step - loss: 0.4334 - val_loss: 0.4170\n",
      "Epoch 302/600\n",
      "17/17 [==============================] - 0s 8ms/step - loss: 0.4365 - val_loss: 0.4164\n",
      "Epoch 303/600\n",
      "17/17 [==============================] - 0s 8ms/step - loss: 0.4617 - val_loss: 0.4164\n",
      "Epoch 304/600\n",
      "17/17 [==============================] - 0s 11ms/step - loss: 0.4662 - val_loss: 0.4167\n",
      "Epoch 00304: early stopping\n"
     ]
    },
    {
     "data": {
      "text/plain": [
       "<tensorflow.python.keras.callbacks.History at 0x7f8b104b6040>"
      ]
     },
     "execution_count": 18,
     "metadata": {},
     "output_type": "execute_result"
    }
   ],
   "source": [
    "ann_mod.fit(x=X_train.values, \n",
    "          y=y_train.values, \n",
    "          epochs=600,\n",
    "          validation_data=(X_cv.values, y_cv.values), verbose=1,\n",
    "          callbacks=[early_stop])"
   ]
  },
  {
   "cell_type": "code",
   "execution_count": 19,
   "id": "f6610ea5",
   "metadata": {
    "scrolled": true
   },
   "outputs": [
    {
     "data": {
      "text/plain": [
       "<AxesSubplot:>"
      ]
     },
     "execution_count": 19,
     "metadata": {},
     "output_type": "execute_result"
    },
    {
     "data": {
      "image/png": "[encoded data removed]",
      "text/plain": [
       "<Figure size 432x288 with 1 Axes>"
      ]
     },
     "metadata": {
      "needs_background": "light"
     },
     "output_type": "display_data"
    }
   ],
   "source": [
    "model_loss=pd.DataFrame(ann_mod.history.history)\n",
    "model_loss.plot()"
   ]
  },
  {
   "cell_type": "code",
   "execution_count": 20,
   "id": "967261f1",
   "metadata": {
    "scrolled": true
   },
   "outputs": [
    {
     "name": "stderr",
     "output_type": "stream",
     "text": [
      "/home/chaitanya/anaconda3/lib/python3.8/site-packages/tensorflow/python/keras/engine/sequential.py:450: UserWarning: `model.predict_classes()` is deprecated and will be removed after 2021-01-01. Please use instead:* `np.argmax(model.predict(x), axis=-1)`,   if your model does multi-class classification   (e.g. if it uses a `softmax` last-layer activation).* `(model.predict(x) > 0.5).astype(\"int32\")`,   if your model does binary classification   (e.g. if it uses a `sigmoid` last-layer activation).\n",
      "  warnings.warn('`model.predict_classes()` is deprecated and '\n"
     ]
    }
   ],
   "source": [
    "y_pred_tr = ann_mod.predict_classes(X_train.values)\n",
    "y_pred_cv = ann_mod.predict_classes(X_cv.values)\n",
    "precision_tr, recall_tr, fscore_tr, support_tr = precision_recall_fscore_support(\n",
    "    y_train.values, y_pred_tr, average='macro')\n",
    "precision_cv, recall_cv, fscore_cv, support_cv = precision_recall_fscore_support(\n",
    "    y_cv.values, y_pred_cv, average='macro')"
   ]
  },
  {
   "cell_type": "code",
   "execution_count": 21,
   "id": "66573375",
   "metadata": {},
   "outputs": [
    {
     "name": "stdout",
     "output_type": "stream",
     "text": [
      "0.8318387233441604 0.7777112972565705 0.7905426018740467 None\n",
      "0.8557442557442557 0.7494745691467003 0.7717948717948717 None\n"
     ]
    }
   ],
   "source": [
    "print(precision_tr, recall_tr, fscore_tr, support_tr)\n",
    "print(precision_cv, recall_cv, fscore_cv, support_cv)"
   ]
  },
  {
   "cell_type": "code",
   "execution_count": 24,
   "id": "323829a1",
   "metadata": {},
   "outputs": [],
   "source": [
    "ann_mod.save('ann_titanic.h5')\n"
   ]
  },
  {
   "cell_type": "markdown",
   "id": "86fc3a3e",
   "metadata": {},
   "source": [
    "## 3. Model testing"
   ]
  },
  {
   "cell_type": "code",
   "execution_count": 25,
   "id": "b1f06ed3",
   "metadata": {},
   "outputs": [],
   "source": [
    "model_list=[logReg_best,knn_best,decTree_best,rnFr_best,svm_best,adab_best,xgbst_best]"
   ]
  },
  {
   "cell_type": "code",
   "execution_count": 26,
   "id": "7de47ce1",
   "metadata": {},
   "outputs": [
    {
     "name": "stdout",
     "output_type": "stream",
     "text": [
      "LogisticRegression\n",
      "KNeighborsClassifier\n",
      "DecisionTreeClassifier\n",
      "RandomForestClassifier\n",
      "SVC\n",
      "AdaBoostClassifier\n",
      "XGBClassifier\n"
     ]
    }
   ],
   "source": [
    "for model in model_list:\n",
    "    print(str(model).split('(')[0])"
   ]
  },
  {
   "cell_type": "code",
   "execution_count": 27,
   "id": "d9ebbe7e",
   "metadata": {},
   "outputs": [
    {
     "name": "stdout",
     "output_type": "stream",
     "text": [
      "[07:27:14] WARNING: /tmp/build/80754af9/xgboost-split_1619724447847/work/src/learner.cc:1061: Starting in XGBoost 1.3.0, the default evaluation metric used with the objective 'binary:logistic' was changed from 'error' to 'logloss'. Explicitly set eval_metric if you'd like to restore the old behavior.\n"
     ]
    }
   ],
   "source": [
    "report_d={}\n",
    "for model in model_list:\n",
    "    name=str(model).split('(')[0]\n",
    "    filename = name + '_titanic.model'\n",
    "    pickle.dump(model, open(filename, 'wb'))\n",
    "    report=testModel(model, X_train, X_cv, y_train, y_cv)\n",
    "    report_d[name]=report"
   ]
  },
  {
   "cell_type": "code",
   "execution_count": 28,
   "id": "6dd832ed",
   "metadata": {},
   "outputs": [
    {
     "data": {
      "text/plain": [
       "{'LogisticRegression': array([0.7878336 , 0.77660329, 0.78104463, 0.80071235, 0.74842371,\n",
       "        0.76361222]),\n",
       " 'KNeighborsClassifier': array([0.81591525, 0.78415991, 0.79375232, 0.82717391, 0.7530475 ,\n",
       "        0.77192778]),\n",
       " 'DecisionTreeClassifier': array([0.98552395, 0.97914728, 0.98213562, 0.7380715 , 0.73420205,\n",
       "        0.73601695]),\n",
       " 'RandomForestClassifier': array([0.96730129, 0.95435004, 0.96002994, 0.80071235, 0.74842371,\n",
       "        0.76361222]),\n",
       " 'SVC': array([0.84174549, 0.77327926, 0.78740927, 0.86624869, 0.74555135,\n",
       "        0.76871853]),\n",
       " 'AdaBoostClassifier': array([0.81691265, 0.79914019, 0.80570042, 0.82088555, 0.76909065,\n",
       "        0.7850566 ]),\n",
       " 'XGBClassifier': array([0.96505445, 0.95612286, 0.96018728, 0.81486569, 0.78905703,\n",
       "        0.79904585])}"
      ]
     },
     "execution_count": 28,
     "metadata": {},
     "output_type": "execute_result"
    }
   ],
   "source": [
    "report_d"
   ]
  },
  {
   "cell_type": "code",
   "execution_count": null,
   "id": "e9b176b7",
   "metadata": {},
   "outputs": [],
   "source": []
  }
 ],
 "metadata": {
  "kernelspec": {
   "display_name": "Python 3",
   "language": "python",
   "name": "python3"
  },
  "language_info": {
   "codemirror_mode": {
    "name": "ipython",
    "version": 3
   },
   "file_extension": ".py",
   "mimetype": "text/x-python",
   "name": "python",
   "nbconvert_exporter": "python",
   "pygments_lexer": "ipython3",
   "version": "3.8.10"
  }
 },
 "nbformat": 4,
 "nbformat_minor": 5
}
