{
 "cells": [
  {
   "cell_type": "markdown",
   "id": "f2b992e4",
   "metadata": {},
   "source": [
    "# Model Building\n",
    "\n",
    "This notebook trains and examins different ML classifiers on training data dataset. \n",
    "\n",
    "* K Nearest neighbours\n",
    "* SVM\n",
    "* Random forest\n",
    "* Logistic regression\n",
    "* ANN"
   ]
  },
  {
   "cell_type": "code",
   "execution_count": 1,
   "id": "c3c3d025",
   "metadata": {},
   "outputs": [],
   "source": [
    "import pandas as pd\n",
    "\n",
    "from sklearn.model_selection import train_test_split,KFold,StratifiedKFold\n",
    "\n",
    "\n",
    "from sklearn.linear_model import LogisticRegression\n",
    "from sklearn.ensemble import RandomForestClassifier\n",
    "from sklearn.svm import SVC\n",
    "from sklearn.neighbors import KNeighborsClassifier\n",
    "\n",
    "from sklearn.metrics import classification_report,accuracy_score"
   ]
  },
  {
   "cell_type": "code",
   "execution_count": 2,
   "id": "9cf0a3e2",
   "metadata": {},
   "outputs": [],
   "source": [
    "df_tr=pd.read_csv('./data/train_features_processed.csv')\n",
    "y_tr=pd.read_csv('./data/train_labels_processed.csv')"
   ]
  },
  {
   "cell_type": "code",
   "execution_count": 7,
   "id": "e47ac51d",
   "metadata": {},
   "outputs": [
    {
     "name": "stdout",
     "output_type": "stream",
     "text": [
      "<class 'pandas.core.frame.DataFrame'>\n",
      "RangeIndex: 891 entries, 0 to 890\n",
      "Data columns (total 9 columns):\n",
      " #   Column   Non-Null Count  Dtype  \n",
      "---  ------   --------------  -----  \n",
      " 0   Age      891 non-null    float64\n",
      " 1   SibSp    891 non-null    float64\n",
      " 2   Parch    891 non-null    float64\n",
      " 3   Fare     891 non-null    float64\n",
      " 4   female   891 non-null    float64\n",
      " 5   C        891 non-null    float64\n",
      " 6   Q        891 non-null    float64\n",
      " 7   Class_2  891 non-null    float64\n",
      " 8   Class_3  891 non-null    float64\n",
      "dtypes: float64(9)\n",
      "memory usage: 62.8 KB\n"
     ]
    }
   ],
   "source": [
    "df_tr.info()"
   ]
  },
  {
   "cell_type": "code",
   "execution_count": null,
   "id": "9fa0faf7",
   "metadata": {},
   "outputs": [],
   "source": []
  }
 ],
 "metadata": {
  "kernelspec": {
   "display_name": "Python 3",
   "language": "python",
   "name": "python3"
  },
  "language_info": {
   "codemirror_mode": {
    "name": "ipython",
    "version": 3
   },
   "file_extension": ".py",
   "mimetype": "text/x-python",
   "name": "python",
   "nbconvert_exporter": "python",
   "pygments_lexer": "ipython3",
   "version": "3.8.8"
  }
 },
 "nbformat": 4,
 "nbformat_minor": 5
}
