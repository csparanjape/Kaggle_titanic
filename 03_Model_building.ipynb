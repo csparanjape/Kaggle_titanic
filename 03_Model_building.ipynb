{
 "cells": [
  {
   "cell_type": "markdown",
   "id": "f2b992e4",
   "metadata": {},
   "source": [
    "# Model Building\n",
    "\n",
    "This notebook trains and examins different ML classifiers on training data dataset. \n",
    "\n",
    "* K Nearest neighbours\n",
    "* SVM\n",
    "* Random forest\n",
    "* Logistic regression\n",
    "* ANN"
   ]
  },
  {
   "cell_type": "code",
   "execution_count": 22,
   "id": "c3c3d025",
   "metadata": {},
   "outputs": [],
   "source": [
    "import pandas as pd\n",
    "import numpy as np\n",
    "\n",
    "from sklearn.model_selection import train_test_split,KFold,StratifiedKFold,GridSearchCV\n",
    "\n",
    "\n",
    "from sklearn.linear_model import LogisticRegression\n",
    "from sklearn.ensemble import RandomForestClassifier\n",
    "from sklearn.svm import SVC\n",
    "from sklearn.neighbors import KNeighborsClassifier\n",
    "\n",
    "from sklearn.metrics import classification_report,accuracy_score,roc_auc_score\n",
    "from sklearn.utils.class_weight import compute_class_weight"
   ]
  },
  {
   "cell_type": "code",
   "execution_count": 2,
   "id": "9cf0a3e2",
   "metadata": {},
   "outputs": [],
   "source": [
    "df_tr=pd.read_csv('./data/train_features_processed.csv')\n",
    "y_tr=pd.read_csv('./data/train_labels_processed.csv')\n",
    "y_tr=y_tr.squeeze()"
   ]
  },
  {
   "cell_type": "code",
   "execution_count": 3,
   "id": "e47ac51d",
   "metadata": {},
   "outputs": [
    {
     "name": "stdout",
     "output_type": "stream",
     "text": [
      "<class 'pandas.core.frame.DataFrame'>\n",
      "RangeIndex: 891 entries, 0 to 890\n",
      "Data columns (total 9 columns):\n",
      " #   Column   Non-Null Count  Dtype  \n",
      "---  ------   --------------  -----  \n",
      " 0   Age      891 non-null    float64\n",
      " 1   SibSp    891 non-null    float64\n",
      " 2   Parch    891 non-null    float64\n",
      " 3   Fare     891 non-null    float64\n",
      " 4   female   891 non-null    float64\n",
      " 5   C        891 non-null    float64\n",
      " 6   Q        891 non-null    float64\n",
      " 7   Class_2  891 non-null    float64\n",
      " 8   Class_3  891 non-null    float64\n",
      "dtypes: float64(9)\n",
      "memory usage: 62.8 KB\n"
     ]
    }
   ],
   "source": [
    "df_tr.info()"
   ]
  },
  {
   "cell_type": "markdown",
   "id": "49a27691",
   "metadata": {},
   "source": [
    "## 1. Splitting training data\n",
    " Split training dataset into training dataset, cross validation dataset and test dataset - 55%,25% and 20% resp. "
   ]
  },
  {
   "cell_type": "code",
   "execution_count": 4,
   "id": "d538332d",
   "metadata": {},
   "outputs": [],
   "source": [
    "X_train_temp, X_test, y_train_temp, y_test = train_test_split(df_tr, y_tr, test_size=0.2, random_state=42)"
   ]
  },
  {
   "cell_type": "code",
   "execution_count": 5,
   "id": "9576c38b",
   "metadata": {},
   "outputs": [],
   "source": [
    "X_train, X_cv, y_train, y_cv = train_test_split(X_train_temp, y_train_temp, test_size=0.25)"
   ]
  },
  {
   "cell_type": "code",
   "execution_count": 6,
   "id": "73c5cd15",
   "metadata": {},
   "outputs": [
    {
     "data": {
      "text/plain": [
       "pandas.core.series.Series"
      ]
     },
     "execution_count": 6,
     "metadata": {},
     "output_type": "execute_result"
    }
   ],
   "source": [
    "type(y_train)"
   ]
  },
  {
   "cell_type": "markdown",
   "id": "51383b6c",
   "metadata": {},
   "source": [
    "## 2. Model development"
   ]
  },
  {
   "cell_type": "markdown",
   "id": "40f0b4ea",
   "metadata": {},
   "source": [
    "### 1. Logistic Regression"
   ]
  },
  {
   "cell_type": "code",
   "execution_count": 18,
   "id": "b947ba5d",
   "metadata": {},
   "outputs": [
    {
     "name": "stdout",
     "output_type": "stream",
     "text": [
      "tuned hpyerparameters :(best parameters)  {'C': 4.281332398719393, 'solver': 'newton-cg'}\n",
      "accuracy : 0.803319357092942\n"
     ]
    }
   ],
   "source": [
    "logReg=LogisticRegression(class_weight='auto',max_iter=200)\n",
    "grid={'C':np.logspace(0,1,20),'solver':['newton-cg', 'lbfgs', 'sag', 'saga']}\n",
    "logReg_cv=GridSearchCV(logReg,grid,cv=10)\n",
    "logReg_cv.fit(X_train,y_train)\n",
    "\n",
    "print(\"tuned hpyerparameters :(best parameters) \",logReg_cv.best_params_)\n",
    "print(\"accuracy :\",logReg_cv.best_score_)"
   ]
  },
  {
   "cell_type": "code",
   "execution_count": 19,
   "id": "99b27031",
   "metadata": {},
   "outputs": [],
   "source": [
    "logReg_fin=LogisticRegression(C=4.2813,solver='newton-cg',class_weight='auto',max_iter=200)\n",
    "logReg_fin.fit(X_train,y_train)\n",
    "\n",
    "y_pred_tr=logReg_fin.predict(X_train)"
   ]
  },
  {
   "cell_type": "code",
   "execution_count": 23,
   "id": "5f5fe543",
   "metadata": {},
   "outputs": [
    {
     "name": "stdout",
     "output_type": "stream",
     "text": [
      "              precision    recall  f1-score   support\n",
      "\n",
      "           0       0.82      0.88      0.85       325\n",
      "           1       0.79      0.70      0.74       209\n",
      "\n",
      "    accuracy                           0.81       534\n",
      "   macro avg       0.80      0.79      0.80       534\n",
      "weighted avg       0.81      0.81      0.81       534\n",
      "\n",
      "0.7901361796098638\n"
     ]
    }
   ],
   "source": [
    "print(classification_report(y_train,y_pred_tr))\n",
    "print(roc_auc_score(y_train,y_pred_tr))"
   ]
  },
  {
   "cell_type": "code",
   "execution_count": 25,
   "id": "621c3370",
   "metadata": {},
   "outputs": [
    {
     "name": "stdout",
     "output_type": "stream",
     "text": [
      "              precision    recall  f1-score   support\n",
      "\n",
      "           0       0.83      0.87      0.85       119\n",
      "           1       0.71      0.63      0.67        59\n",
      "\n",
      "    accuracy                           0.79       178\n",
      "   macro avg       0.77      0.75      0.76       178\n",
      "weighted avg       0.79      0.79      0.79       178\n",
      "\n",
      "0.7505341119498647\n"
     ]
    }
   ],
   "source": [
    "y_pred_cv=logReg_fin.predict(X_cv)\n",
    "print(classification_report(y_cv,y_pred_cv))\n",
    "print(roc_auc_score(y_cv,y_pred_cv))"
   ]
  },
  {
   "cell_type": "code",
   "execution_count": null,
   "id": "34098483",
   "metadata": {},
   "outputs": [],
   "source": []
  }
 ],
 "metadata": {
  "kernelspec": {
   "display_name": "Python 3",
   "language": "python",
   "name": "python3"
  },
  "language_info": {
   "codemirror_mode": {
    "name": "ipython",
    "version": 3
   },
   "file_extension": ".py",
   "mimetype": "text/x-python",
   "name": "python",
   "nbconvert_exporter": "python",
   "pygments_lexer": "ipython3",
   "version": "3.7.7"
  }
 },
 "nbformat": 4,
 "nbformat_minor": 5
}
