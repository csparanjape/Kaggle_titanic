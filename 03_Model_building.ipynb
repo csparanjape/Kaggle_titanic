{
 "cells": [
  {
   "cell_type": "markdown",
   "id": "f2b992e4",
   "metadata": {},
   "source": [
    "# Model Building\n",
    "\n",
    "This notebook trains and examins different ML classifiers on training data dataset. \n",
    "\n",
    "* K Nearest neighbours\n",
    "* SVM\n",
    "* Random forest\n",
    "* Logistic regression\n",
    "* Decision Tree\n",
    "* ADABoost\n",
    "* ANN"
   ]
  },
  {
   "cell_type": "code",
   "execution_count": 1,
   "id": "c3c3d025",
   "metadata": {},
   "outputs": [],
   "source": [
    "import pandas as pd\n",
    "import numpy as np\n",
    "\n",
    "from sklearn.model_selection import train_test_split, KFold, StratifiedKFold, GridSearchCV\n",
    "\n",
    "from sklearn.linear_model import LogisticRegression\n",
    "from sklearn.ensemble import RandomForestClassifier, AdaBoostClassifier, BaggingClassifier, GradientBoostingClassifier\n",
    "from sklearn.svm import SVC\n",
    "from sklearn.tree import DecisionTreeClassifier\n",
    "from sklearn.neighbors import KNeighborsClassifier\n",
    "import xgboost as xgb\n",
    "\n",
    "import pickle\n",
    "\n",
    "from sklearn.metrics import classification_report, accuracy_score, roc_auc_score, precision_recall_fscore_support\n",
    "from sklearn.utils.class_weight import compute_class_weight"
   ]
  },
  {
   "cell_type": "code",
   "execution_count": 2,
   "id": "9cf0a3e2",
   "metadata": {},
   "outputs": [],
   "source": [
    "df_tr = pd.read_csv('./data/train_features_processed.csv')\n",
    "y_tr = pd.read_csv('./data/train_labels_processed.csv')\n",
    "y_tr = y_tr.squeeze()"
   ]
  },
  {
   "cell_type": "code",
   "execution_count": 3,
   "id": "e47ac51d",
   "metadata": {},
   "outputs": [
    {
     "name": "stdout",
     "output_type": "stream",
     "text": [
      "<class 'pandas.core.frame.DataFrame'>\n",
      "RangeIndex: 891 entries, 0 to 890\n",
      "Data columns (total 9 columns):\n",
      " #   Column   Non-Null Count  Dtype  \n",
      "---  ------   --------------  -----  \n",
      " 0   Age      891 non-null    float64\n",
      " 1   SibSp    891 non-null    float64\n",
      " 2   Parch    891 non-null    float64\n",
      " 3   Fare     891 non-null    float64\n",
      " 4   female   891 non-null    float64\n",
      " 5   C        891 non-null    float64\n",
      " 6   Q        891 non-null    float64\n",
      " 7   Class_2  891 non-null    float64\n",
      " 8   Class_3  891 non-null    float64\n",
      "dtypes: float64(9)\n",
      "memory usage: 62.8 KB\n"
     ]
    }
   ],
   "source": [
    "df_tr.info()"
   ]
  },
  {
   "cell_type": "markdown",
   "id": "49a27691",
   "metadata": {},
   "source": [
    "## 1. Splitting training data\n",
    " Split training dataset into training dataset, cross validation dataset and test dataset - 55%,25% and 20% resp. "
   ]
  },
  {
   "cell_type": "code",
   "execution_count": 4,
   "id": "d538332d",
   "metadata": {},
   "outputs": [],
   "source": [
    "X_train_temp, X_test, y_train_temp, y_test = train_test_split(df_tr,\n",
    "                                                              y_tr,\n",
    "                                                              test_size=0.2,\n",
    "                                                              random_state=42)"
   ]
  },
  {
   "cell_type": "code",
   "execution_count": 5,
   "id": "9576c38b",
   "metadata": {},
   "outputs": [],
   "source": [
    "X_train, X_cv, y_train, y_cv = train_test_split(X_train_temp,\n",
    "                                                y_train_temp,\n",
    "                                                test_size=0.25)"
   ]
  },
  {
   "cell_type": "code",
   "execution_count": 6,
   "id": "73c5cd15",
   "metadata": {},
   "outputs": [
    {
     "data": {
      "text/plain": [
       "pandas.core.series.Series"
      ]
     },
     "execution_count": 6,
     "metadata": {},
     "output_type": "execute_result"
    }
   ],
   "source": [
    "type(y_train)"
   ]
  },
  {
   "cell_type": "markdown",
   "id": "51383b6c",
   "metadata": {},
   "source": [
    "## 2. Model development"
   ]
  },
  {
   "cell_type": "code",
   "execution_count": 7,
   "id": "51e9842d",
   "metadata": {},
   "outputs": [],
   "source": [
    "def bestModel(model, X_train, X_cv, y_train, y_cv, grid):\n",
    "    model_cv = GridSearchCV(model, grid, cv=4)\n",
    "    model_cv.fit(X_train, y_train)\n",
    "    print(\"tuned hpyerparameters :(best parameters) \", model_cv.best_params_)\n",
    "    print(\"accuracy :\", model_cv.best_score_)\n",
    "    mod_best= model_cv.best_estimator_\n",
    "    return mod_best\n",
    "\n",
    "\n",
    "def testModel(model, X_train, X_cv, y_train, y_cv):\n",
    "    model.fit(X_train,y_train)\n",
    "    y_pred_tr = model.predict(X_train)\n",
    "    y_pred_cv = model.predict(X_cv)\n",
    "    precision_tr, recall_tr, fscore_tr, support_tr = precision_recall_fscore_support(\n",
    "        y_train, y_pred_tr, average='macro')\n",
    "    precision_cv, recall_cv, fscore_cv, support_cv = precision_recall_fscore_support(\n",
    "        y_cv, y_pred_cv, average='macro')\n",
    "    report= np.array([precision_tr, recall_tr, fscore_tr, precision_cv, recall_cv, fscore_cv])\n",
    "    return report,model\n",
    "\n",
    "def testResult(model_trained,X_test):\n",
    "    y_pred_test=model_trained.predict(X_test)\n",
    "    return y_pred_test"
   ]
  },
  {
   "cell_type": "markdown",
   "id": "40f0b4ea",
   "metadata": {},
   "source": [
    "### 1. Logistic Regression"
   ]
  },
  {
   "cell_type": "code",
   "execution_count": 8,
   "id": "03b962ec",
   "metadata": {
    "scrolled": true
   },
   "outputs": [
    {
     "name": "stdout",
     "output_type": "stream",
     "text": [
      "tuned hpyerparameters :(best parameters)  {'C': 0.02894266124716749, 'solver': 'newton-cg'}\n",
      "accuracy : 0.7920547637751094\n"
     ]
    }
   ],
   "source": [
    "logReg = LogisticRegression(class_weight='auto', max_iter=200)\n",
    "grid = {\n",
    "    'C': np.logspace(-5, 0, 40),\n",
    "    'solver': ['newton-cg', 'lbfgs', 'sag', 'saga']\n",
    "}\n",
    "logReg_best=bestModel(logReg, X_train, X_cv, y_train, y_cv, grid)"
   ]
  },
  {
   "cell_type": "markdown",
   "id": "c5663670",
   "metadata": {},
   "source": [
    "### 2. K-Nearest neighbours"
   ]
  },
  {
   "cell_type": "code",
   "execution_count": null,
   "id": "a3fe5e1a",
   "metadata": {},
   "outputs": [],
   "source": [
    "knn = KNeighborsClassifier()\n",
    "grid = {\n",
    "    'n_neighbors': np.int0(np.linspace(3, 22, 20)),\n",
    "    'weights': ['uniform', 'distance'],\n",
    "    'algorithm': ['auto', 'ball_tree', 'kd_tree', 'brute']\n",
    "}\n",
    "knn_best=bestModel(knn, X_train, X_cv, y_train, y_cv, grid)"
   ]
  },
  {
   "cell_type": "markdown",
   "id": "af1392e2",
   "metadata": {},
   "source": [
    "### 3. Decision tree"
   ]
  },
  {
   "cell_type": "code",
   "execution_count": null,
   "id": "11ffdba0",
   "metadata": {},
   "outputs": [],
   "source": [
    "decTree = DecisionTreeClassifier()\n",
    "grid = {'criterion': ['gini', 'entropy'], 'splitter': ['best', 'random']}\n",
    "decTree_best=bestModel(decTree, X_train, X_cv, y_train, y_cv, grid)"
   ]
  },
  {
   "cell_type": "markdown",
   "id": "d47f041a",
   "metadata": {},
   "source": [
    "### 4. Random forest"
   ]
  },
  {
   "cell_type": "code",
   "execution_count": null,
   "id": "54f01b58",
   "metadata": {},
   "outputs": [],
   "source": [
    "rnFr = RandomForestClassifier()\n",
    "grid = {\n",
    "    'n_estimators': np.array([10,20,30]),\n",
    "    'criterion': ['gini', 'entropy']\n",
    "}\n",
    "rnFr_best=bestModel(rnFr, X_train, X_cv, y_train, y_cv, grid)"
   ]
  },
  {
   "cell_type": "markdown",
   "id": "57f907c4",
   "metadata": {},
   "source": [
    "### 5. SVM"
   ]
  },
  {
   "cell_type": "code",
   "execution_count": null,
   "id": "7c53698a",
   "metadata": {},
   "outputs": [],
   "source": [
    "svm = SVC()\n",
    "grid = {\n",
    "    'C': np.logspace(-5, 2, 10),\n",
    "    'kernel': ['linear', 'poly', 'rbf', 'sigmoid']\n",
    "}\n",
    "svm_best=bestModel(svm, X_train, X_cv, y_train, y_cv, grid)"
   ]
  },
  {
   "cell_type": "markdown",
   "id": "b2780b4f",
   "metadata": {},
   "source": [
    "### 6. ADABoost"
   ]
  },
  {
   "cell_type": "code",
   "execution_count": null,
   "id": "14778ced",
   "metadata": {},
   "outputs": [],
   "source": [
    "adab = AdaBoostClassifier()\n",
    "grid = {'algorithm': ['SAMME', 'SAMME.R']}\n",
    "adab_best=bestModel(adab, X_train, X_cv, y_train, y_cv, grid)"
   ]
  },
  {
   "cell_type": "markdown",
   "id": "8de113e6",
   "metadata": {},
   "source": [
    "### 7. XGBoost"
   ]
  },
  {
   "cell_type": "code",
   "execution_count": null,
   "id": "af652589",
   "metadata": {
    "scrolled": true
   },
   "outputs": [],
   "source": [
    "xgbst = xgb.XGBClassifier(use_label_encoder=False, objective='binary:logistic')\n",
    "grid = {'n_estimators': np.array([50, 70, 100])}\n",
    "xgbst_best=bestModel(xgbst, X_train, X_cv, y_train, y_cv, grid)"
   ]
  },
  {
   "cell_type": "markdown",
   "id": "f3ed6cda",
   "metadata": {},
   "source": [
    "### 8. Neural Network"
   ]
  },
  {
   "cell_type": "code",
   "execution_count": null,
   "id": "521881f5",
   "metadata": {},
   "outputs": [],
   "source": [
    "from tensorflow.keras.models import Sequential\n",
    "from tensorflow.keras.layers import Dense,Activation\n",
    "from tensorflow.keras.callbacks import EarlyStopping\n",
    "from tensorflow.keras.layers import Dropout"
   ]
  },
  {
   "cell_type": "code",
   "execution_count": null,
   "id": "29e5aa95",
   "metadata": {},
   "outputs": [],
   "source": [
    "ann_mod=Sequential()\n",
    "ann_mod.add(Dense(units=9,activation='relu'))\n",
    "ann_mod.add(Dropout(0.5))\n",
    "ann_mod.add(Dense(units=18,activation='relu'))\n",
    "ann_mod.add(Dropout(0.5))\n",
    "ann_mod.add(Dense(units=1,activation='sigmoid'))\n",
    "ann_mod.compile(optimizer='adam',loss='binary_crossentropy')"
   ]
  },
  {
   "cell_type": "code",
   "execution_count": null,
   "id": "1c2d1bd9",
   "metadata": {},
   "outputs": [],
   "source": [
    "early_stop = EarlyStopping(monitor='val_loss', mode='min', verbose=1, patience=25)"
   ]
  },
  {
   "cell_type": "code",
   "execution_count": null,
   "id": "ec9a22c5",
   "metadata": {},
   "outputs": [],
   "source": [
    "ann_mod.fit(x=X_train.values, \n",
    "          y=y_train.values, \n",
    "          epochs=600,\n",
    "          validation_data=(X_cv.values, y_cv.values), verbose=1,\n",
    "          callbacks=[early_stop])"
   ]
  },
  {
   "cell_type": "code",
   "execution_count": null,
   "id": "f6610ea5",
   "metadata": {
    "scrolled": true
   },
   "outputs": [],
   "source": [
    "model_loss=pd.DataFrame(ann_mod.history.history)\n",
    "model_loss.plot()"
   ]
  },
  {
   "cell_type": "code",
   "execution_count": null,
   "id": "967261f1",
   "metadata": {
    "scrolled": true
   },
   "outputs": [],
   "source": [
    "y_pred_tr = ann_mod.predict_classes(X_train.values)\n",
    "y_pred_cv = ann_mod.predict_classes(X_cv.values)\n",
    "precision_tr, recall_tr, fscore_tr, support_tr = precision_recall_fscore_support(\n",
    "    y_train.values, y_pred_tr, average='macro')\n",
    "precision_cv, recall_cv, fscore_cv, support_cv = precision_recall_fscore_support(\n",
    "    y_cv.values, y_pred_cv, average='macro')"
   ]
  },
  {
   "cell_type": "code",
   "execution_count": null,
   "id": "66573375",
   "metadata": {},
   "outputs": [],
   "source": [
    "print(precision_tr, recall_tr, fscore_tr, support_tr)\n",
    "print(precision_cv, recall_cv, fscore_cv, support_cv)"
   ]
  },
  {
   "cell_type": "code",
   "execution_count": null,
   "id": "323829a1",
   "metadata": {},
   "outputs": [],
   "source": [
    "ann_mod.save('ann_titanic.h5')\n"
   ]
  },
  {
   "cell_type": "markdown",
   "id": "86fc3a3e",
   "metadata": {},
   "source": [
    "## 3. Model testing"
   ]
  },
  {
   "cell_type": "code",
   "execution_count": null,
   "id": "b1f06ed3",
   "metadata": {},
   "outputs": [],
   "source": [
    "model_list=[logReg_best,knn_best,decTree_best,rnFr_best,svm_best,adab_best,xgbst_best]"
   ]
  },
  {
   "cell_type": "code",
   "execution_count": null,
   "id": "7de47ce1",
   "metadata": {
    "scrolled": true
   },
   "outputs": [],
   "source": [
    "for model in model_list:\n",
    "    print(str(model).split('(')[0])"
   ]
  },
  {
   "cell_type": "code",
   "execution_count": null,
   "id": "d9ebbe7e",
   "metadata": {},
   "outputs": [],
   "source": [
    "report_d={}\n",
    "for model in model_list:\n",
    "    name=str(model).split('(')[0]\n",
    "    filename = './models/'+name + '_titanic.model'    \n",
    "    report,mod=testModel(model, X_train, X_cv, y_train, y_cv)\n",
    "    pickle.dump(model, open(filename, 'wb'))\n",
    "    report_d[name]=report"
   ]
  },
  {
   "cell_type": "code",
   "execution_count": null,
   "id": "6dd832ed",
   "metadata": {},
   "outputs": [],
   "source": [
    "report_d"
   ]
  },
  {
   "cell_type": "code",
   "execution_count": null,
   "id": "7e6b9618",
   "metadata": {},
   "outputs": [],
   "source": []
  }
 ],
 "metadata": {
  "kernelspec": {
   "display_name": "Python 3",
   "language": "python",
   "name": "python3"
  },
  "language_info": {
   "codemirror_mode": {
    "name": "ipython",
    "version": 3
   },
   "file_extension": ".py",
   "mimetype": "text/x-python",
   "name": "python",
   "nbconvert_exporter": "python",
   "pygments_lexer": "ipython3",
   "version": "3.7.7"
  }
 },
 "nbformat": 4,
 "nbformat_minor": 5
}
