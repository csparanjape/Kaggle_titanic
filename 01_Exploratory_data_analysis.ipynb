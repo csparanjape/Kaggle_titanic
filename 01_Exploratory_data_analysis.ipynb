{
 "cells": [
  {
   "cell_type": "markdown",
   "id": "491ace13",
   "metadata": {},
   "source": [
    "# Exploratory Data analysis \n",
    "\n",
    "This notebook contains a code to inspect [Titanic dataset from Kaggle](https://www.kaggle.com/c/titanic).\n"
   ]
  },
  {
   "cell_type": "code",
   "execution_count": 1,
   "id": "76f47806",
   "metadata": {},
   "outputs": [],
   "source": [
    "import pandas as pd # Data analysis library\n",
    "\n",
    "# Plotting libraries\n",
    "import matplotlib.pyplot as plt\n",
    "import seaborn as sns\n",
    "\n",
    "%matplotlib inline\n",
    "fig_params={'legend.fontsize':18,\n",
    "          'axes.labelsize': 18,\n",
    "          'axes.titlesize':20,\n",
    "          'xtick.labelsize':16,\n",
    "          'ytick.labelsize':16,             \n",
    "          'axes.facecolor':'#D9DDD1'}\n",
    "plt.rcParams.update(fig_params)"
   ]
  },
  {
   "cell_type": "markdown",
   "id": "0eae6a69",
   "metadata": {},
   "source": [
    "## 1. Loading and overview of the dataset"
   ]
  },
  {
   "cell_type": "code",
   "execution_count": 2,
   "id": "5e753099",
   "metadata": {},
   "outputs": [],
   "source": [
    "df=pd.read_csv('./data/train.csv')"
   ]
  },
  {
   "cell_type": "code",
   "execution_count": 3,
   "id": "e0d00d4c",
   "metadata": {},
   "outputs": [
    {
     "name": "stdout",
     "output_type": "stream",
     "text": [
      "<class 'pandas.core.frame.DataFrame'>\n",
      "RangeIndex: 891 entries, 0 to 890\n",
      "Data columns (total 12 columns):\n",
      " #   Column       Non-Null Count  Dtype  \n",
      "---  ------       --------------  -----  \n",
      " 0   PassengerId  891 non-null    int64  \n",
      " 1   Survived     891 non-null    int64  \n",
      " 2   Pclass       891 non-null    int64  \n",
      " 3   Name         891 non-null    object \n",
      " 4   Sex          891 non-null    object \n",
      " 5   Age          714 non-null    float64\n",
      " 6   SibSp        891 non-null    int64  \n",
      " 7   Parch        891 non-null    int64  \n",
      " 8   Ticket       891 non-null    object \n",
      " 9   Fare         891 non-null    float64\n",
      " 10  Cabin        204 non-null    object \n",
      " 11  Embarked     889 non-null    object \n",
      "dtypes: float64(2), int64(5), object(5)\n",
      "memory usage: 83.7+ KB\n"
     ]
    }
   ],
   "source": [
    "df.info()"
   ]
  },
  {
   "cell_type": "code",
   "execution_count": 4,
   "id": "26a5b4cc",
   "metadata": {},
   "outputs": [
    {
     "data": {
      "text/html": [
       "<div>\n",
       "<style scoped>\n",
       "    .dataframe tbody tr th:only-of-type {\n",
       "        vertical-align: middle;\n",
       "    }\n",
       "\n",
       "    .dataframe tbody tr th {\n",
       "        vertical-align: top;\n",
       "    }\n",
       "\n",
       "    .dataframe thead th {\n",
       "        text-align: right;\n",
       "    }\n",
       "</style>\n",
       "<table border=\"1\" class=\"dataframe\">\n",
       "  <thead>\n",
       "    <tr style=\"text-align: right;\">\n",
       "      <th></th>\n",
       "      <th>PassengerId</th>\n",
       "      <th>Survived</th>\n",
       "      <th>Pclass</th>\n",
       "      <th>Age</th>\n",
       "      <th>SibSp</th>\n",
       "      <th>Parch</th>\n",
       "      <th>Fare</th>\n",
       "    </tr>\n",
       "  </thead>\n",
       "  <tbody>\n",
       "    <tr>\n",
       "      <th>count</th>\n",
       "      <td>891.000000</td>\n",
       "      <td>891.000000</td>\n",
       "      <td>891.000000</td>\n",
       "      <td>714.000000</td>\n",
       "      <td>891.000000</td>\n",
       "      <td>891.000000</td>\n",
       "      <td>891.000000</td>\n",
       "    </tr>\n",
       "    <tr>\n",
       "      <th>mean</th>\n",
       "      <td>446.000000</td>\n",
       "      <td>0.383838</td>\n",
       "      <td>2.308642</td>\n",
       "      <td>29.699118</td>\n",
       "      <td>0.523008</td>\n",
       "      <td>0.381594</td>\n",
       "      <td>32.204208</td>\n",
       "    </tr>\n",
       "    <tr>\n",
       "      <th>std</th>\n",
       "      <td>257.353842</td>\n",
       "      <td>0.486592</td>\n",
       "      <td>0.836071</td>\n",
       "      <td>14.526497</td>\n",
       "      <td>1.102743</td>\n",
       "      <td>0.806057</td>\n",
       "      <td>49.693429</td>\n",
       "    </tr>\n",
       "    <tr>\n",
       "      <th>min</th>\n",
       "      <td>1.000000</td>\n",
       "      <td>0.000000</td>\n",
       "      <td>1.000000</td>\n",
       "      <td>0.420000</td>\n",
       "      <td>0.000000</td>\n",
       "      <td>0.000000</td>\n",
       "      <td>0.000000</td>\n",
       "    </tr>\n",
       "    <tr>\n",
       "      <th>25%</th>\n",
       "      <td>223.500000</td>\n",
       "      <td>0.000000</td>\n",
       "      <td>2.000000</td>\n",
       "      <td>20.125000</td>\n",
       "      <td>0.000000</td>\n",
       "      <td>0.000000</td>\n",
       "      <td>7.910400</td>\n",
       "    </tr>\n",
       "    <tr>\n",
       "      <th>50%</th>\n",
       "      <td>446.000000</td>\n",
       "      <td>0.000000</td>\n",
       "      <td>3.000000</td>\n",
       "      <td>28.000000</td>\n",
       "      <td>0.000000</td>\n",
       "      <td>0.000000</td>\n",
       "      <td>14.454200</td>\n",
       "    </tr>\n",
       "    <tr>\n",
       "      <th>75%</th>\n",
       "      <td>668.500000</td>\n",
       "      <td>1.000000</td>\n",
       "      <td>3.000000</td>\n",
       "      <td>38.000000</td>\n",
       "      <td>1.000000</td>\n",
       "      <td>0.000000</td>\n",
       "      <td>31.000000</td>\n",
       "    </tr>\n",
       "    <tr>\n",
       "      <th>max</th>\n",
       "      <td>891.000000</td>\n",
       "      <td>1.000000</td>\n",
       "      <td>3.000000</td>\n",
       "      <td>80.000000</td>\n",
       "      <td>8.000000</td>\n",
       "      <td>6.000000</td>\n",
       "      <td>512.329200</td>\n",
       "    </tr>\n",
       "  </tbody>\n",
       "</table>\n",
       "</div>"
      ],
      "text/plain": [
       "       PassengerId    Survived      Pclass         Age       SibSp  \\\n",
       "count   891.000000  891.000000  891.000000  714.000000  891.000000   \n",
       "mean    446.000000    0.383838    2.308642   29.699118    0.523008   \n",
       "std     257.353842    0.486592    0.836071   14.526497    1.102743   \n",
       "min       1.000000    0.000000    1.000000    0.420000    0.000000   \n",
       "25%     223.500000    0.000000    2.000000   20.125000    0.000000   \n",
       "50%     446.000000    0.000000    3.000000   28.000000    0.000000   \n",
       "75%     668.500000    1.000000    3.000000   38.000000    1.000000   \n",
       "max     891.000000    1.000000    3.000000   80.000000    8.000000   \n",
       "\n",
       "            Parch        Fare  \n",
       "count  891.000000  891.000000  \n",
       "mean     0.381594   32.204208  \n",
       "std      0.806057   49.693429  \n",
       "min      0.000000    0.000000  \n",
       "25%      0.000000    7.910400  \n",
       "50%      0.000000   14.454200  \n",
       "75%      0.000000   31.000000  \n",
       "max      6.000000  512.329200  "
      ]
     },
     "execution_count": 4,
     "metadata": {},
     "output_type": "execute_result"
    }
   ],
   "source": [
    "df.describe()"
   ]
  },
  {
   "cell_type": "code",
   "execution_count": 5,
   "id": "88018d92",
   "metadata": {},
   "outputs": [
    {
     "data": {
      "text/html": [
       "<div>\n",
       "<style scoped>\n",
       "    .dataframe tbody tr th:only-of-type {\n",
       "        vertical-align: middle;\n",
       "    }\n",
       "\n",
       "    .dataframe tbody tr th {\n",
       "        vertical-align: top;\n",
       "    }\n",
       "\n",
       "    .dataframe thead th {\n",
       "        text-align: right;\n",
       "    }\n",
       "</style>\n",
       "<table border=\"1\" class=\"dataframe\">\n",
       "  <thead>\n",
       "    <tr style=\"text-align: right;\">\n",
       "      <th></th>\n",
       "      <th>PassengerId</th>\n",
       "      <th>Survived</th>\n",
       "      <th>Pclass</th>\n",
       "      <th>Name</th>\n",
       "      <th>Sex</th>\n",
       "      <th>Age</th>\n",
       "      <th>SibSp</th>\n",
       "      <th>Parch</th>\n",
       "      <th>Ticket</th>\n",
       "      <th>Fare</th>\n",
       "      <th>Cabin</th>\n",
       "      <th>Embarked</th>\n",
       "    </tr>\n",
       "  </thead>\n",
       "  <tbody>\n",
       "    <tr>\n",
       "      <th>0</th>\n",
       "      <td>1</td>\n",
       "      <td>0</td>\n",
       "      <td>3</td>\n",
       "      <td>Braund, Mr. Owen Harris</td>\n",
       "      <td>male</td>\n",
       "      <td>22.0</td>\n",
       "      <td>1</td>\n",
       "      <td>0</td>\n",
       "      <td>A/5 21171</td>\n",
       "      <td>7.2500</td>\n",
       "      <td>NaN</td>\n",
       "      <td>S</td>\n",
       "    </tr>\n",
       "    <tr>\n",
       "      <th>1</th>\n",
       "      <td>2</td>\n",
       "      <td>1</td>\n",
       "      <td>1</td>\n",
       "      <td>Cumings, Mrs. John Bradley (Florence Briggs Th...</td>\n",
       "      <td>female</td>\n",
       "      <td>38.0</td>\n",
       "      <td>1</td>\n",
       "      <td>0</td>\n",
       "      <td>PC 17599</td>\n",
       "      <td>71.2833</td>\n",
       "      <td>C85</td>\n",
       "      <td>C</td>\n",
       "    </tr>\n",
       "    <tr>\n",
       "      <th>2</th>\n",
       "      <td>3</td>\n",
       "      <td>1</td>\n",
       "      <td>3</td>\n",
       "      <td>Heikkinen, Miss. Laina</td>\n",
       "      <td>female</td>\n",
       "      <td>26.0</td>\n",
       "      <td>0</td>\n",
       "      <td>0</td>\n",
       "      <td>STON/O2. 3101282</td>\n",
       "      <td>7.9250</td>\n",
       "      <td>NaN</td>\n",
       "      <td>S</td>\n",
       "    </tr>\n",
       "    <tr>\n",
       "      <th>3</th>\n",
       "      <td>4</td>\n",
       "      <td>1</td>\n",
       "      <td>1</td>\n",
       "      <td>Futrelle, Mrs. Jacques Heath (Lily May Peel)</td>\n",
       "      <td>female</td>\n",
       "      <td>35.0</td>\n",
       "      <td>1</td>\n",
       "      <td>0</td>\n",
       "      <td>113803</td>\n",
       "      <td>53.1000</td>\n",
       "      <td>C123</td>\n",
       "      <td>S</td>\n",
       "    </tr>\n",
       "    <tr>\n",
       "      <th>4</th>\n",
       "      <td>5</td>\n",
       "      <td>0</td>\n",
       "      <td>3</td>\n",
       "      <td>Allen, Mr. William Henry</td>\n",
       "      <td>male</td>\n",
       "      <td>35.0</td>\n",
       "      <td>0</td>\n",
       "      <td>0</td>\n",
       "      <td>373450</td>\n",
       "      <td>8.0500</td>\n",
       "      <td>NaN</td>\n",
       "      <td>S</td>\n",
       "    </tr>\n",
       "  </tbody>\n",
       "</table>\n",
       "</div>"
      ],
      "text/plain": [
       "   PassengerId  Survived  Pclass  \\\n",
       "0            1         0       3   \n",
       "1            2         1       1   \n",
       "2            3         1       3   \n",
       "3            4         1       1   \n",
       "4            5         0       3   \n",
       "\n",
       "                                                Name     Sex   Age  SibSp  \\\n",
       "0                            Braund, Mr. Owen Harris    male  22.0      1   \n",
       "1  Cumings, Mrs. John Bradley (Florence Briggs Th...  female  38.0      1   \n",
       "2                             Heikkinen, Miss. Laina  female  26.0      0   \n",
       "3       Futrelle, Mrs. Jacques Heath (Lily May Peel)  female  35.0      1   \n",
       "4                           Allen, Mr. William Henry    male  35.0      0   \n",
       "\n",
       "   Parch            Ticket     Fare Cabin Embarked  \n",
       "0      0         A/5 21171   7.2500   NaN        S  \n",
       "1      0          PC 17599  71.2833   C85        C  \n",
       "2      0  STON/O2. 3101282   7.9250   NaN        S  \n",
       "3      0            113803  53.1000  C123        S  \n",
       "4      0            373450   8.0500   NaN        S  "
      ]
     },
     "execution_count": 5,
     "metadata": {},
     "output_type": "execute_result"
    }
   ],
   "source": [
    "df.head()"
   ]
  },
  {
   "cell_type": "markdown",
   "id": "59ef97c6",
   "metadata": {},
   "source": [
    "'Age', 'Cabin' and 'Embarked' features have few NaN values. \n",
    " Almost 77% values of 'Cabin' are NaN. Therefore, this feature is not included in any model."
   ]
  },
  {
   "cell_type": "markdown",
   "id": "f730e0cb",
   "metadata": {},
   "source": [
    "### **Inspect NaN values**"
   ]
  },
  {
   "cell_type": "code",
   "execution_count": 6,
   "id": "87ba829a",
   "metadata": {},
   "outputs": [
    {
     "data": {
      "image/png": "[encoded data removed]",
      "text/plain": [
       "<Figure size 720x576 with 2 Axes>"
      ]
     },
     "metadata": {
      "needs_background": "light"
     },
     "output_type": "display_data"
    }
   ],
   "source": [
    "fig=plt.figure(figsize=(10,8))\n",
    "sns.heatmap(df.isnull(),cmap='BuPu_r',yticklabels=False)\n",
    "plt.show()"
   ]
  },
  {
   "cell_type": "markdown",
   "id": "f06daf85",
   "metadata": {},
   "source": [
    "## 2. Exploratory data analysis"
   ]
  },
  {
   "cell_type": "markdown",
   "id": "0c46778d",
   "metadata": {},
   "source": [
    "### **People survived**"
   ]
  },
  {
   "cell_type": "code",
   "execution_count": 7,
   "id": "730aeb4b",
   "metadata": {
    "scrolled": true
   },
   "outputs": [
    {
     "name": "stdout",
     "output_type": "stream",
     "text": [
      "Total not survived : 549\n",
      "Total survived : 342\n"
     ]
    },
    {
     "name": "stderr",
     "output_type": "stream",
     "text": [
      "/home/chaitanya/anaconda3/lib/python3.8/site-packages/seaborn/_decorators.py:36: FutureWarning: Pass the following variable as a keyword arg: x. From version 0.12, the only valid positional argument will be `data`, and passing other arguments without an explicit keyword will result in an error or misinterpretation.\n",
      "  warnings.warn(\n"
     ]
    },
    {
     "data": {
      "image/png": "[encoded data removed]",
      "text/plain": [
       "<Figure size 432x288 with 1 Axes>"
      ]
     },
     "metadata": {},
     "output_type": "display_data"
    }
   ],
   "source": [
    "print('Total not survived :',(df['Survived']==0).sum())\n",
    "print('Total survived :',(df['Survived']==1).sum())\n",
    "\n",
    "sns.set_style('whitegrid')\n",
    "sns.countplot(df['Survived'])\n",
    "plt.show()"
   ]
  },
  {
   "cell_type": "code",
   "execution_count": 8,
   "id": "f73e00d3",
   "metadata": {},
   "outputs": [
    {
     "name": "stdout",
     "output_type": "stream",
     "text": [
      "Total number of survivors male  :  109\n",
      "Total number of survivors female :  233\n",
      "\n",
      "Total number of deaths male  :  468\n",
      "Total number of deaths female :  81\n"
     ]
    },
    {
     "data": {
      "image/png": "[encoded data removed]",
      "text/plain": [
       "<Figure size 432x288 with 1 Axes>"
      ]
     },
     "metadata": {},
     "output_type": "display_data"
    }
   ],
   "source": [
    "print('Total number of survivors male  : ',((df['Sex']=='male') & (df['Survived']==1)).sum())\n",
    "print('Total number of survivors female : ',((df['Sex']=='female') & (df['Survived']==1)).sum())\n",
    "print()\n",
    "print('Total number of deaths male  : ',((df['Sex']=='male') & (df['Survived']==0)).sum())\n",
    "print('Total number of deaths female : ',((df['Sex']=='female') & (df['Survived']==0)).sum())\n",
    "\n",
    "sns.countplot(x='Survived',hue='Sex',data=df)\n",
    "plt.show()"
   ]
  },
  {
   "cell_type": "code",
   "execution_count": 9,
   "id": "c01d3119",
   "metadata": {},
   "outputs": [
    {
     "name": "stdout",
     "output_type": "stream",
     "text": [
      "Total number of survivors Pclass 1 :  136\n",
      "Total number of survivors Pclass 2 :  87\n",
      "Total number of survivors Pclass 3 :  119\n",
      "\n",
      "Total number of deaths Pclass 1 :  80\n",
      "Total number of deaths Pclass 2 :  97\n",
      "Total number of deaths Pclass 3 :  372\n"
     ]
    },
    {
     "data": {
      "image/png": "[encoded data removed]",
      "text/plain": [
       "<Figure size 432x288 with 1 Axes>"
      ]
     },
     "metadata": {},
     "output_type": "display_data"
    }
   ],
   "source": [
    "print('Total number of survivors Pclass 1 : ',((df['Pclass']==1) & (df['Survived']==1)).sum())\n",
    "print('Total number of survivors Pclass 2 : ',((df['Pclass']==2) & (df['Survived']==1)).sum())\n",
    "print('Total number of survivors Pclass 3 : ',((df['Pclass']==3) & (df['Survived']==1)).sum())\n",
    "print()\n",
    "print('Total number of deaths Pclass 1 : ',((df['Pclass']==1) & (df['Survived']==0)).sum())\n",
    "print('Total number of deaths Pclass 2 : ',((df['Pclass']==2) & (df['Survived']==0)).sum())\n",
    "print('Total number of deaths Pclass 3 : ',((df['Pclass']==3) & (df['Survived']==0)).sum())\n",
    "\n",
    "sns.countplot(x='Survived',hue='Pclass',data=df)\n",
    "plt.show()"
   ]
  },
  {
   "cell_type": "code",
   "execution_count": 10,
   "id": "a3d81fe5",
   "metadata": {},
   "outputs": [
    {
     "name": "stdout",
     "output_type": "stream",
     "text": [
      "No. of Males in Pclass 1 :  122\n",
      "No. of females in Pclass 1 :  94\n",
      "\n",
      "No. of Males in Pclass 2 :  108\n",
      "No. of females in Pclass 2 :  76\n",
      "\n",
      "No. of Males in Pclass 3 :  347\n",
      "No. of females in Pclass 3 :  144\n"
     ]
    },
    {
     "data": {
      "image/png": "[encoded data removed]",
      "text/plain": [
       "<Figure size 432x288 with 1 Axes>"
      ]
     },
     "metadata": {},
     "output_type": "display_data"
    }
   ],
   "source": [
    "print('No. of Males in Pclass 1 : ',((df['Pclass']==1) & (df['Sex']=='male')).sum())\n",
    "print('No. of females in Pclass 1 : ',((df['Pclass']==1) & (df['Sex']=='female')).sum())\n",
    "print()\n",
    "print('No. of Males in Pclass 2 : ',((df['Pclass']==2) & (df['Sex']=='male')).sum())\n",
    "print('No. of females in Pclass 2 : ',((df['Pclass']==2) & (df['Sex']=='female')).sum())\n",
    "print()\n",
    "print('No. of Males in Pclass 3 : ',((df['Pclass']==3) & (df['Sex']=='male')).sum())\n",
    "print('No. of females in Pclass 3 : ',((df['Pclass']==3) & (df['Sex']=='female')).sum())\n",
    "\n",
    "sns.countplot(x='Sex',hue='Pclass',data=df)\n",
    "plt.show()"
   ]
  },
  {
   "cell_type": "code",
   "execution_count": 11,
   "id": "30bd07bb",
   "metadata": {},
   "outputs": [
    {
     "name": "stdout",
     "output_type": "stream",
     "text": [
      "Males in Pclass 1 (survived) :  45 \n",
      "  deaths :  77\n",
      "Females in Pclass 1 (survived) :  91 \n",
      "  deaths :  3\n",
      "\n",
      "Males in Pclass 2 (survived) :  17 \n",
      "  deaths :  91\n",
      "Females in Pclass 2 (survived) :  70 \n",
      "  deaths :  6\n",
      "\n",
      "Males in Pclass 3 (survived) :  47 \n",
      "  deaths :  300\n",
      "Females in Pclass 3 (survived) :  72 \n",
      "  deaths :  72\n",
      "\n"
     ]
    },
    {
     "data": {
      "image/png": "[encoded data removed]",
      "text/plain": [
       "<Figure size 1080x288 with 2 Axes>"
      ]
     },
     "metadata": {},
     "output_type": "display_data"
    }
   ],
   "source": [
    "df_male=df[df['Sex']=='male']\n",
    "df_female=df[df['Sex']=='female']\n",
    "\n",
    "print('Males in Pclass 1 (survived) : ',((df_male['Pclass']==1) & (df_male['Survived']==1)).sum(),\\\n",
    "      '\\n  deaths : ',((df_male['Pclass']==1) & (df_male['Survived']==0)).sum())\n",
    "print('Females in Pclass 1 (survived) : ',((df_female['Pclass']==1) & (df_female['Survived']==1)).sum(),\\\n",
    "      '\\n  deaths : ',((df_female['Pclass']==1) & (df_female['Survived']==0)).sum())\n",
    "print()\n",
    "print('Males in Pclass 2 (survived) : ',((df_male['Pclass']==2) & (df_male['Survived']==1)).sum(),\\\n",
    "      '\\n  deaths : ',((df_male['Pclass']==2) & (df_male['Survived']==0)).sum())\n",
    "print('Females in Pclass 2 (survived) : ',((df_female['Pclass']==2) & (df_female['Survived']==1)).sum(),\\\n",
    "      '\\n  deaths : ',((df_female['Pclass']==2) & (df_female['Survived']==0)).sum())\n",
    "print()\n",
    "print('Males in Pclass 3 (survived) : ',((df_male['Pclass']==3) & (df_male['Survived']==1)).sum(),\\\n",
    "      '\\n  deaths : ',((df_male['Pclass']==3) & (df_male['Survived']==0)).sum())\n",
    "print('Females in Pclass 3 (survived) : ',((df_female['Pclass']==3) & (df_female['Survived']==1)).sum(),\\\n",
    "      '\\n  deaths : ',((df_female['Pclass']==3) & (df_female['Survived']==0)).sum())\n",
    "print()\n",
    "\n",
    "\n",
    "\n",
    "fig,ax=plt.subplots(nrows=1,ncols=2,figsize=(15,4))\n",
    "sns.countplot(ax=ax[0],x='Pclass',hue='Survived',data=df_male)\n",
    "sns.countplot(ax=ax[1],x='Pclass',hue='Survived',data=df_female)\n",
    "ax[0].set_title('Male');ax[1].set_title('Female')\n",
    "plt.show()"
   ]
  },
  {
   "cell_type": "markdown",
   "id": "ed8e81dd",
   "metadata": {},
   "source": [
    "### **Age distribution**"
   ]
  },
  {
   "cell_type": "code",
   "execution_count": 12,
   "id": "45a622bb",
   "metadata": {},
   "outputs": [
    {
     "name": "stderr",
     "output_type": "stream",
     "text": [
      "/home/chaitanya/anaconda3/lib/python3.8/site-packages/seaborn/distributions.py:2557: FutureWarning: `distplot` is a deprecated function and will be removed in a future version. Please adapt your code to use either `displot` (a figure-level function with similar flexibility) or `histplot` (an axes-level function for histograms).\n",
      "  warnings.warn(msg, FutureWarning)\n"
     ]
    },
    {
     "data": {
      "image/png": "[encoded data removed]",
      "text/plain": [
       "<Figure size 1008x288 with 3 Axes>"
      ]
     },
     "metadata": {},
     "output_type": "display_data"
    }
   ],
   "source": [
    "fig,ax=plt.subplots(nrows=1,ncols=3,figsize=(14,4))\n",
    "fig.suptitle('Age distribution',fontsize=24)\n",
    "sns.distplot(ax=ax[0],x=df['Age'].dropna(),kde=False,bins=20,hist_kws=dict(alpha=0.8))\n",
    "sns.distplot(ax=ax[1],x=df['Age'][df['Sex']=='female'].dropna(),kde=False,bins=20,hist_kws=dict(alpha=0.8))\n",
    "sns.distplot(ax=ax[2],x=df['Age'][df['Sex']=='male'].dropna(),kde=False,bins=20,hist_kws=dict(alpha=0.8))\n",
    "ax[0].set_xlabel('All')\n",
    "ax[1].set_xlabel('Female')\n",
    "ax[2].set_xlabel('Male')\n",
    "plt.show()"
   ]
  },
  {
   "cell_type": "markdown",
   "id": "b5ef2b8b",
   "metadata": {},
   "source": [
    "### Passangers with siblings/spouce"
   ]
  },
  {
   "cell_type": "code",
   "execution_count": 13,
   "id": "f5feeced",
   "metadata": {},
   "outputs": [
    {
     "name": "stdout",
     "output_type": "stream",
     "text": [
      "Passangers without any siblings :  608\n"
     ]
    },
    {
     "data": {
      "image/png": "[encoded data removed]",
      "text/plain": [
       "<Figure size 432x288 with 1 Axes>"
      ]
     },
     "metadata": {},
     "output_type": "display_data"
    }
   ],
   "source": [
    "print('Passangers without any siblings : ',(df['SibSp']==0).sum())\n",
    "\n",
    "sns.countplot(x='SibSp',data=df)\n",
    "plt.show()"
   ]
  },
  {
   "cell_type": "markdown",
   "id": "8f680ecc",
   "metadata": {},
   "source": [
    "### Passangers with parents/children"
   ]
  },
  {
   "cell_type": "code",
   "execution_count": 14,
   "id": "5dfcdda0",
   "metadata": {
    "scrolled": true
   },
   "outputs": [
    {
     "name": "stdout",
     "output_type": "stream",
     "text": [
      "Passangers without any accompanying parents/children :  678\n"
     ]
    },
    {
     "data": {
      "image/png": "[encoded data removed]",
      "text/plain": [
       "<Figure size 432x288 with 1 Axes>"
      ]
     },
     "metadata": {},
     "output_type": "display_data"
    }
   ],
   "source": [
    "print('Passangers without any accompanying parents/children : ',(df['Parch']==0).sum())\n",
    "\n",
    "sns.countplot(x='Parch',data=df)\n",
    "plt.show()"
   ]
  },
  {
   "cell_type": "code",
   "execution_count": 18,
   "id": "2bf6b4fe",
   "metadata": {},
   "outputs": [
    {
     "data": {
      "text/html": [
       "<div>\n",
       "<style scoped>\n",
       "    .dataframe tbody tr th:only-of-type {\n",
       "        vertical-align: middle;\n",
       "    }\n",
       "\n",
       "    .dataframe tbody tr th {\n",
       "        vertical-align: top;\n",
       "    }\n",
       "\n",
       "    .dataframe thead th {\n",
       "        text-align: right;\n",
       "    }\n",
       "</style>\n",
       "<table border=\"1\" class=\"dataframe\">\n",
       "  <thead>\n",
       "    <tr style=\"text-align: right;\">\n",
       "      <th></th>\n",
       "      <th>PassengerId</th>\n",
       "      <th>Survived</th>\n",
       "      <th>Pclass</th>\n",
       "      <th>Name</th>\n",
       "      <th>Sex</th>\n",
       "      <th>Age</th>\n",
       "      <th>SibSp</th>\n",
       "      <th>Parch</th>\n",
       "      <th>Ticket</th>\n",
       "      <th>Fare</th>\n",
       "      <th>Cabin</th>\n",
       "      <th>Embarked</th>\n",
       "    </tr>\n",
       "  </thead>\n",
       "  <tbody>\n",
       "    <tr>\n",
       "      <th>7</th>\n",
       "      <td>8</td>\n",
       "      <td>0</td>\n",
       "      <td>3</td>\n",
       "      <td>Palsson, Master. Gosta Leonard</td>\n",
       "      <td>male</td>\n",
       "      <td>2.0</td>\n",
       "      <td>3</td>\n",
       "      <td>1</td>\n",
       "      <td>349909</td>\n",
       "      <td>21.0750</td>\n",
       "      <td>NaN</td>\n",
       "      <td>S</td>\n",
       "    </tr>\n",
       "    <tr>\n",
       "      <th>10</th>\n",
       "      <td>11</td>\n",
       "      <td>1</td>\n",
       "      <td>3</td>\n",
       "      <td>Sandstrom, Miss. Marguerite Rut</td>\n",
       "      <td>female</td>\n",
       "      <td>4.0</td>\n",
       "      <td>1</td>\n",
       "      <td>1</td>\n",
       "      <td>PP 9549</td>\n",
       "      <td>16.7000</td>\n",
       "      <td>G6</td>\n",
       "      <td>S</td>\n",
       "    </tr>\n",
       "    <tr>\n",
       "      <th>16</th>\n",
       "      <td>17</td>\n",
       "      <td>0</td>\n",
       "      <td>3</td>\n",
       "      <td>Rice, Master. Eugene</td>\n",
       "      <td>male</td>\n",
       "      <td>2.0</td>\n",
       "      <td>4</td>\n",
       "      <td>1</td>\n",
       "      <td>382652</td>\n",
       "      <td>29.1250</td>\n",
       "      <td>NaN</td>\n",
       "      <td>Q</td>\n",
       "    </tr>\n",
       "    <tr>\n",
       "      <th>24</th>\n",
       "      <td>25</td>\n",
       "      <td>0</td>\n",
       "      <td>3</td>\n",
       "      <td>Palsson, Miss. Torborg Danira</td>\n",
       "      <td>female</td>\n",
       "      <td>8.0</td>\n",
       "      <td>3</td>\n",
       "      <td>1</td>\n",
       "      <td>349909</td>\n",
       "      <td>21.0750</td>\n",
       "      <td>NaN</td>\n",
       "      <td>S</td>\n",
       "    </tr>\n",
       "    <tr>\n",
       "      <th>50</th>\n",
       "      <td>51</td>\n",
       "      <td>0</td>\n",
       "      <td>3</td>\n",
       "      <td>Panula, Master. Juha Niilo</td>\n",
       "      <td>male</td>\n",
       "      <td>7.0</td>\n",
       "      <td>4</td>\n",
       "      <td>1</td>\n",
       "      <td>3101295</td>\n",
       "      <td>39.6875</td>\n",
       "      <td>NaN</td>\n",
       "      <td>S</td>\n",
       "    </tr>\n",
       "    <tr>\n",
       "      <th>...</th>\n",
       "      <td>...</td>\n",
       "      <td>...</td>\n",
       "      <td>...</td>\n",
       "      <td>...</td>\n",
       "      <td>...</td>\n",
       "      <td>...</td>\n",
       "      <td>...</td>\n",
       "      <td>...</td>\n",
       "      <td>...</td>\n",
       "      <td>...</td>\n",
       "      <td>...</td>\n",
       "      <td>...</td>\n",
       "    </tr>\n",
       "    <tr>\n",
       "      <th>856</th>\n",
       "      <td>857</td>\n",
       "      <td>1</td>\n",
       "      <td>1</td>\n",
       "      <td>Wick, Mrs. George Dennick (Mary Hitchcock)</td>\n",
       "      <td>female</td>\n",
       "      <td>45.0</td>\n",
       "      <td>1</td>\n",
       "      <td>1</td>\n",
       "      <td>36928</td>\n",
       "      <td>164.8667</td>\n",
       "      <td>NaN</td>\n",
       "      <td>S</td>\n",
       "    </tr>\n",
       "    <tr>\n",
       "      <th>869</th>\n",
       "      <td>870</td>\n",
       "      <td>1</td>\n",
       "      <td>3</td>\n",
       "      <td>Johnson, Master. Harold Theodor</td>\n",
       "      <td>male</td>\n",
       "      <td>4.0</td>\n",
       "      <td>1</td>\n",
       "      <td>1</td>\n",
       "      <td>347742</td>\n",
       "      <td>11.1333</td>\n",
       "      <td>NaN</td>\n",
       "      <td>S</td>\n",
       "    </tr>\n",
       "    <tr>\n",
       "      <th>871</th>\n",
       "      <td>872</td>\n",
       "      <td>1</td>\n",
       "      <td>1</td>\n",
       "      <td>Beckwith, Mrs. Richard Leonard (Sallie Monypeny)</td>\n",
       "      <td>female</td>\n",
       "      <td>47.0</td>\n",
       "      <td>1</td>\n",
       "      <td>1</td>\n",
       "      <td>11751</td>\n",
       "      <td>52.5542</td>\n",
       "      <td>D35</td>\n",
       "      <td>S</td>\n",
       "    </tr>\n",
       "    <tr>\n",
       "      <th>879</th>\n",
       "      <td>880</td>\n",
       "      <td>1</td>\n",
       "      <td>1</td>\n",
       "      <td>Potter, Mrs. Thomas Jr (Lily Alexenia Wilson)</td>\n",
       "      <td>female</td>\n",
       "      <td>56.0</td>\n",
       "      <td>0</td>\n",
       "      <td>1</td>\n",
       "      <td>11767</td>\n",
       "      <td>83.1583</td>\n",
       "      <td>C50</td>\n",
       "      <td>C</td>\n",
       "    </tr>\n",
       "    <tr>\n",
       "      <th>880</th>\n",
       "      <td>881</td>\n",
       "      <td>1</td>\n",
       "      <td>2</td>\n",
       "      <td>Shelley, Mrs. William (Imanita Parrish Hall)</td>\n",
       "      <td>female</td>\n",
       "      <td>25.0</td>\n",
       "      <td>0</td>\n",
       "      <td>1</td>\n",
       "      <td>230433</td>\n",
       "      <td>26.0000</td>\n",
       "      <td>NaN</td>\n",
       "      <td>S</td>\n",
       "    </tr>\n",
       "  </tbody>\n",
       "</table>\n",
       "<p>118 rows × 12 columns</p>\n",
       "</div>"
      ],
      "text/plain": [
       "     PassengerId  Survived  Pclass  \\\n",
       "7              8         0       3   \n",
       "10            11         1       3   \n",
       "16            17         0       3   \n",
       "24            25         0       3   \n",
       "50            51         0       3   \n",
       "..           ...       ...     ...   \n",
       "856          857         1       1   \n",
       "869          870         1       3   \n",
       "871          872         1       1   \n",
       "879          880         1       1   \n",
       "880          881         1       2   \n",
       "\n",
       "                                                 Name     Sex   Age  SibSp  \\\n",
       "7                      Palsson, Master. Gosta Leonard    male   2.0      3   \n",
       "10                    Sandstrom, Miss. Marguerite Rut  female   4.0      1   \n",
       "16                               Rice, Master. Eugene    male   2.0      4   \n",
       "24                      Palsson, Miss. Torborg Danira  female   8.0      3   \n",
       "50                         Panula, Master. Juha Niilo    male   7.0      4   \n",
       "..                                                ...     ...   ...    ...   \n",
       "856        Wick, Mrs. George Dennick (Mary Hitchcock)  female  45.0      1   \n",
       "869                   Johnson, Master. Harold Theodor    male   4.0      1   \n",
       "871  Beckwith, Mrs. Richard Leonard (Sallie Monypeny)  female  47.0      1   \n",
       "879     Potter, Mrs. Thomas Jr (Lily Alexenia Wilson)  female  56.0      0   \n",
       "880      Shelley, Mrs. William (Imanita Parrish Hall)  female  25.0      0   \n",
       "\n",
       "     Parch   Ticket      Fare Cabin Embarked  \n",
       "7        1   349909   21.0750   NaN        S  \n",
       "10       1  PP 9549   16.7000    G6        S  \n",
       "16       1   382652   29.1250   NaN        Q  \n",
       "24       1   349909   21.0750   NaN        S  \n",
       "50       1  3101295   39.6875   NaN        S  \n",
       "..     ...      ...       ...   ...      ...  \n",
       "856      1    36928  164.8667   NaN        S  \n",
       "869      1   347742   11.1333   NaN        S  \n",
       "871      1    11751   52.5542   D35        S  \n",
       "879      1    11767   83.1583   C50        C  \n",
       "880      1   230433   26.0000   NaN        S  \n",
       "\n",
       "[118 rows x 12 columns]"
      ]
     },
     "execution_count": 18,
     "metadata": {},
     "output_type": "execute_result"
    }
   ],
   "source": [
    "df[df['Parch']==1]"
   ]
  },
  {
   "cell_type": "markdown",
   "id": "0deb5135",
   "metadata": {},
   "source": [
    "### Fare distribution"
   ]
  },
  {
   "cell_type": "code",
   "execution_count": 16,
   "id": "902fde66",
   "metadata": {},
   "outputs": [
    {
     "data": {
      "image/png": "[encoded data removed]",
      "text/plain": [
       "<Figure size 1008x288 with 1 Axes>"
      ]
     },
     "metadata": {},
     "output_type": "display_data"
    }
   ],
   "source": [
    "fig,ax=plt.subplots(nrows=1,ncols=1,figsize=(14,4))\n",
    "sns.histplot(x='Fare',data=df,hue='Pclass',bins=50,palette='viridis_r',alpha=0.9)\n",
    "plt.show()"
   ]
  }
 ],
 "metadata": {
  "kernelspec": {
   "display_name": "Python 3",
   "language": "python",
   "name": "python3"
  },
  "language_info": {
   "codemirror_mode": {
    "name": "ipython",
    "version": 3
   },
   "file_extension": ".py",
   "mimetype": "text/x-python",
   "name": "python",
   "nbconvert_exporter": "python",
   "pygments_lexer": "ipython3",
   "version": "3.8.8"
  }
 },
 "nbformat": 4,
 "nbformat_minor": 5
}
